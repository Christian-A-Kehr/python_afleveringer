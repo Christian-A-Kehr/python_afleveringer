{
 "cells": [
  {
   "cell_type": "markdown",
   "metadata": {},
   "source": [
    "Handin Exercise 6\n",
    "\n",
    "Create a module containing a class with the following methods:\n",
    "\n",
    "    1. init(self, url_list)\n",
    "    2. download(url,filename) raises NotFoundException when url returns 404\n",
    "    3. multi_download() uses threads to download multiple urls as text and stores filenames as a property\n",
    "    4. iter() returns an iterator\n",
    "    5. next() returns the next filename (and stops when there are no more)\n",
    "    6. urllist_generator() returns a generator to loop through the urls\n",
    "    7. avg_vowels(text) - a rough estimate on readability returns average number of vowels in the words of the text\n",
    "    8. hardest_read() returns the filename of the text with the highest vowel score (use all the cpu cores on the computer for this work.\n",
    "\n",
    "Ex 2\n",
    "\n",
    "Create a notebook and import your module from above\n",
    "\n",
    "   1. Find 10 books on https://www.gutenberg.org/browse/scores/top and download them using an object of the class you just created before\n",
    "    2. Test the different methods of your class\n",
    "    3. Make a bar plot with a sorted list of books on x-axis and avg vowels on y-axis\n",
    "\n"
   ]
  },
  {
   "cell_type": "code",
   "execution_count": 40,
   "metadata": {},
   "outputs": [
    {
     "name": "stdout",
     "output_type": "stream",
     "text": [
      "Subject0.txt\n",
      "Subject1.txt\n",
      "['Subject0.txt', 'Subject1.txt', 'Subject2.txt', 'Subject3.txt', 'Subject4.txt', 'Subject5.txt', 'Subject6.txt', 'Subject7.txt', 'Subject8.txt', 'Subject9.txt']\n",
      "most average vowels:  ('Subject1.txt', 2.0917094508183047)\n"
     ]
    }
   ],
   "source": [
    "#1.1-8 = see Modules.exc6\n",
    "#2 \n",
    "%reload_ext autoreload\n",
    "%autoreload 2\n",
    "from Modules.exc6 import BookHandler \n",
    "\n",
    "book_urls = ['https://www.gutenberg.org/files/1342/1342-h/1342-h.htm',\n",
    "             'https://www.gutenberg.org/files/16328/16328-h/16328-h.htm',\n",
    "            'https://www.gutenberg.org/files/25344/25344-h/25344-h.htm',\n",
    "            'https://www.gutenberg.org/files/1250/1250-h/1250-h.htm',\n",
    "            'https://www.gutenberg.org/files/84/84-h/84-h.htm',\n",
    "            'https://www.gutenberg.org/files/1952/1952-h/1952-h.htm',\n",
    "            'https://www.gutenberg.org/files/11/11-h/11-h.htm',\n",
    "            'https://www.gutenberg.org/files/2542/2542-h/2542-h.htm',\n",
    "            'https://www.gutenberg.org/files/23/23-h/23-h.htm',\n",
    "            'https://www.gutenberg.org/files/1080/1080-h/1080-h.htm']\n",
    "\n",
    "bh = BookHandler(book_urls)\n",
    "\n",
    "bh.multiple_download()\n",
    "\n",
    "bh_iterator = iter(bh)\n",
    "print(next(bh_iterator))\n",
    "print(next(bh_iterator))\n",
    "\n",
    "print(bh.files)\n",
    "\n",
    "print('most average vowels: ',bh.hardest_read())"
   ]
  },
  {
   "cell_type": "code",
   "execution_count": null,
   "metadata": {},
   "outputs": [],
   "source": []
  }
 ],
 "metadata": {
  "kernelspec": {
   "display_name": "Python 3",
   "language": "python",
   "name": "python3"
  },
  "language_info": {
   "codemirror_mode": {
    "name": "ipython",
    "version": 3
   },
   "file_extension": ".py",
   "mimetype": "text/x-python",
   "name": "python",
   "nbconvert_exporter": "python",
   "pygments_lexer": "ipython3",
   "version": "3.7.6"
  }
 },
 "nbformat": 4,
 "nbformat_minor": 4
}
