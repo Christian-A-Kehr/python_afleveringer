{
 "cells": [
  {
   "cell_type": "markdown",
   "metadata": {},
   "source": [
    "# Exercise\n",
    "\n",
    "    1. Create 5 list comprehensions to solve the following 5 problems:\n",
    "      A. Iterate a list of names to return a list of the names starting with H\n",
    "      B. In one line create a list of the numbers 1-100 to the power of 3\n",
    "      C. Iterate a list of names to create a list of tuples where the tuples\n",
    "         first value is the length of the name and the second is the name\n",
    "      D. Iterate over each character in a string and get only those that are\n",
    "         nummeric\n",
    "      E. Using only a list comprehension wrapped in set() get all possible\n",
    "         combination from throwing 2 dice (hint use 2 for loops in a single\n",
    "         list comprehension)\n",
    "\n",
    "    2. Create 2 dictionary comprehensions to solve the following:\n",
    "       A. Iterate a list of names and create a dictionary where key is the\n",
    "          name and value is the length of the name\n",
    "       B. Iterate a list of numbers and create a dictionary with {key:value}\n",
    "          being {number:squareroot_of_number}\n",
    "\n",
    "    3. Extra assignment (This one goes beyond what is covered in the course \n",
    "       notebooks. So only do it if you want an extra challenge).\n",
    "       \n",
    "       * Progammatically using loops create a small program to produce a\n",
    "         dictionary with all the 2 dice throw combinations as keys and their\n",
    "         likelyhood in percent as values\n",
    "         \n",
    "         \n",
    "         \n",
    "\n"
   ]
  },
  {
   "cell_type": "markdown",
   "metadata": {},
   "source": [
    "1A. Iterate a list of names to return a list of the names starting with H"
   ]
  },
  {
   "cell_type": "code",
   "execution_count": 8,
   "metadata": {},
   "outputs": [
    {
     "name": "stdout",
     "output_type": "stream",
     "text": [
      "['Henry', 'Henriette', 'hans']\n",
      "['Henry', 'Henriette', 'hans']\n"
     ]
    }
   ],
   "source": [
    "names = [\"Henry\", \"Lasse\", \"John\", \"Henriette\", \"hans\"]\n",
    "looking_for = [\"h\", \"H\"]\n",
    "my_result = [name for name in names if (name[0] in looking_for)]\n",
    "print (my_result)\n",
    "\n",
    "#comprehension can only works if all if statements is true = not possible to use; or.\n",
    "# alternativ is to make name uppercase with .upper()\n",
    "h_names = [name for name in names if name.upper().startswith(\"H\")]     \n",
    "\n",
    "print (h_names) "
   ]
  },
  {
   "cell_type": "markdown",
   "metadata": {},
   "source": [
    "1B. In one line create a list of the numbers 1-100 to the power of 3"
   ]
  },
  {
   "cell_type": "code",
   "execution_count": 39,
   "metadata": {},
   "outputs": [
    {
     "name": "stdout",
     "output_type": "stream",
     "text": [
      "[1, 8, 27, 64, 125, 216, 343, 512, 729, 1000, 1331, 1728, 2197, 2744, 3375, 4096, 4913, 5832, 6859, 8000, 9261, 10648, 12167, 13824, 15625, 17576, 19683, 21952, 24389, 27000, 29791, 32768, 35937, 39304, 42875, 46656, 50653, 54872, 59319, 64000, 68921, 74088, 79507, 85184, 91125, 97336, 103823, 110592, 117649, 125000, 132651, 140608, 148877, 157464, 166375, 175616, 185193, 195112, 205379, 216000, 226981, 238328, 250047, 262144, 274625, 287496, 300763, 314432, 328509, 343000, 357911, 373248, 389017, 405224, 421875, 438976, 456533, 474552, 493039, 512000, 531441, 551368, 571787, 592704, 614125, 636056, 658503, 681472, 704969, 729000, 753571, 778688, 804357, 830584, 857375, 884736, 912673, 941192, 970299, 1000000]\n"
     ]
    }
   ],
   "source": [
    "powerOf3 = [x**3 for x in range(1,101)]\n",
    "print (powerOf3)"
   ]
  },
  {
   "cell_type": "markdown",
   "metadata": {},
   "source": [
    "1C. Iterate a list of names to create a list of tuples where the tuples\n",
    "         first value is the length of the name and the second is the name"
   ]
  },
  {
   "cell_type": "code",
   "execution_count": 2,
   "metadata": {},
   "outputs": [
    {
     "name": "stdout",
     "output_type": "stream",
     "text": [
      "[(2, 'Po'), (3, 'Bob'), (4, 'John'), (5, 'Chris')]\n"
     ]
    }
   ],
   "source": [
    "listOftuples = []\n",
    "name_list = [\"Po\", \"Bob\", \"John\", \"Chris\"]\n",
    "\n",
    "list_of_tuples = [(len(name), name) for name in name_list]\n",
    "print (list_of_tuples)"
   ]
  },
  {
   "cell_type": "markdown",
   "metadata": {},
   "source": [
    "1D. Iterate over each character in a string and get only those that are\n",
    "         nummeric"
   ]
  },
  {
   "cell_type": "code",
   "execution_count": 55,
   "metadata": {},
   "outputs": [
    {
     "name": "stdout",
     "output_type": "stream",
     "text": [
      "['2', '4', '4', '2']\n"
     ]
    }
   ],
   "source": [
    "myStr = \"Iwant2go4coffe 42\"\n",
    "\n",
    "resulte = [i for i in myStr if i.isdigit()]\n",
    "\n",
    "print (resulte)"
   ]
  },
  {
   "cell_type": "markdown",
   "metadata": {},
   "source": [
    "1E. Using only a list comprehension wrapped in set() get all possible\n",
    "         combination from throwing 2 dice (hint use 2 for loops in a single\n",
    "         list comprehension)"
   ]
  },
  {
   "cell_type": "code",
   "execution_count": 115,
   "metadata": {},
   "outputs": [
    {
     "name": "stdout",
     "output_type": "stream",
     "text": [
      "number of dice sides = (1, 2, 3, 4, 5, 6)\n",
      "posible combination:\n",
      "[[1, 1], [1, 2], [1, 3], [1, 4], [1, 5], [1, 6], [2, 1], [2, 2], [2, 3], [2, 4], [2, 5], [2, 6], [3, 1], [3, 2], [3, 3], [3, 4], [3, 5], [3, 6], [4, 1], [4, 2], [4, 3], [4, 4], [4, 5], [4, 6], [5, 1], [5, 2], [5, 3], [5, 4], [5, 5], [5, 6], [6, 1], [6, 2], [6, 3], [6, 4], [6, 5], [6, 6]]\n",
      "-----------------\n",
      " comprehension: \n",
      "{'5, 3', '3, 2', '6, 5', '1, 4', '5, 5', '6, 4', '2, 2', '5, 2', '2, 6', '5, 6', '3, 4', '1, 5', '2, 1', '3, 3', '3, 6', '2, 5', '1, 2', '5, 4', '6, 3', '6, 1', '4, 1', '1, 6', '5, 1', '3, 5', '4, 3', '4, 4', '2, 4', '4, 5', '4, 2', '6, 6', '4, 6', '6, 2', '1, 3', '2, 3', '1, 1', '3, 1'}\n",
      "-----------------\n",
      "cartesian_product:\n",
      "{(1, 3), (6, 6), (5, 6), (2, 1), (6, 2), (1, 6), (5, 1), (2, 5), (1, 2), (3, 3), (5, 5), (4, 4), (6, 3), (1, 5), (3, 6), (2, 2), (4, 1), (1, 1), (6, 4), (3, 2), (2, 6), (5, 4), (4, 5), (5, 2), (1, 4), (2, 3), (4, 2), (6, 5), (3, 5), (5, 3), (4, 6), (6, 1), (3, 1), (4, 3), (3, 4), (2, 4)}\n"
     ]
    }
   ],
   "source": [
    "dice = tuple(range(1,7))\n",
    "\n",
    "dice_combo = []\n",
    "\n",
    "for x in dice:\n",
    "    for y in dice:\n",
    "        dice_combo.append([x,y])\n",
    "\n",
    "print (\"number of dice sides = \" +  str(dice))\n",
    "print (\"posible combination:\")  \n",
    "print (dice_combo)\n",
    "print (\"-----------------\")\n",
    "resultee = set(str(x) +\", \"+ str(y) for x in dice for y in dice)\n",
    "print (\" comprehension: \") \n",
    "print (resultee)\n",
    "print (\"-----------------\")\n",
    "print (\"cartesian_product:\")\n",
    "cartesian_product = set([(d1, d2) for d1 in range(1,7) for d2 in range(1,7)])\n",
    "print (cartesian_product)"
   ]
  },
  {
   "cell_type": "markdown",
   "metadata": {},
   "source": [
    "2A.  Iterate a list of names and create a dictionary where key is the\n",
    "          name and value is the length of the name"
   ]
  },
  {
   "cell_type": "code",
   "execution_count": 5,
   "metadata": {},
   "outputs": [
    {
     "name": "stdout",
     "output_type": "stream",
     "text": [
      "Names to add to dictionari:['bob', 'Judy', 'Johntan', 'Chris']\n",
      "{3: 'bob', 4: 'Judy', 7: 'Johntan', 5: 'Chris'}\n"
     ]
    }
   ],
   "source": [
    "name_list = [\"bob\",\"Judy\", \"Johntan\" , \"Chris\"]\n",
    "print (\"Names to add to dictionari:\" + str(namelist))\n",
    "my_dictionari = {}\n",
    "\n",
    "for name in name_list:\n",
    "    key = len(name)\n",
    "    my_dictionari[key] = name\n",
    "    \n",
    "print (my_dictionari)\n"
   ]
  },
  {
   "cell_type": "markdown",
   "metadata": {},
   "source": [
    "2B. Iterate a list of numbers and create a dictionary with {key:value}\n",
    "          being {number:squareroot_of_number}"
   ]
  },
  {
   "cell_type": "code",
   "execution_count": 16,
   "metadata": {},
   "outputs": [
    {
     "name": "stdout",
     "output_type": "stream",
     "text": [
      "1: 1.0\n",
      "2: 1.4142135623730951\n",
      "3: 1.7320508075688772\n",
      "4: 2.0\n",
      "5: 2.23606797749979\n"
     ]
    }
   ],
   "source": [
    "import math\n",
    "list_of_numbers = [1,2,3,4,5]\n",
    "\n",
    "\n",
    "number_dictionari = {}\n",
    "\n",
    "for number in list_of_numbers:\n",
    "    number_dictionari[number] = math.sqrt(number)\n",
    "    print (str(number) + \": \" +  str(number_dictionari[number]))"
   ]
  },
  {
   "cell_type": "code",
   "execution_count": null,
   "metadata": {},
   "outputs": [],
   "source": []
  }
 ],
 "metadata": {
  "kernelspec": {
   "display_name": "Python 3",
   "language": "python",
   "name": "python3"
  },
  "language_info": {
   "codemirror_mode": {
    "name": "ipython",
    "version": 3
   },
   "file_extension": ".py",
   "mimetype": "text/x-python",
   "name": "python",
   "nbconvert_exporter": "python",
   "pygments_lexer": "ipython3",
   "version": "3.7.6"
  }
 },
 "nbformat": 4,
 "nbformat_minor": 4
}
