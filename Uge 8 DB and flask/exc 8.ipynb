{
 "cells": [
  {
   "cell_type": "markdown",
   "metadata": {},
   "source": [
    "URL:\n",
    "https://www.kaggle.com/thomaskonstantin/top-270-rated-computer-science-programing-books\n",
    "\n",
    "\n",
    "Opgaver:\n",
    "Download data fra link\n",
    "Opret en database ud fra ovenstående datastruktur\n",
    "Indsæt alt data i den oprettede database, fra den downloade fil\n",
    "Opret en flask server\n",
    "Lav følgende endpoints samt tilhørende funktioner\n",
    "api/books (Returnerer alle bøger i databasen)\n",
    "api/books/top10 (Returnerer de 10 bøger med højest rating)\n",
    "api/books/newbook (Opretter en ny bog i databasen)\n",
    "api/book/deletebook/{id} (Sletter en bog med valgte id)\n",
    "api/book/editbook/{id} (Redigerer en bog med valgte id)\n",
    "api/book/avgprice (Returnerer gennemsnitsprisen for en bog)\n",
    "Test endpoints i Postman eller lignende.\n"
   ]
  },
  {
   "cell_type": "code",
   "execution_count": null,
   "metadata": {},
   "outputs": [],
   "source": [
    "#Download data fra link\n",
    "#placed in folder"
   ]
  }
 ],
 "metadata": {
  "kernelspec": {
   "display_name": "Python 3",
   "language": "python",
   "name": "python3"
  },
  "language_info": {
   "codemirror_mode": {
    "name": "ipython",
    "version": 3
   },
   "file_extension": ".py",
   "mimetype": "text/x-python",
   "name": "python",
   "nbconvert_exporter": "python",
   "pygments_lexer": "ipython3",
   "version": "3.7.6"
  }
 },
 "nbformat": 4,
 "nbformat_minor": 4
}
