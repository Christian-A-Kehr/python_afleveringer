{
 "cells": [
  {
   "cell_type": "markdown",
   "metadata": {},
   "source": []
  },
  {
   "cell_type": "markdown",
   "metadata": {},
   "source": [
    "\n",
    "Link til opgave: https://docs.google.com/document/d/1jb6_LgLbVwkT_lf0lUngw--1tFNWPCJPBrzGh9jgFJg/edit?usp=sharing\n",
    "Spørgsmål\n",
    "\n",
    "1) Hvilket land i Norden (Danmark, Finland, Island, Norge og Sverige) har samlet set flest ‘Video Views’ beregnet ud fra hvert lands top 250? Lav et pie chart, som viser fordelingen.\n",
    "\n",
    "2) Hvilken ‘Channel Type’ har samlet set flest uploads ud fra top 250 for hver ‘Channel Type’? Vis fordelingen af uploads pr. ‘Channel Type’ med et bar plot.\n",
    "\n",
    "3) Hvordan er fordelingen af ‘Channel Type’ på danmarks top 250 youtube kanaler fordelt på most subscribers? Vis dette med et bar plot.\n",
    "URL: https://socialblade.com/youtube/top/\n"
   ]
  },
  {
   "cell_type": "code",
   "execution_count": 2,
   "metadata": {},
   "outputs": [],
   "source": [
    "from selenium import webdriver\n",
    "from selenium.webdriver.firefox.options import Options\n",
    "from tqdm import tqdm\n",
    "from concurrent.futures import ThreadPoolExecutor\n",
    "from concurrent.futures import ProcessPoolExecutor\n",
    "import multiprocessing\n",
    "import matplotlib.pyplot as plt\n",
    "import numpy as np\n",
    "\n",
    "# running headless\n",
    "options = Options()\n",
    "options.headless = True"
   ]
  },
  {
   "cell_type": "code",
   "execution_count": 3,
   "metadata": {},
   "outputs": [
    {
     "name": "stderr",
     "output_type": "stream",
     "text": [
      "100%|██████████| 250/250 [00:20<00:00, 12.26it/s]\n",
      "100%|██████████| 250/250 [00:18<00:00, 13.74it/s]\n",
      "100%|██████████| 250/250 [00:17<00:00, 14.63it/s]\n",
      "100%|██████████| 250/250 [00:17<00:00, 14.59it/s]\n",
      "100%|██████████| 250/250 [00:14<00:00, 17.39it/s]\n"
     ]
    },
    {
     "name": "stdout",
     "output_type": "stream",
     "text": [
      "[('dk', 17866760282), ('fi', 27935308708), ('is', 3854448786), ('no', 39521459435), ('se', 52106650925)]\n"
     ]
    }
   ],
   "source": [
    "\n",
    "\n",
    "contries = ['dk', 'fi', 'is', 'no', 'se']\n",
    "\n",
    "def total_views_top_250_by_country(country_code):\n",
    "    views = 0\n",
    "    url = 'https://socialblade.com/youtube/top/country/{}'.format(country_code)\n",
    "    browser = webdriver.Firefox(options=options)\n",
    "    browser.get(url)\n",
    "    browser.implicitly_wait(3)\n",
    "    \n",
    "    for i in tqdm(range(5, 255)):\n",
    "        div = browser.find_element_by_xpath('/html/body/div[11]/div[2]/div[{}]'.format(i))\n",
    "        data_list = div.find_elements_by_tag_name('div')\n",
    "        views += int(data_list[5].text.replace(',', ''))\n",
    "    \n",
    "    browser.quit()\n",
    "    \n",
    "    return country_code, views\n",
    "\n",
    "def total_views_list(func, args, workers=multiprocessing.cpu_count()):\n",
    "    with ProcessPoolExecutor(workers) as ex:\n",
    "        res = ex.map(func, args)\n",
    "        return list(res)\n",
    "    \n",
    "    #with ThreadPoolExecutor(len(args)) as ex:\n",
    "        #res = tqdm(ex.map(total_views_top_250_by_country, contries), total=len(contries))\n",
    "        #return list(res)\n",
    "\n",
    "total_views_list = total_views_list(total_views_top_250_by_country, contries)\n",
    "print(total_views_list)\n",
    "\n"
   ]
  },
  {
   "cell_type": "code",
   "execution_count": 4,
   "metadata": {},
   "outputs": [
    {
     "data": {
      "application/javascript": [
       "/* Put everything inside the global mpl namespace */\n",
       "window.mpl = {};\n",
       "\n",
       "\n",
       "mpl.get_websocket_type = function() {\n",
       "    if (typeof(WebSocket) !== 'undefined') {\n",
       "        return WebSocket;\n",
       "    } else if (typeof(MozWebSocket) !== 'undefined') {\n",
       "        return MozWebSocket;\n",
       "    } else {\n",
       "        alert('Your browser does not have WebSocket support. ' +\n",
       "              'Please try Chrome, Safari or Firefox ≥ 6. ' +\n",
       "              'Firefox 4 and 5 are also supported but you ' +\n",
       "              'have to enable WebSockets in about:config.');\n",
       "    };\n",
       "}\n",
       "\n",
       "mpl.figure = function(figure_id, websocket, ondownload, parent_element) {\n",
       "    this.id = figure_id;\n",
       "\n",
       "    this.ws = websocket;\n",
       "\n",
       "    this.supports_binary = (this.ws.binaryType != undefined);\n",
       "\n",
       "    if (!this.supports_binary) {\n",
       "        var warnings = document.getElementById(\"mpl-warnings\");\n",
       "        if (warnings) {\n",
       "            warnings.style.display = 'block';\n",
       "            warnings.textContent = (\n",
       "                \"This browser does not support binary websocket messages. \" +\n",
       "                    \"Performance may be slow.\");\n",
       "        }\n",
       "    }\n",
       "\n",
       "    this.imageObj = new Image();\n",
       "\n",
       "    this.context = undefined;\n",
       "    this.message = undefined;\n",
       "    this.canvas = undefined;\n",
       "    this.rubberband_canvas = undefined;\n",
       "    this.rubberband_context = undefined;\n",
       "    this.format_dropdown = undefined;\n",
       "\n",
       "    this.image_mode = 'full';\n",
       "\n",
       "    this.root = $('<div/>');\n",
       "    this._root_extra_style(this.root)\n",
       "    this.root.attr('style', 'display: inline-block');\n",
       "\n",
       "    $(parent_element).append(this.root);\n",
       "\n",
       "    this._init_header(this);\n",
       "    this._init_canvas(this);\n",
       "    this._init_toolbar(this);\n",
       "\n",
       "    var fig = this;\n",
       "\n",
       "    this.waiting = false;\n",
       "\n",
       "    this.ws.onopen =  function () {\n",
       "            fig.send_message(\"supports_binary\", {value: fig.supports_binary});\n",
       "            fig.send_message(\"send_image_mode\", {});\n",
       "            if (mpl.ratio != 1) {\n",
       "                fig.send_message(\"set_dpi_ratio\", {'dpi_ratio': mpl.ratio});\n",
       "            }\n",
       "            fig.send_message(\"refresh\", {});\n",
       "        }\n",
       "\n",
       "    this.imageObj.onload = function() {\n",
       "            if (fig.image_mode == 'full') {\n",
       "                // Full images could contain transparency (where diff images\n",
       "                // almost always do), so we need to clear the canvas so that\n",
       "                // there is no ghosting.\n",
       "                fig.context.clearRect(0, 0, fig.canvas.width, fig.canvas.height);\n",
       "            }\n",
       "            fig.context.drawImage(fig.imageObj, 0, 0);\n",
       "        };\n",
       "\n",
       "    this.imageObj.onunload = function() {\n",
       "        fig.ws.close();\n",
       "    }\n",
       "\n",
       "    this.ws.onmessage = this._make_on_message_function(this);\n",
       "\n",
       "    this.ondownload = ondownload;\n",
       "}\n",
       "\n",
       "mpl.figure.prototype._init_header = function() {\n",
       "    var titlebar = $(\n",
       "        '<div class=\"ui-dialog-titlebar ui-widget-header ui-corner-all ' +\n",
       "        'ui-helper-clearfix\"/>');\n",
       "    var titletext = $(\n",
       "        '<div class=\"ui-dialog-title\" style=\"width: 100%; ' +\n",
       "        'text-align: center; padding: 3px;\"/>');\n",
       "    titlebar.append(titletext)\n",
       "    this.root.append(titlebar);\n",
       "    this.header = titletext[0];\n",
       "}\n",
       "\n",
       "\n",
       "\n",
       "mpl.figure.prototype._canvas_extra_style = function(canvas_div) {\n",
       "\n",
       "}\n",
       "\n",
       "\n",
       "mpl.figure.prototype._root_extra_style = function(canvas_div) {\n",
       "\n",
       "}\n",
       "\n",
       "mpl.figure.prototype._init_canvas = function() {\n",
       "    var fig = this;\n",
       "\n",
       "    var canvas_div = $('<div/>');\n",
       "\n",
       "    canvas_div.attr('style', 'position: relative; clear: both; outline: 0');\n",
       "\n",
       "    function canvas_keyboard_event(event) {\n",
       "        return fig.key_event(event, event['data']);\n",
       "    }\n",
       "\n",
       "    canvas_div.keydown('key_press', canvas_keyboard_event);\n",
       "    canvas_div.keyup('key_release', canvas_keyboard_event);\n",
       "    this.canvas_div = canvas_div\n",
       "    this._canvas_extra_style(canvas_div)\n",
       "    this.root.append(canvas_div);\n",
       "\n",
       "    var canvas = $('<canvas/>');\n",
       "    canvas.addClass('mpl-canvas');\n",
       "    canvas.attr('style', \"left: 0; top: 0; z-index: 0; outline: 0\")\n",
       "\n",
       "    this.canvas = canvas[0];\n",
       "    this.context = canvas[0].getContext(\"2d\");\n",
       "\n",
       "    var backingStore = this.context.backingStorePixelRatio ||\n",
       "\tthis.context.webkitBackingStorePixelRatio ||\n",
       "\tthis.context.mozBackingStorePixelRatio ||\n",
       "\tthis.context.msBackingStorePixelRatio ||\n",
       "\tthis.context.oBackingStorePixelRatio ||\n",
       "\tthis.context.backingStorePixelRatio || 1;\n",
       "\n",
       "    mpl.ratio = (window.devicePixelRatio || 1) / backingStore;\n",
       "\n",
       "    var rubberband = $('<canvas/>');\n",
       "    rubberband.attr('style', \"position: absolute; left: 0; top: 0; z-index: 1;\")\n",
       "\n",
       "    var pass_mouse_events = true;\n",
       "\n",
       "    canvas_div.resizable({\n",
       "        start: function(event, ui) {\n",
       "            pass_mouse_events = false;\n",
       "        },\n",
       "        resize: function(event, ui) {\n",
       "            fig.request_resize(ui.size.width, ui.size.height);\n",
       "        },\n",
       "        stop: function(event, ui) {\n",
       "            pass_mouse_events = true;\n",
       "            fig.request_resize(ui.size.width, ui.size.height);\n",
       "        },\n",
       "    });\n",
       "\n",
       "    function mouse_event_fn(event) {\n",
       "        if (pass_mouse_events)\n",
       "            return fig.mouse_event(event, event['data']);\n",
       "    }\n",
       "\n",
       "    rubberband.mousedown('button_press', mouse_event_fn);\n",
       "    rubberband.mouseup('button_release', mouse_event_fn);\n",
       "    // Throttle sequential mouse events to 1 every 20ms.\n",
       "    rubberband.mousemove('motion_notify', mouse_event_fn);\n",
       "\n",
       "    rubberband.mouseenter('figure_enter', mouse_event_fn);\n",
       "    rubberband.mouseleave('figure_leave', mouse_event_fn);\n",
       "\n",
       "    canvas_div.on(\"wheel\", function (event) {\n",
       "        event = event.originalEvent;\n",
       "        event['data'] = 'scroll'\n",
       "        if (event.deltaY < 0) {\n",
       "            event.step = 1;\n",
       "        } else {\n",
       "            event.step = -1;\n",
       "        }\n",
       "        mouse_event_fn(event);\n",
       "    });\n",
       "\n",
       "    canvas_div.append(canvas);\n",
       "    canvas_div.append(rubberband);\n",
       "\n",
       "    this.rubberband = rubberband;\n",
       "    this.rubberband_canvas = rubberband[0];\n",
       "    this.rubberband_context = rubberband[0].getContext(\"2d\");\n",
       "    this.rubberband_context.strokeStyle = \"#000000\";\n",
       "\n",
       "    this._resize_canvas = function(width, height) {\n",
       "        // Keep the size of the canvas, canvas container, and rubber band\n",
       "        // canvas in synch.\n",
       "        canvas_div.css('width', width)\n",
       "        canvas_div.css('height', height)\n",
       "\n",
       "        canvas.attr('width', width * mpl.ratio);\n",
       "        canvas.attr('height', height * mpl.ratio);\n",
       "        canvas.attr('style', 'width: ' + width + 'px; height: ' + height + 'px;');\n",
       "\n",
       "        rubberband.attr('width', width);\n",
       "        rubberband.attr('height', height);\n",
       "    }\n",
       "\n",
       "    // Set the figure to an initial 600x600px, this will subsequently be updated\n",
       "    // upon first draw.\n",
       "    this._resize_canvas(600, 600);\n",
       "\n",
       "    // Disable right mouse context menu.\n",
       "    $(this.rubberband_canvas).bind(\"contextmenu\",function(e){\n",
       "        return false;\n",
       "    });\n",
       "\n",
       "    function set_focus () {\n",
       "        canvas.focus();\n",
       "        canvas_div.focus();\n",
       "    }\n",
       "\n",
       "    window.setTimeout(set_focus, 100);\n",
       "}\n",
       "\n",
       "mpl.figure.prototype._init_toolbar = function() {\n",
       "    var fig = this;\n",
       "\n",
       "    var nav_element = $('<div/>');\n",
       "    nav_element.attr('style', 'width: 100%');\n",
       "    this.root.append(nav_element);\n",
       "\n",
       "    // Define a callback function for later on.\n",
       "    function toolbar_event(event) {\n",
       "        return fig.toolbar_button_onclick(event['data']);\n",
       "    }\n",
       "    function toolbar_mouse_event(event) {\n",
       "        return fig.toolbar_button_onmouseover(event['data']);\n",
       "    }\n",
       "\n",
       "    for(var toolbar_ind in mpl.toolbar_items) {\n",
       "        var name = mpl.toolbar_items[toolbar_ind][0];\n",
       "        var tooltip = mpl.toolbar_items[toolbar_ind][1];\n",
       "        var image = mpl.toolbar_items[toolbar_ind][2];\n",
       "        var method_name = mpl.toolbar_items[toolbar_ind][3];\n",
       "\n",
       "        if (!name) {\n",
       "            // put a spacer in here.\n",
       "            continue;\n",
       "        }\n",
       "        var button = $('<button/>');\n",
       "        button.addClass('ui-button ui-widget ui-state-default ui-corner-all ' +\n",
       "                        'ui-button-icon-only');\n",
       "        button.attr('role', 'button');\n",
       "        button.attr('aria-disabled', 'false');\n",
       "        button.click(method_name, toolbar_event);\n",
       "        button.mouseover(tooltip, toolbar_mouse_event);\n",
       "\n",
       "        var icon_img = $('<span/>');\n",
       "        icon_img.addClass('ui-button-icon-primary ui-icon');\n",
       "        icon_img.addClass(image);\n",
       "        icon_img.addClass('ui-corner-all');\n",
       "\n",
       "        var tooltip_span = $('<span/>');\n",
       "        tooltip_span.addClass('ui-button-text');\n",
       "        tooltip_span.html(tooltip);\n",
       "\n",
       "        button.append(icon_img);\n",
       "        button.append(tooltip_span);\n",
       "\n",
       "        nav_element.append(button);\n",
       "    }\n",
       "\n",
       "    var fmt_picker_span = $('<span/>');\n",
       "\n",
       "    var fmt_picker = $('<select/>');\n",
       "    fmt_picker.addClass('mpl-toolbar-option ui-widget ui-widget-content');\n",
       "    fmt_picker_span.append(fmt_picker);\n",
       "    nav_element.append(fmt_picker_span);\n",
       "    this.format_dropdown = fmt_picker[0];\n",
       "\n",
       "    for (var ind in mpl.extensions) {\n",
       "        var fmt = mpl.extensions[ind];\n",
       "        var option = $(\n",
       "            '<option/>', {selected: fmt === mpl.default_extension}).html(fmt);\n",
       "        fmt_picker.append(option);\n",
       "    }\n",
       "\n",
       "    // Add hover states to the ui-buttons\n",
       "    $( \".ui-button\" ).hover(\n",
       "        function() { $(this).addClass(\"ui-state-hover\");},\n",
       "        function() { $(this).removeClass(\"ui-state-hover\");}\n",
       "    );\n",
       "\n",
       "    var status_bar = $('<span class=\"mpl-message\"/>');\n",
       "    nav_element.append(status_bar);\n",
       "    this.message = status_bar[0];\n",
       "}\n",
       "\n",
       "mpl.figure.prototype.request_resize = function(x_pixels, y_pixels) {\n",
       "    // Request matplotlib to resize the figure. Matplotlib will then trigger a resize in the client,\n",
       "    // which will in turn request a refresh of the image.\n",
       "    this.send_message('resize', {'width': x_pixels, 'height': y_pixels});\n",
       "}\n",
       "\n",
       "mpl.figure.prototype.send_message = function(type, properties) {\n",
       "    properties['type'] = type;\n",
       "    properties['figure_id'] = this.id;\n",
       "    this.ws.send(JSON.stringify(properties));\n",
       "}\n",
       "\n",
       "mpl.figure.prototype.send_draw_message = function() {\n",
       "    if (!this.waiting) {\n",
       "        this.waiting = true;\n",
       "        this.ws.send(JSON.stringify({type: \"draw\", figure_id: this.id}));\n",
       "    }\n",
       "}\n",
       "\n",
       "\n",
       "mpl.figure.prototype.handle_save = function(fig, msg) {\n",
       "    var format_dropdown = fig.format_dropdown;\n",
       "    var format = format_dropdown.options[format_dropdown.selectedIndex].value;\n",
       "    fig.ondownload(fig, format);\n",
       "}\n",
       "\n",
       "\n",
       "mpl.figure.prototype.handle_resize = function(fig, msg) {\n",
       "    var size = msg['size'];\n",
       "    if (size[0] != fig.canvas.width || size[1] != fig.canvas.height) {\n",
       "        fig._resize_canvas(size[0], size[1]);\n",
       "        fig.send_message(\"refresh\", {});\n",
       "    };\n",
       "}\n",
       "\n",
       "mpl.figure.prototype.handle_rubberband = function(fig, msg) {\n",
       "    var x0 = msg['x0'] / mpl.ratio;\n",
       "    var y0 = (fig.canvas.height - msg['y0']) / mpl.ratio;\n",
       "    var x1 = msg['x1'] / mpl.ratio;\n",
       "    var y1 = (fig.canvas.height - msg['y1']) / mpl.ratio;\n",
       "    x0 = Math.floor(x0) + 0.5;\n",
       "    y0 = Math.floor(y0) + 0.5;\n",
       "    x1 = Math.floor(x1) + 0.5;\n",
       "    y1 = Math.floor(y1) + 0.5;\n",
       "    var min_x = Math.min(x0, x1);\n",
       "    var min_y = Math.min(y0, y1);\n",
       "    var width = Math.abs(x1 - x0);\n",
       "    var height = Math.abs(y1 - y0);\n",
       "\n",
       "    fig.rubberband_context.clearRect(\n",
       "        0, 0, fig.canvas.width / mpl.ratio, fig.canvas.height / mpl.ratio);\n",
       "\n",
       "    fig.rubberband_context.strokeRect(min_x, min_y, width, height);\n",
       "}\n",
       "\n",
       "mpl.figure.prototype.handle_figure_label = function(fig, msg) {\n",
       "    // Updates the figure title.\n",
       "    fig.header.textContent = msg['label'];\n",
       "}\n",
       "\n",
       "mpl.figure.prototype.handle_cursor = function(fig, msg) {\n",
       "    var cursor = msg['cursor'];\n",
       "    switch(cursor)\n",
       "    {\n",
       "    case 0:\n",
       "        cursor = 'pointer';\n",
       "        break;\n",
       "    case 1:\n",
       "        cursor = 'default';\n",
       "        break;\n",
       "    case 2:\n",
       "        cursor = 'crosshair';\n",
       "        break;\n",
       "    case 3:\n",
       "        cursor = 'move';\n",
       "        break;\n",
       "    }\n",
       "    fig.rubberband_canvas.style.cursor = cursor;\n",
       "}\n",
       "\n",
       "mpl.figure.prototype.handle_message = function(fig, msg) {\n",
       "    fig.message.textContent = msg['message'];\n",
       "}\n",
       "\n",
       "mpl.figure.prototype.handle_draw = function(fig, msg) {\n",
       "    // Request the server to send over a new figure.\n",
       "    fig.send_draw_message();\n",
       "}\n",
       "\n",
       "mpl.figure.prototype.handle_image_mode = function(fig, msg) {\n",
       "    fig.image_mode = msg['mode'];\n",
       "}\n",
       "\n",
       "mpl.figure.prototype.updated_canvas_event = function() {\n",
       "    // Called whenever the canvas gets updated.\n",
       "    this.send_message(\"ack\", {});\n",
       "}\n",
       "\n",
       "// A function to construct a web socket function for onmessage handling.\n",
       "// Called in the figure constructor.\n",
       "mpl.figure.prototype._make_on_message_function = function(fig) {\n",
       "    return function socket_on_message(evt) {\n",
       "        if (evt.data instanceof Blob) {\n",
       "            /* FIXME: We get \"Resource interpreted as Image but\n",
       "             * transferred with MIME type text/plain:\" errors on\n",
       "             * Chrome.  But how to set the MIME type?  It doesn't seem\n",
       "             * to be part of the websocket stream */\n",
       "            evt.data.type = \"image/png\";\n",
       "\n",
       "            /* Free the memory for the previous frames */\n",
       "            if (fig.imageObj.src) {\n",
       "                (window.URL || window.webkitURL).revokeObjectURL(\n",
       "                    fig.imageObj.src);\n",
       "            }\n",
       "\n",
       "            fig.imageObj.src = (window.URL || window.webkitURL).createObjectURL(\n",
       "                evt.data);\n",
       "            fig.updated_canvas_event();\n",
       "            fig.waiting = false;\n",
       "            return;\n",
       "        }\n",
       "        else if (typeof evt.data === 'string' && evt.data.slice(0, 21) == \"data:image/png;base64\") {\n",
       "            fig.imageObj.src = evt.data;\n",
       "            fig.updated_canvas_event();\n",
       "            fig.waiting = false;\n",
       "            return;\n",
       "        }\n",
       "\n",
       "        var msg = JSON.parse(evt.data);\n",
       "        var msg_type = msg['type'];\n",
       "\n",
       "        // Call the  \"handle_{type}\" callback, which takes\n",
       "        // the figure and JSON message as its only arguments.\n",
       "        try {\n",
       "            var callback = fig[\"handle_\" + msg_type];\n",
       "        } catch (e) {\n",
       "            console.log(\"No handler for the '\" + msg_type + \"' message type: \", msg);\n",
       "            return;\n",
       "        }\n",
       "\n",
       "        if (callback) {\n",
       "            try {\n",
       "                // console.log(\"Handling '\" + msg_type + \"' message: \", msg);\n",
       "                callback(fig, msg);\n",
       "            } catch (e) {\n",
       "                console.log(\"Exception inside the 'handler_\" + msg_type + \"' callback:\", e, e.stack, msg);\n",
       "            }\n",
       "        }\n",
       "    };\n",
       "}\n",
       "\n",
       "// from http://stackoverflow.com/questions/1114465/getting-mouse-location-in-canvas\n",
       "mpl.findpos = function(e) {\n",
       "    //this section is from http://www.quirksmode.org/js/events_properties.html\n",
       "    var targ;\n",
       "    if (!e)\n",
       "        e = window.event;\n",
       "    if (e.target)\n",
       "        targ = e.target;\n",
       "    else if (e.srcElement)\n",
       "        targ = e.srcElement;\n",
       "    if (targ.nodeType == 3) // defeat Safari bug\n",
       "        targ = targ.parentNode;\n",
       "\n",
       "    // jQuery normalizes the pageX and pageY\n",
       "    // pageX,Y are the mouse positions relative to the document\n",
       "    // offset() returns the position of the element relative to the document\n",
       "    var x = e.pageX - $(targ).offset().left;\n",
       "    var y = e.pageY - $(targ).offset().top;\n",
       "\n",
       "    return {\"x\": x, \"y\": y};\n",
       "};\n",
       "\n",
       "/*\n",
       " * return a copy of an object with only non-object keys\n",
       " * we need this to avoid circular references\n",
       " * http://stackoverflow.com/a/24161582/3208463\n",
       " */\n",
       "function simpleKeys (original) {\n",
       "  return Object.keys(original).reduce(function (obj, key) {\n",
       "    if (typeof original[key] !== 'object')\n",
       "        obj[key] = original[key]\n",
       "    return obj;\n",
       "  }, {});\n",
       "}\n",
       "\n",
       "mpl.figure.prototype.mouse_event = function(event, name) {\n",
       "    var canvas_pos = mpl.findpos(event)\n",
       "\n",
       "    if (name === 'button_press')\n",
       "    {\n",
       "        this.canvas.focus();\n",
       "        this.canvas_div.focus();\n",
       "    }\n",
       "\n",
       "    var x = canvas_pos.x * mpl.ratio;\n",
       "    var y = canvas_pos.y * mpl.ratio;\n",
       "\n",
       "    this.send_message(name, {x: x, y: y, button: event.button,\n",
       "                             step: event.step,\n",
       "                             guiEvent: simpleKeys(event)});\n",
       "\n",
       "    /* This prevents the web browser from automatically changing to\n",
       "     * the text insertion cursor when the button is pressed.  We want\n",
       "     * to control all of the cursor setting manually through the\n",
       "     * 'cursor' event from matplotlib */\n",
       "    event.preventDefault();\n",
       "    return false;\n",
       "}\n",
       "\n",
       "mpl.figure.prototype._key_event_extra = function(event, name) {\n",
       "    // Handle any extra behaviour associated with a key event\n",
       "}\n",
       "\n",
       "mpl.figure.prototype.key_event = function(event, name) {\n",
       "\n",
       "    // Prevent repeat events\n",
       "    if (name == 'key_press')\n",
       "    {\n",
       "        if (event.which === this._key)\n",
       "            return;\n",
       "        else\n",
       "            this._key = event.which;\n",
       "    }\n",
       "    if (name == 'key_release')\n",
       "        this._key = null;\n",
       "\n",
       "    var value = '';\n",
       "    if (event.ctrlKey && event.which != 17)\n",
       "        value += \"ctrl+\";\n",
       "    if (event.altKey && event.which != 18)\n",
       "        value += \"alt+\";\n",
       "    if (event.shiftKey && event.which != 16)\n",
       "        value += \"shift+\";\n",
       "\n",
       "    value += 'k';\n",
       "    value += event.which.toString();\n",
       "\n",
       "    this._key_event_extra(event, name);\n",
       "\n",
       "    this.send_message(name, {key: value,\n",
       "                             guiEvent: simpleKeys(event)});\n",
       "    return false;\n",
       "}\n",
       "\n",
       "mpl.figure.prototype.toolbar_button_onclick = function(name) {\n",
       "    if (name == 'download') {\n",
       "        this.handle_save(this, null);\n",
       "    } else {\n",
       "        this.send_message(\"toolbar_button\", {name: name});\n",
       "    }\n",
       "};\n",
       "\n",
       "mpl.figure.prototype.toolbar_button_onmouseover = function(tooltip) {\n",
       "    this.message.textContent = tooltip;\n",
       "};\n",
       "mpl.toolbar_items = [[\"Home\", \"Reset original view\", \"fa fa-home icon-home\", \"home\"], [\"Back\", \"Back to previous view\", \"fa fa-arrow-left icon-arrow-left\", \"back\"], [\"Forward\", \"Forward to next view\", \"fa fa-arrow-right icon-arrow-right\", \"forward\"], [\"\", \"\", \"\", \"\"], [\"Pan\", \"Pan axes with left mouse, zoom with right\", \"fa fa-arrows icon-move\", \"pan\"], [\"Zoom\", \"Zoom to rectangle\", \"fa fa-square-o icon-check-empty\", \"zoom\"], [\"\", \"\", \"\", \"\"], [\"Download\", \"Download plot\", \"fa fa-floppy-o icon-save\", \"download\"]];\n",
       "\n",
       "mpl.extensions = [\"eps\", \"jpeg\", \"pdf\", \"png\", \"ps\", \"raw\", \"svg\", \"tif\"];\n",
       "\n",
       "mpl.default_extension = \"png\";var comm_websocket_adapter = function(comm) {\n",
       "    // Create a \"websocket\"-like object which calls the given IPython comm\n",
       "    // object with the appropriate methods. Currently this is a non binary\n",
       "    // socket, so there is still some room for performance tuning.\n",
       "    var ws = {};\n",
       "\n",
       "    ws.close = function() {\n",
       "        comm.close()\n",
       "    };\n",
       "    ws.send = function(m) {\n",
       "        //console.log('sending', m);\n",
       "        comm.send(m);\n",
       "    };\n",
       "    // Register the callback with on_msg.\n",
       "    comm.on_msg(function(msg) {\n",
       "        //console.log('receiving', msg['content']['data'], msg);\n",
       "        // Pass the mpl event to the overridden (by mpl) onmessage function.\n",
       "        ws.onmessage(msg['content']['data'])\n",
       "    });\n",
       "    return ws;\n",
       "}\n",
       "\n",
       "mpl.mpl_figure_comm = function(comm, msg) {\n",
       "    // This is the function which gets called when the mpl process\n",
       "    // starts-up an IPython Comm through the \"matplotlib\" channel.\n",
       "\n",
       "    var id = msg.content.data.id;\n",
       "    // Get hold of the div created by the display call when the Comm\n",
       "    // socket was opened in Python.\n",
       "    var element = $(\"#\" + id);\n",
       "    var ws_proxy = comm_websocket_adapter(comm)\n",
       "\n",
       "    function ondownload(figure, format) {\n",
       "        window.open(figure.imageObj.src);\n",
       "    }\n",
       "\n",
       "    var fig = new mpl.figure(id, ws_proxy,\n",
       "                           ondownload,\n",
       "                           element.get(0));\n",
       "\n",
       "    // Call onopen now - mpl needs it, as it is assuming we've passed it a real\n",
       "    // web socket which is closed, not our websocket->open comm proxy.\n",
       "    ws_proxy.onopen();\n",
       "\n",
       "    fig.parent_element = element.get(0);\n",
       "    fig.cell_info = mpl.find_output_cell(\"<div id='\" + id + \"'></div>\");\n",
       "    if (!fig.cell_info) {\n",
       "        console.error(\"Failed to find cell for figure\", id, fig);\n",
       "        return;\n",
       "    }\n",
       "\n",
       "    var output_index = fig.cell_info[2]\n",
       "    var cell = fig.cell_info[0];\n",
       "\n",
       "};\n",
       "\n",
       "mpl.figure.prototype.handle_close = function(fig, msg) {\n",
       "    var width = fig.canvas.width/mpl.ratio\n",
       "    fig.root.unbind('remove')\n",
       "\n",
       "    // Update the output cell to use the data from the current canvas.\n",
       "    fig.push_to_output();\n",
       "    var dataURL = fig.canvas.toDataURL();\n",
       "    // Re-enable the keyboard manager in IPython - without this line, in FF,\n",
       "    // the notebook keyboard shortcuts fail.\n",
       "    IPython.keyboard_manager.enable()\n",
       "    $(fig.parent_element).html('<img src=\"' + dataURL + '\" width=\"' + width + '\">');\n",
       "    fig.close_ws(fig, msg);\n",
       "}\n",
       "\n",
       "mpl.figure.prototype.close_ws = function(fig, msg){\n",
       "    fig.send_message('closing', msg);\n",
       "    // fig.ws.close()\n",
       "}\n",
       "\n",
       "mpl.figure.prototype.push_to_output = function(remove_interactive) {\n",
       "    // Turn the data on the canvas into data in the output cell.\n",
       "    var width = this.canvas.width/mpl.ratio\n",
       "    var dataURL = this.canvas.toDataURL();\n",
       "    this.cell_info[1]['text/html'] = '<img src=\"' + dataURL + '\" width=\"' + width + '\">';\n",
       "}\n",
       "\n",
       "mpl.figure.prototype.updated_canvas_event = function() {\n",
       "    // Tell IPython that the notebook contents must change.\n",
       "    IPython.notebook.set_dirty(true);\n",
       "    this.send_message(\"ack\", {});\n",
       "    var fig = this;\n",
       "    // Wait a second, then push the new image to the DOM so\n",
       "    // that it is saved nicely (might be nice to debounce this).\n",
       "    setTimeout(function () { fig.push_to_output() }, 1000);\n",
       "}\n",
       "\n",
       "mpl.figure.prototype._init_toolbar = function() {\n",
       "    var fig = this;\n",
       "\n",
       "    var nav_element = $('<div/>');\n",
       "    nav_element.attr('style', 'width: 100%');\n",
       "    this.root.append(nav_element);\n",
       "\n",
       "    // Define a callback function for later on.\n",
       "    function toolbar_event(event) {\n",
       "        return fig.toolbar_button_onclick(event['data']);\n",
       "    }\n",
       "    function toolbar_mouse_event(event) {\n",
       "        return fig.toolbar_button_onmouseover(event['data']);\n",
       "    }\n",
       "\n",
       "    for(var toolbar_ind in mpl.toolbar_items){\n",
       "        var name = mpl.toolbar_items[toolbar_ind][0];\n",
       "        var tooltip = mpl.toolbar_items[toolbar_ind][1];\n",
       "        var image = mpl.toolbar_items[toolbar_ind][2];\n",
       "        var method_name = mpl.toolbar_items[toolbar_ind][3];\n",
       "\n",
       "        if (!name) { continue; };\n",
       "\n",
       "        var button = $('<button class=\"btn btn-default\" href=\"#\" title=\"' + name + '\"><i class=\"fa ' + image + ' fa-lg\"></i></button>');\n",
       "        button.click(method_name, toolbar_event);\n",
       "        button.mouseover(tooltip, toolbar_mouse_event);\n",
       "        nav_element.append(button);\n",
       "    }\n",
       "\n",
       "    // Add the status bar.\n",
       "    var status_bar = $('<span class=\"mpl-message\" style=\"text-align:right; float: right;\"/>');\n",
       "    nav_element.append(status_bar);\n",
       "    this.message = status_bar[0];\n",
       "\n",
       "    // Add the close button to the window.\n",
       "    var buttongrp = $('<div class=\"btn-group inline pull-right\"></div>');\n",
       "    var button = $('<button class=\"btn btn-mini btn-primary\" href=\"#\" title=\"Stop Interaction\"><i class=\"fa fa-power-off icon-remove icon-large\"></i></button>');\n",
       "    button.click(function (evt) { fig.handle_close(fig, {}); } );\n",
       "    button.mouseover('Stop Interaction', toolbar_mouse_event);\n",
       "    buttongrp.append(button);\n",
       "    var titlebar = this.root.find($('.ui-dialog-titlebar'));\n",
       "    titlebar.prepend(buttongrp);\n",
       "}\n",
       "\n",
       "mpl.figure.prototype._root_extra_style = function(el){\n",
       "    var fig = this\n",
       "    el.on(\"remove\", function(){\n",
       "\tfig.close_ws(fig, {});\n",
       "    });\n",
       "}\n",
       "\n",
       "mpl.figure.prototype._canvas_extra_style = function(el){\n",
       "    // this is important to make the div 'focusable\n",
       "    el.attr('tabindex', 0)\n",
       "    // reach out to IPython and tell the keyboard manager to turn it's self\n",
       "    // off when our div gets focus\n",
       "\n",
       "    // location in version 3\n",
       "    if (IPython.notebook.keyboard_manager) {\n",
       "        IPython.notebook.keyboard_manager.register_events(el);\n",
       "    }\n",
       "    else {\n",
       "        // location in version 2\n",
       "        IPython.keyboard_manager.register_events(el);\n",
       "    }\n",
       "\n",
       "}\n",
       "\n",
       "mpl.figure.prototype._key_event_extra = function(event, name) {\n",
       "    var manager = IPython.notebook.keyboard_manager;\n",
       "    if (!manager)\n",
       "        manager = IPython.keyboard_manager;\n",
       "\n",
       "    // Check for shift+enter\n",
       "    if (event.shiftKey && event.which == 13) {\n",
       "        this.canvas_div.blur();\n",
       "        // select the cell after this one\n",
       "        var index = IPython.notebook.find_cell_index(this.cell_info[0]);\n",
       "        IPython.notebook.select(index + 1);\n",
       "    }\n",
       "}\n",
       "\n",
       "mpl.figure.prototype.handle_save = function(fig, msg) {\n",
       "    fig.ondownload(fig, null);\n",
       "}\n",
       "\n",
       "\n",
       "mpl.find_output_cell = function(html_output) {\n",
       "    // Return the cell and output element which can be found *uniquely* in the notebook.\n",
       "    // Note - this is a bit hacky, but it is done because the \"notebook_saving.Notebook\"\n",
       "    // IPython event is triggered only after the cells have been serialised, which for\n",
       "    // our purposes (turning an active figure into a static one), is too late.\n",
       "    var cells = IPython.notebook.get_cells();\n",
       "    var ncells = cells.length;\n",
       "    for (var i=0; i<ncells; i++) {\n",
       "        var cell = cells[i];\n",
       "        if (cell.cell_type === 'code'){\n",
       "            for (var j=0; j<cell.output_area.outputs.length; j++) {\n",
       "                var data = cell.output_area.outputs[j];\n",
       "                if (data.data) {\n",
       "                    // IPython >= 3 moved mimebundle to data attribute of output\n",
       "                    data = data.data;\n",
       "                }\n",
       "                if (data['text/html'] == html_output) {\n",
       "                    return [cell, data, j];\n",
       "                }\n",
       "            }\n",
       "        }\n",
       "    }\n",
       "}\n",
       "\n",
       "// Register the function which deals with the matplotlib target/channel.\n",
       "// The kernel may be null if the page has been refreshed.\n",
       "if (IPython.notebook.kernel != null) {\n",
       "    IPython.notebook.kernel.comm_manager.register_target('matplotlib', mpl.mpl_figure_comm);\n",
       "}\n"
      ],
      "text/plain": [
       "<IPython.core.display.Javascript object>"
      ]
     },
     "metadata": {},
     "output_type": "display_data"
    },
    {
     "data": {
      "text/html": [
       "<img src=\"data:image/png;base64,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\" width=\"640\">"
      ],
      "text/plain": [
       "<IPython.core.display.HTML object>"
      ]
     },
     "metadata": {},
     "output_type": "display_data"
    },
    {
     "data": {
      "text/plain": [
       "Text(0.5, 1.0, '141,284,628,136 total views')"
      ]
     },
     "execution_count": 4,
     "metadata": {},
     "output_type": "execute_result"
    }
   ],
   "source": [
    "%matplotlib notebook\n",
    "\n",
    "# data\n",
    "data = total_views_list\n",
    "labels, views = zip(*data)\n",
    "total_views = sum(views)\n",
    "#explode = (0, 0, 0, 0, 0.1)  # only \"explode\" the 5th slice (i.e. 'se')\n",
    "\n",
    "#plot\n",
    "fig, ax = plt.subplots()\n",
    "ax.pie(views, labels=labels, autopct='%1.1f%%', startangle=90)\n",
    "ax.axis('equal')  # Equal aspect ratio ensures that pie is drawn as a circle.\n",
    "ax.set_title('{} total views'.format(f'{total_views:,}'))"
   ]
  },
  {
   "cell_type": "code",
   "execution_count": 5,
   "metadata": {},
   "outputs": [
    {
     "name": "stderr",
     "output_type": "stream",
     "text": [
      "100%|██████████| 17/17 [00:05<00:00,  3.14it/s]\n",
      "100%|██████████| 250/250 [00:27<00:00,  9.17it/s]\n",
      "100%|██████████| 250/250 [00:27<00:00,  9.17it/s]\n",
      "100%|██████████| 250/250 [00:30<00:00,  8.27it/s]\n",
      "100%|██████████| 250/250 [00:27<00:00,  9.02it/s]\n",
      "100%|██████████| 250/250 [00:24<00:00, 10.31it/s]\n",
      "100%|██████████| 250/250 [00:34<00:00,  7.27it/s]\n",
      "100%|██████████| 250/250 [00:36<00:00,  6.86it/s]\n",
      "100%|██████████| 250/250 [00:43<00:00,  5.79it/s]\n",
      "100%|██████████| 250/250 [00:27<00:00,  9.02it/s]\n",
      "100%|██████████| 250/250 [00:29<00:00,  8.48it/s]\n",
      "100%|██████████| 250/250 [00:32<00:00,  7.79it/s]\n",
      " 14%|█▍        | 36/250 [00:14<00:46,  4.59it/s]]"
     ]
    },
    {
     "name": "stdout",
     "output_type": "stream",
     "text": [
      "No uploads for #115 at https://socialblade.com/youtube/top/category/shows\n"
     ]
    },
    {
     "name": "stderr",
     "output_type": "stream",
     "text": [
      "100%|██████████| 250/250 [00:28<00:00,  8.86it/s]\n",
      " 25%|██▍       | 62/250 [00:16<00:12, 15.33it/s]]"
     ]
    },
    {
     "name": "stdout",
     "output_type": "stream",
     "text": [
      "No data for #136 at https://socialblade.com/youtube/top/category/shows\n"
     ]
    },
    {
     "name": "stderr",
     "output_type": "stream",
     "text": [
      "\r",
      " 10%|▉         | 24/250 [00:21<05:16,  1.40s/it]"
     ]
    },
    {
     "name": "stdout",
     "output_type": "stream",
     "text": [
      "No data for #137 at https://socialblade.com/youtube/top/category/shows\n"
     ]
    },
    {
     "name": "stderr",
     "output_type": "stream",
     "text": [
      " 54%|█████▍    | 136/250 [00:25<00:09, 12.36it/s]"
     ]
    },
    {
     "name": "stdout",
     "output_type": "stream",
     "text": [
      "No data for #138 at https://socialblade.com/youtube/top/category/shows"
     ]
    },
    {
     "name": "stderr",
     "output_type": "stream",
     "text": [
      "\r",
      " 10%|█         | 26/250 [00:21<03:44,  1.00s/it]"
     ]
    },
    {
     "name": "stdout",
     "output_type": "stream",
     "text": [
      "\n"
     ]
    },
    {
     "name": "stderr",
     "output_type": "stream",
     "text": [
      "\r",
      " 26%|██▋       | 66/250 [00:16<00:12, 14.79it/s]"
     ]
    },
    {
     "name": "stdout",
     "output_type": "stream",
     "text": [
      "No data for #139 at https://socialblade.com/youtube/top/category/shows\n"
     ]
    },
    {
     "name": "stderr",
     "output_type": "stream",
     "text": [
      " 55%|█████▌    | 138/250 [00:25<00:09, 11.48it/s]"
     ]
    },
    {
     "name": "stdout",
     "output_type": "stream",
     "text": [
      "No data for #140 at https://socialblade.com/youtube/top/category/shows\n"
     ]
    },
    {
     "name": "stderr",
     "output_type": "stream",
     "text": [
      " 12%|█▏        | 30/250 [00:21<01:55,  1.91it/s]"
     ]
    },
    {
     "name": "stdout",
     "output_type": "stream",
     "text": [
      "No data for #141 at https://socialblade.com/youtube/top/category/shows\n"
     ]
    },
    {
     "name": "stderr",
     "output_type": "stream",
     "text": [
      " 13%|█▎        | 32/250 [00:21<01:23,  2.61it/s]]"
     ]
    },
    {
     "name": "stdout",
     "output_type": "stream",
     "text": [
      "No data for #142 at https://socialblade.com/youtube/top/category/shows\n"
     ]
    },
    {
     "name": "stderr",
     "output_type": "stream",
     "text": [
      " 57%|█████▋    | 142/250 [00:25<00:09, 11.51it/s]"
     ]
    },
    {
     "name": "stdout",
     "output_type": "stream",
     "text": [
      "No data for #143 at https://socialblade.com/youtube/top/category/shows"
     ]
    },
    {
     "name": "stderr",
     "output_type": "stream",
     "text": [
      "\r",
      " 29%|██▉       | 72/250 [00:17<00:12, 14.35it/s]"
     ]
    },
    {
     "name": "stdout",
     "output_type": "stream",
     "text": [
      "\n"
     ]
    },
    {
     "name": "stderr",
     "output_type": "stream",
     "text": [
      " 14%|█▍        | 36/250 [00:22<00:47,  4.53it/s]]"
     ]
    },
    {
     "name": "stdout",
     "output_type": "stream",
     "text": [
      "No data for #144 at https://socialblade.com/youtube/top/category/shows\n"
     ]
    },
    {
     "name": "stderr",
     "output_type": "stream",
     "text": [
      " 58%|█████▊    | 144/250 [00:25<00:09, 11.03it/s]"
     ]
    },
    {
     "name": "stdout",
     "output_type": "stream",
     "text": [
      "No data for #145 at https://socialblade.com/youtube/top/category/shows"
     ]
    },
    {
     "name": "stderr",
     "output_type": "stream",
     "text": [
      "\r",
      " 15%|█▌        | 38/250 [00:22<00:37,  5.64it/s]"
     ]
    },
    {
     "name": "stdout",
     "output_type": "stream",
     "text": [
      "\n"
     ]
    },
    {
     "name": "stderr",
     "output_type": "stream",
     "text": [
      " 58%|█████▊    | 146/250 [00:26<00:09, 10.51it/s]"
     ]
    },
    {
     "name": "stdout",
     "output_type": "stream",
     "text": [
      "No data for #146 at https://socialblade.com/youtube/top/category/shows"
     ]
    },
    {
     "name": "stderr",
     "output_type": "stream",
     "text": [
      "\r",
      " 16%|█▌        | 40/250 [00:22<00:30,  6.94it/s]"
     ]
    },
    {
     "name": "stdout",
     "output_type": "stream",
     "text": [
      "\n"
     ]
    },
    {
     "name": "stderr",
     "output_type": "stream",
     "text": [
      " 31%|███       | 78/250 [00:17<00:14, 12.24it/s]]"
     ]
    },
    {
     "name": "stdout",
     "output_type": "stream",
     "text": [
      "No data for #147 at https://socialblade.com/youtube/top/category/shows\n"
     ]
    },
    {
     "name": "stderr",
     "output_type": "stream",
     "text": [
      " 59%|█████▉    | 148/250 [00:26<00:09, 10.28it/s]"
     ]
    },
    {
     "name": "stdout",
     "output_type": "stream",
     "text": [
      "No data for #148 at https://socialblade.com/youtube/top/category/shows\n"
     ]
    },
    {
     "name": "stderr",
     "output_type": "stream",
     "text": [
      " 18%|█▊        | 44/250 [00:22<00:21,  9.45it/s]]"
     ]
    },
    {
     "name": "stdout",
     "output_type": "stream",
     "text": [
      "No data for #149 at https://socialblade.com/youtube/top/category/shows\n"
     ]
    },
    {
     "name": "stderr",
     "output_type": "stream",
     "text": [
      " 33%|███▎      | 82/250 [00:18<00:13, 12.70it/s]]"
     ]
    },
    {
     "name": "stdout",
     "output_type": "stream",
     "text": [
      "No data for #150 at https://socialblade.com/youtube/top/category/shows\n",
      "No data for #151 at https://socialblade.com/youtube/top/category/shows"
     ]
    },
    {
     "name": "stderr",
     "output_type": "stream",
     "text": [
      "\r",
      " 19%|█▉        | 48/250 [00:22<00:16, 12.33it/s]"
     ]
    },
    {
     "name": "stdout",
     "output_type": "stream",
     "text": [
      "\n"
     ]
    },
    {
     "name": "stderr",
     "output_type": "stream",
     "text": [
      " 20%|██        | 50/250 [00:23<00:15, 12.95it/s]]"
     ]
    },
    {
     "name": "stdout",
     "output_type": "stream",
     "text": [
      "No data for #152 at https://socialblade.com/youtube/top/category/shows\n"
     ]
    },
    {
     "name": "stderr",
     "output_type": "stream",
     "text": [
      " 62%|██████▏   | 154/250 [00:26<00:09, 10.44it/s]"
     ]
    },
    {
     "name": "stdout",
     "output_type": "stream",
     "text": [
      "No data for #153 at https://socialblade.com/youtube/top/category/shows\n"
     ]
    },
    {
     "name": "stderr",
     "output_type": "stream",
     "text": [
      " 35%|███▌      | 88/250 [00:18<00:13, 12.40it/s]]"
     ]
    },
    {
     "name": "stdout",
     "output_type": "stream",
     "text": [
      "No data for #154 at https://socialblade.com/youtube/top/category/shows\n"
     ]
    },
    {
     "name": "stderr",
     "output_type": "stream",
     "text": [
      " 62%|██████▏   | 156/250 [00:27<00:09, 10.27it/s]"
     ]
    },
    {
     "name": "stdout",
     "output_type": "stream",
     "text": [
      "No data for #155 at https://socialblade.com/youtube/top/category/shows\n"
     ]
    },
    {
     "name": "stderr",
     "output_type": "stream",
     "text": [
      " 22%|██▏       | 56/250 [00:23<00:13, 14.10it/s]]"
     ]
    },
    {
     "name": "stdout",
     "output_type": "stream",
     "text": [
      "No data for #156 at https://socialblade.com/youtube/top/category/shows\n"
     ]
    },
    {
     "name": "stderr",
     "output_type": "stream",
     "text": [
      " 23%|██▎       | 58/250 [00:23<00:13, 14.26it/s]]"
     ]
    },
    {
     "name": "stdout",
     "output_type": "stream",
     "text": [
      "No data for #157 at https://socialblade.com/youtube/top/category/shows\n"
     ]
    },
    {
     "name": "stderr",
     "output_type": "stream",
     "text": [
      "\r",
      " 61%|██████    | 153/250 [00:22<00:10,  8.85it/s]"
     ]
    },
    {
     "name": "stdout",
     "output_type": "stream",
     "text": [
      "No data for #158 at https://socialblade.com/youtube/top/category/shows\n"
     ]
    },
    {
     "name": "stderr",
     "output_type": "stream",
     "text": [
      " 38%|███▊      | 94/250 [00:19<00:11, 13.15it/s]]"
     ]
    },
    {
     "name": "stdout",
     "output_type": "stream",
     "text": [
      "No data for #159 at https://socialblade.com/youtube/top/category/shows\n"
     ]
    },
    {
     "name": "stderr",
     "output_type": "stream",
     "text": [
      " 65%|██████▍   | 162/250 [00:27<00:08, 10.36it/s]"
     ]
    },
    {
     "name": "stdout",
     "output_type": "stream",
     "text": [
      "No data for #160 at https://socialblade.com/youtube/top/category/shows\n"
     ]
    },
    {
     "name": "stderr",
     "output_type": "stream",
     "text": [
      " 66%|██████▌   | 164/250 [00:27<00:08,  9.56it/s]"
     ]
    },
    {
     "name": "stdout",
     "output_type": "stream",
     "text": [
      "No data for #161 at https://socialblade.com/youtube/top/category/shows\n"
     ]
    },
    {
     "name": "stderr",
     "output_type": "stream",
     "text": [
      " 66%|██████▌   | 165/250 [00:27<00:09,  9.24it/s]"
     ]
    },
    {
     "name": "stdout",
     "output_type": "stream",
     "text": [
      "No data for #162 at https://socialblade.com/youtube/top/category/shows\n"
     ]
    },
    {
     "name": "stderr",
     "output_type": "stream",
     "text": [
      " 40%|████      | 100/250 [00:19<00:13, 10.73it/s]"
     ]
    },
    {
     "name": "stdout",
     "output_type": "stream",
     "text": [
      "No data for #163 at https://socialblade.com/youtube/top/category/shows"
     ]
    },
    {
     "name": "stderr",
     "output_type": "stream",
     "text": [
      "\r",
      " 27%|██▋       | 68/250 [00:24<00:14, 12.59it/s]"
     ]
    },
    {
     "name": "stdout",
     "output_type": "stream",
     "text": [
      "\n"
     ]
    },
    {
     "name": "stderr",
     "output_type": "stream",
     "text": [
      " 67%|██████▋   | 167/250 [00:28<00:08,  9.37it/s]"
     ]
    },
    {
     "name": "stdout",
     "output_type": "stream",
     "text": [
      "No data for #164 at https://socialblade.com/youtube/top/category/shows\n"
     ]
    },
    {
     "name": "stderr",
     "output_type": "stream",
     "text": [
      " 67%|██████▋   | 168/250 [00:28<00:08,  9.49it/s]"
     ]
    },
    {
     "name": "stdout",
     "output_type": "stream",
     "text": [
      "No data for #165 at https://socialblade.com/youtube/top/category/shows\n"
     ]
    },
    {
     "name": "stderr",
     "output_type": "stream",
     "text": [
      " 29%|██▉       | 72/250 [00:24<00:13, 12.75it/s]]"
     ]
    },
    {
     "name": "stdout",
     "output_type": "stream",
     "text": [
      "No data for #166 at https://socialblade.com/youtube/top/category/shows\n"
     ]
    },
    {
     "name": "stderr",
     "output_type": "stream",
     "text": [
      " 42%|████▏     | 106/250 [00:20<00:12, 11.53it/s]"
     ]
    },
    {
     "name": "stdout",
     "output_type": "stream",
     "text": [
      "No data for #167 at https://socialblade.com/youtube/top/category/shows\n"
     ]
    },
    {
     "name": "stderr",
     "output_type": "stream",
     "text": [
      " 68%|██████▊   | 171/250 [00:28<00:08,  9.59it/s]"
     ]
    },
    {
     "name": "stdout",
     "output_type": "stream",
     "text": [
      "No data for #168 at https://socialblade.com/youtube/top/category/shows\n"
     ]
    },
    {
     "name": "stderr",
     "output_type": "stream",
     "text": [
      " 30%|███       | 76/250 [00:25<00:14, 12.10it/s]]"
     ]
    },
    {
     "name": "stdout",
     "output_type": "stream",
     "text": [
      "No data for #169 at https://socialblade.com/youtube/top/category/shows\n"
     ]
    },
    {
     "name": "stderr",
     "output_type": "stream",
     "text": [
      " 44%|████▍     | 110/250 [00:20<00:13, 10.45it/s]"
     ]
    },
    {
     "name": "stdout",
     "output_type": "stream",
     "text": [
      "No data for #170 at https://socialblade.com/youtube/top/category/shows\n"
     ]
    },
    {
     "name": "stderr",
     "output_type": "stream",
     "text": [
      " 70%|███████   | 175/250 [00:29<00:08,  9.20it/s]"
     ]
    },
    {
     "name": "stdout",
     "output_type": "stream",
     "text": [
      "No data for #171 at https://socialblade.com/youtube/top/category/shows\n"
     ]
    },
    {
     "name": "stderr",
     "output_type": "stream",
     "text": [
      " 32%|███▏      | 80/250 [00:25<00:14, 11.98it/s]]"
     ]
    },
    {
     "name": "stdout",
     "output_type": "stream",
     "text": [
      "No data for #172 at https://socialblade.com/youtube/top/category/shows\n"
     ]
    },
    {
     "name": "stderr",
     "output_type": "stream",
     "text": [
      " 33%|███▎      | 82/250 [00:25<00:12, 13.02it/s]]"
     ]
    },
    {
     "name": "stdout",
     "output_type": "stream",
     "text": [
      "No data for #173 at https://socialblade.com/youtube/top/category/shows"
     ]
    },
    {
     "name": "stderr",
     "output_type": "stream",
     "text": [
      "\r",
      " 46%|████▌     | 114/250 [00:20<00:11, 12.01it/s]"
     ]
    },
    {
     "name": "stdout",
     "output_type": "stream",
     "text": [
      "\n"
     ]
    },
    {
     "name": "stderr",
     "output_type": "stream",
     "text": [
      "\r",
      " 68%|██████▊   | 169/250 [00:24<00:09,  8.80it/s]"
     ]
    },
    {
     "name": "stdout",
     "output_type": "stream",
     "text": [
      "No data for #174 at https://socialblade.com/youtube/top/category/shows\n"
     ]
    },
    {
     "name": "stderr",
     "output_type": "stream",
     "text": [
      " 46%|████▋     | 116/250 [00:21<00:11, 12.03it/s]"
     ]
    },
    {
     "name": "stdout",
     "output_type": "stream",
     "text": [
      "No data for #175 at https://socialblade.com/youtube/top/category/shows\n"
     ]
    },
    {
     "name": "stderr",
     "output_type": "stream",
     "text": [
      " 47%|████▋     | 118/250 [00:21<00:11, 11.32it/s]"
     ]
    },
    {
     "name": "stdout",
     "output_type": "stream",
     "text": [
      "No data for #176 at https://socialblade.com/youtube/top/category/shows\n"
     ]
    },
    {
     "name": "stderr",
     "output_type": "stream",
     "text": [
      " 35%|███▌      | 88/250 [00:26<00:13, 12.21it/s]]"
     ]
    },
    {
     "name": "stdout",
     "output_type": "stream",
     "text": [
      "No data for #177 at https://socialblade.com/youtube/top/category/shows\n"
     ]
    },
    {
     "name": "stderr",
     "output_type": "stream",
     "text": [
      " 73%|███████▎  | 183/250 [00:29<00:07,  8.96it/s]"
     ]
    },
    {
     "name": "stdout",
     "output_type": "stream",
     "text": [
      "No data for #178 at https://socialblade.com/youtube/top/category/shows"
     ]
    },
    {
     "name": "stderr",
     "output_type": "stream",
     "text": [
      "\r",
      " 36%|███▌      | 90/250 [00:26<00:13, 11.72it/s]"
     ]
    },
    {
     "name": "stdout",
     "output_type": "stream",
     "text": [
      "\n"
     ]
    },
    {
     "name": "stderr",
     "output_type": "stream",
     "text": [
      " 49%|████▉     | 122/250 [00:21<00:11, 11.36it/s]"
     ]
    },
    {
     "name": "stdout",
     "output_type": "stream",
     "text": [
      "No data for #179 at https://socialblade.com/youtube/top/category/shows\n"
     ]
    },
    {
     "name": "stderr",
     "output_type": "stream",
     "text": [
      " 74%|███████▍  | 185/250 [00:30<00:07,  8.97it/s]"
     ]
    },
    {
     "name": "stdout",
     "output_type": "stream",
     "text": [
      "No data for #180 at https://socialblade.com/youtube/top/category/shows\n"
     ]
    },
    {
     "name": "stderr",
     "output_type": "stream",
     "text": [
      " 38%|███▊      | 94/250 [00:26<00:12, 12.28it/s]]"
     ]
    },
    {
     "name": "stdout",
     "output_type": "stream",
     "text": [
      "No data for #181 at https://socialblade.com/youtube/top/category/shows\n"
     ]
    },
    {
     "name": "stderr",
     "output_type": "stream",
     "text": [
      " 50%|█████     | 126/250 [00:21<00:11, 10.71it/s]"
     ]
    },
    {
     "name": "stdout",
     "output_type": "stream",
     "text": [
      "No data for #182 at https://socialblade.com/youtube/top/category/shows\n"
     ]
    },
    {
     "name": "stderr",
     "output_type": "stream",
     "text": [
      " 75%|███████▌  | 188/250 [00:30<00:06,  9.35it/s]"
     ]
    },
    {
     "name": "stdout",
     "output_type": "stream",
     "text": [
      "No data for #183 at https://socialblade.com/youtube/top/category/shows\n"
     ]
    },
    {
     "name": "stderr",
     "output_type": "stream",
     "text": [
      " 39%|███▉      | 98/250 [00:26<00:11, 13.01it/s]]"
     ]
    },
    {
     "name": "stdout",
     "output_type": "stream",
     "text": [
      "No data for #184 at https://socialblade.com/youtube/top/category/shows\n"
     ]
    },
    {
     "name": "stderr",
     "output_type": "stream",
     "text": [
      " 52%|█████▏    | 130/250 [00:22<00:09, 12.28it/s]"
     ]
    },
    {
     "name": "stdout",
     "output_type": "stream",
     "text": [
      "No data for #185 at https://socialblade.com/youtube/top/category/shows\n"
     ]
    },
    {
     "name": "stderr",
     "output_type": "stream",
     "text": [
      "\r",
      " 40%|████      | 100/250 [00:26<00:10, 13.85it/s]"
     ]
    },
    {
     "name": "stdout",
     "output_type": "stream",
     "text": [
      "No data for #186 at https://socialblade.com/youtube/top/category/shows\n"
     ]
    },
    {
     "name": "stderr",
     "output_type": "stream",
     "text": [
      " 53%|█████▎    | 132/250 [00:22<00:09, 12.55it/s]"
     ]
    },
    {
     "name": "stdout",
     "output_type": "stream",
     "text": [
      "No data for #187 at https://socialblade.com/youtube/top/category/shows\n"
     ]
    },
    {
     "name": "stderr",
     "output_type": "stream",
     "text": [
      "\r",
      " 42%|████▏     | 104/250 [00:27<00:10, 13.80it/s]"
     ]
    },
    {
     "name": "stdout",
     "output_type": "stream",
     "text": [
      "No data for #188 at https://socialblade.com/youtube/top/category/shows\n"
     ]
    },
    {
     "name": "stderr",
     "output_type": "stream",
     "text": [
      " 54%|█████▎    | 134/250 [00:22<00:10, 11.31it/s]"
     ]
    },
    {
     "name": "stdout",
     "output_type": "stream",
     "text": [
      "No data for #189 at https://socialblade.com/youtube/top/category/shows\n"
     ]
    },
    {
     "name": "stderr",
     "output_type": "stream",
     "text": [
      " 78%|███████▊  | 196/250 [00:31<00:05,  9.36it/s]"
     ]
    },
    {
     "name": "stdout",
     "output_type": "stream",
     "text": [
      "No data for #190 at https://socialblade.com/youtube/top/category/shows\n"
     ]
    },
    {
     "name": "stderr",
     "output_type": "stream",
     "text": [
      " 79%|███████▉  | 197/250 [00:31<00:05,  9.31it/s]"
     ]
    },
    {
     "name": "stdout",
     "output_type": "stream",
     "text": [
      "No data for #191 at https://socialblade.com/youtube/top/category/shows\n"
     ]
    },
    {
     "name": "stderr",
     "output_type": "stream",
     "text": [
      " 79%|███████▉  | 198/250 [00:31<00:06,  8.67it/s]"
     ]
    },
    {
     "name": "stdout",
     "output_type": "stream",
     "text": [
      "No data for #192 at https://socialblade.com/youtube/top/category/shows\n"
     ]
    },
    {
     "name": "stderr",
     "output_type": "stream",
     "text": [
      " 80%|███████▉  | 199/250 [00:31<00:05,  8.61it/s]"
     ]
    },
    {
     "name": "stdout",
     "output_type": "stream",
     "text": [
      "No data for #193 at https://socialblade.com/youtube/top/category/shows\n"
     ]
    },
    {
     "name": "stderr",
     "output_type": "stream",
     "text": [
      " 45%|████▍     | 112/250 [00:28<00:12, 11.05it/s]"
     ]
    },
    {
     "name": "stdout",
     "output_type": "stream",
     "text": [
      "No data for #194 at https://socialblade.com/youtube/top/category/shows\n"
     ]
    },
    {
     "name": "stderr",
     "output_type": "stream",
     "text": [
      "\r",
      " 57%|█████▋    | 142/250 [00:23<00:10, 10.78it/s]"
     ]
    },
    {
     "name": "stdout",
     "output_type": "stream",
     "text": [
      "No data for #195 at https://socialblade.com/youtube/top/category/shows\n"
     ]
    },
    {
     "name": "stderr",
     "output_type": "stream",
     "text": [
      " 81%|████████  | 202/250 [00:31<00:05,  9.11it/s]"
     ]
    },
    {
     "name": "stdout",
     "output_type": "stream",
     "text": [
      "No data for #196 at https://socialblade.com/youtube/top/category/shows\n"
     ]
    },
    {
     "name": "stderr",
     "output_type": "stream",
     "text": [
      " 46%|████▋     | 116/250 [00:28<00:10, 12.86it/s]"
     ]
    },
    {
     "name": "stdout",
     "output_type": "stream",
     "text": [
      "No data for #197 at https://socialblade.com/youtube/top/category/shows\n"
     ]
    },
    {
     "name": "stderr",
     "output_type": "stream",
     "text": [
      " 47%|████▋     | 118/250 [00:28<00:09, 13.56it/s]"
     ]
    },
    {
     "name": "stdout",
     "output_type": "stream",
     "text": [
      "No data for #198 at https://socialblade.com/youtube/top/category/shows\n",
      "No data for #199 at https://socialblade.com/youtube/top/category/shows\n"
     ]
    },
    {
     "name": "stderr",
     "output_type": "stream",
     "text": [
      " 59%|█████▉    | 148/250 [00:23<00:08, 12.59it/s]"
     ]
    },
    {
     "name": "stdout",
     "output_type": "stream",
     "text": [
      "No data for #200 at https://socialblade.com/youtube/top/category/shows\n"
     ]
    },
    {
     "name": "stderr",
     "output_type": "stream",
     "text": [
      "\r",
      " 49%|████▉     | 122/250 [00:28<00:08, 14.86it/s]"
     ]
    },
    {
     "name": "stdout",
     "output_type": "stream",
     "text": [
      "No data for #201 at https://socialblade.com/youtube/top/category/shows"
     ]
    },
    {
     "name": "stderr",
     "output_type": "stream",
     "text": [
      "\r",
      " 60%|██████    | 150/250 [00:23<00:07, 12.95it/s]"
     ]
    },
    {
     "name": "stdout",
     "output_type": "stream",
     "text": [
      "\n"
     ]
    },
    {
     "name": "stderr",
     "output_type": "stream",
     "text": [
      " 83%|████████▎ | 208/250 [00:32<00:04, 10.49it/s]"
     ]
    },
    {
     "name": "stdout",
     "output_type": "stream",
     "text": [
      "No data for #202 at https://socialblade.com/youtube/top/category/shows\n"
     ]
    },
    {
     "name": "stderr",
     "output_type": "stream",
     "text": [
      " 61%|██████    | 152/250 [00:24<00:07, 12.92it/s]"
     ]
    },
    {
     "name": "stdout",
     "output_type": "stream",
     "text": [
      "No data for #203 at https://socialblade.com/youtube/top/category/shows\n"
     ]
    },
    {
     "name": "stderr",
     "output_type": "stream",
     "text": [
      " 50%|█████     | 126/250 [00:28<00:08, 14.37it/s]"
     ]
    },
    {
     "name": "stdout",
     "output_type": "stream",
     "text": [
      "No data for #204 at https://socialblade.com/youtube/top/category/shows\n"
     ]
    },
    {
     "name": "stderr",
     "output_type": "stream",
     "text": [
      "\r",
      " 62%|██████▏   | 154/250 [00:24<00:07, 12.33it/s]"
     ]
    },
    {
     "name": "stdout",
     "output_type": "stream",
     "text": [
      "No data for #205 at https://socialblade.com/youtube/top/category/shows\n"
     ]
    },
    {
     "name": "stderr",
     "output_type": "stream",
     "text": [
      " 85%|████████▍ | 212/250 [00:32<00:03, 10.05it/s]"
     ]
    },
    {
     "name": "stdout",
     "output_type": "stream",
     "text": [
      "No data for #206 at https://socialblade.com/youtube/top/category/shows\n"
     ]
    },
    {
     "name": "stderr",
     "output_type": "stream",
     "text": [
      " 86%|████████▌ | 214/250 [00:33<00:03,  9.47it/s]"
     ]
    },
    {
     "name": "stdout",
     "output_type": "stream",
     "text": [
      "No data for #207 at https://socialblade.com/youtube/top/category/shows\n"
     ]
    },
    {
     "name": "stderr",
     "output_type": "stream",
     "text": [
      " 53%|█████▎    | 132/250 [00:29<00:10, 11.52it/s]"
     ]
    },
    {
     "name": "stdout",
     "output_type": "stream",
     "text": [
      "No data for #208 at https://socialblade.com/youtube/top/category/shows\n"
     ]
    },
    {
     "name": "stderr",
     "output_type": "stream",
     "text": [
      " 64%|██████▍   | 160/250 [00:24<00:08, 10.64it/s]"
     ]
    },
    {
     "name": "stdout",
     "output_type": "stream",
     "text": [
      "No data for #209 at https://socialblade.com/youtube/top/category/shows\n"
     ]
    },
    {
     "name": "stderr",
     "output_type": "stream",
     "text": [
      " 54%|█████▎    | 134/250 [00:29<00:09, 11.71it/s]"
     ]
    },
    {
     "name": "stdout",
     "output_type": "stream",
     "text": [
      "No data for #210 at https://socialblade.com/youtube/top/category/shows\n"
     ]
    },
    {
     "name": "stderr",
     "output_type": "stream",
     "text": [
      " 54%|█████▍    | 136/250 [00:29<00:09, 12.26it/s]"
     ]
    },
    {
     "name": "stdout",
     "output_type": "stream",
     "text": [
      "No data for #211 at https://socialblade.com/youtube/top/category/shows\n"
     ]
    },
    {
     "name": "stderr",
     "output_type": "stream",
     "text": [
      "\r",
      " 88%|████████▊ | 219/250 [00:33<00:03,  9.36it/s]"
     ]
    },
    {
     "name": "stdout",
     "output_type": "stream",
     "text": [
      "No data for #212 at https://socialblade.com/youtube/top/category/shows\n"
     ]
    },
    {
     "name": "stderr",
     "output_type": "stream",
     "text": [
      " 88%|████████▊ | 220/250 [00:33<00:03,  9.13it/s]"
     ]
    },
    {
     "name": "stdout",
     "output_type": "stream",
     "text": [
      "No data for #213 at https://socialblade.com/youtube/top/category/shows\n"
     ]
    },
    {
     "name": "stderr",
     "output_type": "stream",
     "text": [
      " 66%|██████▋   | 166/250 [00:25<00:07, 11.68it/s]"
     ]
    },
    {
     "name": "stdout",
     "output_type": "stream",
     "text": [
      "No data for #214 at https://socialblade.com/youtube/top/category/shows\n"
     ]
    },
    {
     "name": "stderr",
     "output_type": "stream",
     "text": [
      "\r",
      " 89%|████████▉ | 222/250 [00:33<00:02,  9.48it/s]"
     ]
    },
    {
     "name": "stdout",
     "output_type": "stream",
     "text": [
      "No data for #215 at https://socialblade.com/youtube/top/category/shows\n"
     ]
    },
    {
     "name": "stderr",
     "output_type": "stream",
     "text": [
      " 67%|██████▋   | 168/250 [00:25<00:07, 11.63it/s]"
     ]
    },
    {
     "name": "stdout",
     "output_type": "stream",
     "text": [
      "No data for #216 at https://socialblade.com/youtube/top/category/shows\n"
     ]
    },
    {
     "name": "stderr",
     "output_type": "stream",
     "text": [
      " 58%|█████▊    | 144/250 [00:30<00:08, 12.79it/s]"
     ]
    },
    {
     "name": "stdout",
     "output_type": "stream",
     "text": [
      "No data for #217 at https://socialblade.com/youtube/top/category/shows\n"
     ]
    },
    {
     "name": "stderr",
     "output_type": "stream",
     "text": [
      " 90%|█████████ | 225/250 [00:34<00:02,  9.77it/s]"
     ]
    },
    {
     "name": "stdout",
     "output_type": "stream",
     "text": [
      "No data for #218 at https://socialblade.com/youtube/top/category/shows\n"
     ]
    },
    {
     "name": "stderr",
     "output_type": "stream",
     "text": [
      " 69%|██████▉   | 172/250 [00:25<00:07, 11.00it/s]"
     ]
    },
    {
     "name": "stdout",
     "output_type": "stream",
     "text": [
      "No data for #219 at https://socialblade.com/youtube/top/category/shows\n"
     ]
    },
    {
     "name": "stderr",
     "output_type": "stream",
     "text": [
      "\r",
      " 86%|████████▌ | 215/250 [00:29<00:03,  9.10it/s]"
     ]
    },
    {
     "name": "stdout",
     "output_type": "stream",
     "text": [
      "No data for #220 at https://socialblade.com/youtube/top/category/shows\n"
     ]
    },
    {
     "name": "stderr",
     "output_type": "stream",
     "text": [
      " 70%|██████▉   | 174/250 [00:26<00:06, 11.36it/s]"
     ]
    },
    {
     "name": "stdout",
     "output_type": "stream",
     "text": [
      "No data for #221 at https://socialblade.com/youtube/top/category/shows\n"
     ]
    },
    {
     "name": "stderr",
     "output_type": "stream",
     "text": [
      " 60%|██████    | 150/250 [00:30<00:08, 12.35it/s]"
     ]
    },
    {
     "name": "stdout",
     "output_type": "stream",
     "text": [
      "No data for #222 at https://socialblade.com/youtube/top/category/shows\n"
     ]
    },
    {
     "name": "stderr",
     "output_type": "stream",
     "text": [
      " 92%|█████████▏| 230/250 [00:34<00:02,  9.12it/s]"
     ]
    },
    {
     "name": "stdout",
     "output_type": "stream",
     "text": [
      "No data for #223 at https://socialblade.com/youtube/top/category/shows\n"
     ]
    },
    {
     "name": "stderr",
     "output_type": "stream",
     "text": [
      " 71%|███████   | 178/250 [00:26<00:06, 11.35it/s]"
     ]
    },
    {
     "name": "stdout",
     "output_type": "stream",
     "text": [
      "No data for #224 at https://socialblade.com/youtube/top/category/shows\n"
     ]
    },
    {
     "name": "stderr",
     "output_type": "stream",
     "text": [
      " 93%|█████████▎| 232/250 [00:34<00:01,  9.05it/s]"
     ]
    },
    {
     "name": "stdout",
     "output_type": "stream",
     "text": [
      "No data for #225 at https://socialblade.com/youtube/top/category/shows\n"
     ]
    },
    {
     "name": "stderr",
     "output_type": "stream",
     "text": [
      " 72%|███████▏  | 180/250 [00:26<00:05, 11.71it/s]"
     ]
    },
    {
     "name": "stdout",
     "output_type": "stream",
     "text": [
      "No data for #226 at https://socialblade.com/youtube/top/category/shows\n"
     ]
    },
    {
     "name": "stderr",
     "output_type": "stream",
     "text": [
      " 62%|██████▏   | 156/250 [00:31<00:07, 12.01it/s]"
     ]
    },
    {
     "name": "stdout",
     "output_type": "stream",
     "text": [
      "No data for #227 at https://socialblade.com/youtube/top/category/shows\n"
     ]
    },
    {
     "name": "stderr",
     "output_type": "stream",
     "text": [
      "\r",
      " 73%|███████▎  | 182/250 [00:26<00:05, 12.16it/s]"
     ]
    },
    {
     "name": "stdout",
     "output_type": "stream",
     "text": [
      "No data for #228 at https://socialblade.com/youtube/top/category/shows\n"
     ]
    },
    {
     "name": "stderr",
     "output_type": "stream",
     "text": [
      " 74%|███████▎  | 184/250 [00:26<00:05, 11.99it/s]"
     ]
    },
    {
     "name": "stdout",
     "output_type": "stream",
     "text": [
      "No data for #229 at https://socialblade.com/youtube/top/category/shows\n"
     ]
    },
    {
     "name": "stderr",
     "output_type": "stream",
     "text": [
      " 64%|██████▍   | 160/250 [00:31<00:07, 12.04it/s]"
     ]
    },
    {
     "name": "stdout",
     "output_type": "stream",
     "text": [
      "No data for #230 at https://socialblade.com/youtube/top/category/shows\n"
     ]
    },
    {
     "name": "stderr",
     "output_type": "stream",
     "text": [
      " 95%|█████████▌| 238/250 [00:35<00:01,  9.10it/s]"
     ]
    },
    {
     "name": "stdout",
     "output_type": "stream",
     "text": [
      "No data for #231 at https://socialblade.com/youtube/top/category/shows\n"
     ]
    },
    {
     "name": "stderr",
     "output_type": "stream",
     "text": [
      " 96%|█████████▌| 239/250 [00:35<00:01,  9.14it/s]"
     ]
    },
    {
     "name": "stdout",
     "output_type": "stream",
     "text": [
      "No data for #232 at https://socialblade.com/youtube/top/category/shows\n"
     ]
    },
    {
     "name": "stderr",
     "output_type": "stream",
     "text": [
      " 75%|███████▌  | 188/250 [00:27<00:05, 11.42it/s]"
     ]
    },
    {
     "name": "stdout",
     "output_type": "stream",
     "text": [
      "No data for #233 at https://socialblade.com/youtube/top/category/shows\n"
     ]
    },
    {
     "name": "stderr",
     "output_type": "stream",
     "text": [
      " 76%|███████▌  | 190/250 [00:27<00:05, 11.64it/s]"
     ]
    },
    {
     "name": "stdout",
     "output_type": "stream",
     "text": [
      "No data for #234 at https://socialblade.com/youtube/top/category/shows\n"
     ]
    },
    {
     "name": "stderr",
     "output_type": "stream",
     "text": [
      "\r",
      " 66%|██████▋   | 166/250 [00:32<00:06, 12.13it/s]"
     ]
    },
    {
     "name": "stdout",
     "output_type": "stream",
     "text": [
      "No data for #235 at https://socialblade.com/youtube/top/category/shows\n"
     ]
    },
    {
     "name": "stderr",
     "output_type": "stream",
     "text": [
      " 97%|█████████▋| 243/250 [00:36<00:00,  9.87it/s]"
     ]
    },
    {
     "name": "stdout",
     "output_type": "stream",
     "text": [
      "No data for #236 at https://socialblade.com/youtube/top/category/shows\n"
     ]
    },
    {
     "name": "stderr",
     "output_type": "stream",
     "text": [
      "\r",
      " 67%|██████▋   | 168/250 [00:32<00:06, 12.51it/s]"
     ]
    },
    {
     "name": "stdout",
     "output_type": "stream",
     "text": [
      "No data for #237 at https://socialblade.com/youtube/top/category/shows\n"
     ]
    },
    {
     "name": "stderr",
     "output_type": "stream",
     "text": [
      " 68%|██████▊   | 170/250 [00:32<00:06, 12.67it/s]"
     ]
    },
    {
     "name": "stdout",
     "output_type": "stream",
     "text": [
      "No data for #238 at https://socialblade.com/youtube/top/category/shows\n"
     ]
    },
    {
     "name": "stderr",
     "output_type": "stream",
     "text": [
      "\r",
      " 78%|███████▊  | 196/250 [00:27<00:04, 12.22it/s]"
     ]
    },
    {
     "name": "stdout",
     "output_type": "stream",
     "text": [
      "No data for #239 at https://socialblade.com/youtube/top/category/shows\n"
     ]
    },
    {
     "name": "stderr",
     "output_type": "stream",
     "text": [
      " 69%|██████▉   | 172/250 [00:32<00:06, 12.76it/s]"
     ]
    },
    {
     "name": "stdout",
     "output_type": "stream",
     "text": [
      "No data for #240 at https://socialblade.com/youtube/top/category/shows\n"
     ]
    },
    {
     "name": "stderr",
     "output_type": "stream",
     "text": [
      "\r",
      " 79%|███████▉  | 198/250 [00:28<00:04, 12.23it/s]"
     ]
    },
    {
     "name": "stdout",
     "output_type": "stream",
     "text": [
      "No data for #241 at https://socialblade.com/youtube/top/category/shows\n"
     ]
    },
    {
     "name": "stderr",
     "output_type": "stream",
     "text": [
      "100%|█████████▉| 249/250 [00:36<00:00, 10.09it/s]"
     ]
    },
    {
     "name": "stdout",
     "output_type": "stream",
     "text": [
      "No data for #242 at https://socialblade.com/youtube/top/category/shows"
     ]
    },
    {
     "name": "stderr",
     "output_type": "stream",
     "text": [
      "\r",
      " 80%|████████  | 200/250 [00:28<00:04, 12.11it/s]"
     ]
    },
    {
     "name": "stdout",
     "output_type": "stream",
     "text": [
      "\n"
     ]
    },
    {
     "name": "stderr",
     "output_type": "stream",
     "text": [
      "100%|██████████| 250/250 [00:36<00:00,  6.81it/s]\n",
      " 70%|███████   | 176/250 [00:33<00:06, 12.26it/s]"
     ]
    },
    {
     "name": "stdout",
     "output_type": "stream",
     "text": [
      "No data for #243 at https://socialblade.com/youtube/top/category/shows\n"
     ]
    },
    {
     "name": "stderr",
     "output_type": "stream",
     "text": [
      " 81%|████████  | 202/250 [00:28<00:04, 11.04it/s]"
     ]
    },
    {
     "name": "stdout",
     "output_type": "stream",
     "text": [
      "No data for #244 at https://socialblade.com/youtube/top/category/shows\n"
     ]
    },
    {
     "name": "stderr",
     "output_type": "stream",
     "text": [
      " 71%|███████   | 178/250 [00:33<00:06, 10.79it/s]"
     ]
    },
    {
     "name": "stdout",
     "output_type": "stream",
     "text": [
      "No data for #245 at https://socialblade.com/youtube/top/category/shows\n"
     ]
    },
    {
     "name": "stderr",
     "output_type": "stream",
     "text": [
      " 72%|███████▏  | 180/250 [00:33<00:06, 11.21it/s]"
     ]
    },
    {
     "name": "stdout",
     "output_type": "stream",
     "text": [
      "No data for #246 at https://socialblade.com/youtube/top/category/shows\n"
     ]
    },
    {
     "name": "stderr",
     "output_type": "stream",
     "text": [
      "\r",
      " 97%|█████████▋| 242/250 [00:32<00:00,  8.84it/s]"
     ]
    },
    {
     "name": "stdout",
     "output_type": "stream",
     "text": [
      "No data for #247 at https://socialblade.com/youtube/top/category/shows\n"
     ]
    },
    {
     "name": "stderr",
     "output_type": "stream",
     "text": [
      " 73%|███████▎  | 182/250 [00:33<00:05, 11.37it/s]"
     ]
    },
    {
     "name": "stdout",
     "output_type": "stream",
     "text": [
      "No data for #248 at https://socialblade.com/youtube/top/category/shows\n"
     ]
    },
    {
     "name": "stderr",
     "output_type": "stream",
     "text": [
      " 74%|███████▎  | 184/250 [00:33<00:05, 12.35it/s]"
     ]
    },
    {
     "name": "stdout",
     "output_type": "stream",
     "text": [
      "No data for #249 at https://socialblade.com/youtube/top/category/shows\n"
     ]
    },
    {
     "name": "stderr",
     "output_type": "stream",
     "text": [
      "\r",
      " 98%|█████████▊| 245/250 [00:32<00:00,  9.55it/s]"
     ]
    },
    {
     "name": "stdout",
     "output_type": "stream",
     "text": [
      "No data for #250 at https://socialblade.com/youtube/top/category/shows\n"
     ]
    },
    {
     "name": "stderr",
     "output_type": "stream",
     "text": [
      " 84%|████████▍ | 210/250 [00:29<00:03, 12.01it/s]"
     ]
    },
    {
     "name": "stdout",
     "output_type": "stream",
     "text": [
      "No data for #251 at https://socialblade.com/youtube/top/category/shows\n"
     ]
    },
    {
     "name": "stderr",
     "output_type": "stream",
     "text": [
      "\r",
      " 99%|█████████▉| 247/250 [00:32<00:00, 10.23it/s]"
     ]
    },
    {
     "name": "stdout",
     "output_type": "stream",
     "text": [
      "No data for #252 at https://socialblade.com/youtube/top/category/shows\n"
     ]
    },
    {
     "name": "stderr",
     "output_type": "stream",
     "text": [
      " 85%|████████▍ | 212/250 [00:29<00:03, 11.87it/s]"
     ]
    },
    {
     "name": "stdout",
     "output_type": "stream",
     "text": [
      "No data for #253 at https://socialblade.com/youtube/top/category/shows\n"
     ]
    },
    {
     "name": "stderr",
     "output_type": "stream",
     "text": [
      " 76%|███████▌  | 190/250 [00:34<00:04, 13.12it/s]"
     ]
    },
    {
     "name": "stdout",
     "output_type": "stream",
     "text": [
      "No data for #254 at https://socialblade.com/youtube/top/category/shows\n"
     ]
    },
    {
     "name": "stderr",
     "output_type": "stream",
     "text": [
      "100%|██████████| 250/250 [00:33<00:00,  7.55it/s]\n",
      "100%|██████████| 250/250 [00:32<00:00,  7.74it/s]\n",
      "100%|██████████| 250/250 [00:38<00:00,  6.43it/s]\n",
      "100%|██████████| 250/250 [00:12<00:00, 19.56it/s]\n"
     ]
    },
    {
     "name": "stdout",
     "output_type": "stream",
     "text": [
      "[('AUTO & VEHICLES', 280916), ('COMEDY', 317312), ('EDUCATION', 371390), ('ENTERTAINMENT', 3377595), ('FILM', 461724), ('GAMING', 574875), ('HOW TO & STYLE', 350535), ('MADE FOR KIDS', 212698), ('MUSIC', 572391), ('NEWS & POLITICS', 13385741), ('NONPROFIT & ACTIVISM', 739769), ('PEOPLE & BLOGS', 577470), ('PETS & ANIMALS', 275744), ('SCIENCE & TECHNOLOGY', 250786), ('SHOWS', 23232), ('SPORTS', 1960811), ('TRAVEL', 425396)]\n"
     ]
    }
   ],
   "source": [
    "def channel_types_list():\n",
    "    channel_types = []\n",
    "    url = 'https://socialblade.com/youtube/top/'\n",
    "    browser = webdriver.Firefox(options=options)\n",
    "    browser.get(url)\n",
    "    browser.implicitly_wait(3)\n",
    "    \n",
    "    div = browser.find_element_by_xpath('/html/body/div[11]/div[1]/div[8]')\n",
    "    links = div.find_elements_by_tag_name('a')\n",
    "    for link in tqdm(links):\n",
    "        name = link.text\n",
    "        href = link.get_attribute('href')\n",
    "        channel_types.append((name, href))\n",
    "        \n",
    "    browser.quit()\n",
    "    \n",
    "    return channel_types\n",
    "\n",
    "\n",
    "def total_uploads_by_channel_type(url, channel_type_name):\n",
    "    uploads = 0\n",
    "    browser = webdriver.Firefox(options=options)\n",
    "    browser.get(url)\n",
    "    browser.implicitly_wait(3)\n",
    "    \n",
    "    for i in tqdm(range(5, 255)):\n",
    "        try:\n",
    "            div = browser.find_element_by_xpath('/html/body/div[11]/div[2]/div[{}]'.format(i))\n",
    "            row = div.find_elements_by_tag_name('div')\n",
    "            channel_name_raw = row[2].text\n",
    "            value_raw = row[3].text\n",
    "            \n",
    "            if value_raw == '--' and channel_name_raw == '':\n",
    "                raise Exception('No data for #{} at {}'.format(i, url))\n",
    "            \n",
    "            if value_raw == '--':\n",
    "                raise Exception('No uploads for #{} at {}'.format(i, url))\n",
    "            \n",
    "            uploads += int(value_raw.replace(',', ''))\n",
    "            \n",
    "        except Exception as e:\n",
    "            print(e)\n",
    "            \n",
    "    \n",
    "    browser.quit()\n",
    "    \n",
    "    return channel_type_name, uploads\n",
    "\n",
    "# list of channel types from website\n",
    "channel_types_list = channel_types_list()\n",
    "channel_names, channel_urls = zip(*channel_types_list)\n",
    "    \n",
    "def total_uploads_list(func, channel_urls, channel_names, workers=multiprocessing.cpu_count()):\n",
    "    with ProcessPoolExecutor(workers) as ex:\n",
    "        res = ex.map(func, channel_urls, channel_names)\n",
    "        return list(res)\n",
    "\n",
    "total_uploads_list = total_uploads_list(total_uploads_by_channel_type, channel_urls, channel_names)\n",
    "print(total_uploads_list)"
   ]
  },
  {
   "cell_type": "code",
   "execution_count": 6,
   "metadata": {},
   "outputs": [
    {
     "data": {
      "application/javascript": [
       "/* Put everything inside the global mpl namespace */\n",
       "window.mpl = {};\n",
       "\n",
       "\n",
       "mpl.get_websocket_type = function() {\n",
       "    if (typeof(WebSocket) !== 'undefined') {\n",
       "        return WebSocket;\n",
       "    } else if (typeof(MozWebSocket) !== 'undefined') {\n",
       "        return MozWebSocket;\n",
       "    } else {\n",
       "        alert('Your browser does not have WebSocket support. ' +\n",
       "              'Please try Chrome, Safari or Firefox ≥ 6. ' +\n",
       "              'Firefox 4 and 5 are also supported but you ' +\n",
       "              'have to enable WebSockets in about:config.');\n",
       "    };\n",
       "}\n",
       "\n",
       "mpl.figure = function(figure_id, websocket, ondownload, parent_element) {\n",
       "    this.id = figure_id;\n",
       "\n",
       "    this.ws = websocket;\n",
       "\n",
       "    this.supports_binary = (this.ws.binaryType != undefined);\n",
       "\n",
       "    if (!this.supports_binary) {\n",
       "        var warnings = document.getElementById(\"mpl-warnings\");\n",
       "        if (warnings) {\n",
       "            warnings.style.display = 'block';\n",
       "            warnings.textContent = (\n",
       "                \"This browser does not support binary websocket messages. \" +\n",
       "                    \"Performance may be slow.\");\n",
       "        }\n",
       "    }\n",
       "\n",
       "    this.imageObj = new Image();\n",
       "\n",
       "    this.context = undefined;\n",
       "    this.message = undefined;\n",
       "    this.canvas = undefined;\n",
       "    this.rubberband_canvas = undefined;\n",
       "    this.rubberband_context = undefined;\n",
       "    this.format_dropdown = undefined;\n",
       "\n",
       "    this.image_mode = 'full';\n",
       "\n",
       "    this.root = $('<div/>');\n",
       "    this._root_extra_style(this.root)\n",
       "    this.root.attr('style', 'display: inline-block');\n",
       "\n",
       "    $(parent_element).append(this.root);\n",
       "\n",
       "    this._init_header(this);\n",
       "    this._init_canvas(this);\n",
       "    this._init_toolbar(this);\n",
       "\n",
       "    var fig = this;\n",
       "\n",
       "    this.waiting = false;\n",
       "\n",
       "    this.ws.onopen =  function () {\n",
       "            fig.send_message(\"supports_binary\", {value: fig.supports_binary});\n",
       "            fig.send_message(\"send_image_mode\", {});\n",
       "            if (mpl.ratio != 1) {\n",
       "                fig.send_message(\"set_dpi_ratio\", {'dpi_ratio': mpl.ratio});\n",
       "            }\n",
       "            fig.send_message(\"refresh\", {});\n",
       "        }\n",
       "\n",
       "    this.imageObj.onload = function() {\n",
       "            if (fig.image_mode == 'full') {\n",
       "                // Full images could contain transparency (where diff images\n",
       "                // almost always do), so we need to clear the canvas so that\n",
       "                // there is no ghosting.\n",
       "                fig.context.clearRect(0, 0, fig.canvas.width, fig.canvas.height);\n",
       "            }\n",
       "            fig.context.drawImage(fig.imageObj, 0, 0);\n",
       "        };\n",
       "\n",
       "    this.imageObj.onunload = function() {\n",
       "        fig.ws.close();\n",
       "    }\n",
       "\n",
       "    this.ws.onmessage = this._make_on_message_function(this);\n",
       "\n",
       "    this.ondownload = ondownload;\n",
       "}\n",
       "\n",
       "mpl.figure.prototype._init_header = function() {\n",
       "    var titlebar = $(\n",
       "        '<div class=\"ui-dialog-titlebar ui-widget-header ui-corner-all ' +\n",
       "        'ui-helper-clearfix\"/>');\n",
       "    var titletext = $(\n",
       "        '<div class=\"ui-dialog-title\" style=\"width: 100%; ' +\n",
       "        'text-align: center; padding: 3px;\"/>');\n",
       "    titlebar.append(titletext)\n",
       "    this.root.append(titlebar);\n",
       "    this.header = titletext[0];\n",
       "}\n",
       "\n",
       "\n",
       "\n",
       "mpl.figure.prototype._canvas_extra_style = function(canvas_div) {\n",
       "\n",
       "}\n",
       "\n",
       "\n",
       "mpl.figure.prototype._root_extra_style = function(canvas_div) {\n",
       "\n",
       "}\n",
       "\n",
       "mpl.figure.prototype._init_canvas = function() {\n",
       "    var fig = this;\n",
       "\n",
       "    var canvas_div = $('<div/>');\n",
       "\n",
       "    canvas_div.attr('style', 'position: relative; clear: both; outline: 0');\n",
       "\n",
       "    function canvas_keyboard_event(event) {\n",
       "        return fig.key_event(event, event['data']);\n",
       "    }\n",
       "\n",
       "    canvas_div.keydown('key_press', canvas_keyboard_event);\n",
       "    canvas_div.keyup('key_release', canvas_keyboard_event);\n",
       "    this.canvas_div = canvas_div\n",
       "    this._canvas_extra_style(canvas_div)\n",
       "    this.root.append(canvas_div);\n",
       "\n",
       "    var canvas = $('<canvas/>');\n",
       "    canvas.addClass('mpl-canvas');\n",
       "    canvas.attr('style', \"left: 0; top: 0; z-index: 0; outline: 0\")\n",
       "\n",
       "    this.canvas = canvas[0];\n",
       "    this.context = canvas[0].getContext(\"2d\");\n",
       "\n",
       "    var backingStore = this.context.backingStorePixelRatio ||\n",
       "\tthis.context.webkitBackingStorePixelRatio ||\n",
       "\tthis.context.mozBackingStorePixelRatio ||\n",
       "\tthis.context.msBackingStorePixelRatio ||\n",
       "\tthis.context.oBackingStorePixelRatio ||\n",
       "\tthis.context.backingStorePixelRatio || 1;\n",
       "\n",
       "    mpl.ratio = (window.devicePixelRatio || 1) / backingStore;\n",
       "\n",
       "    var rubberband = $('<canvas/>');\n",
       "    rubberband.attr('style', \"position: absolute; left: 0; top: 0; z-index: 1;\")\n",
       "\n",
       "    var pass_mouse_events = true;\n",
       "\n",
       "    canvas_div.resizable({\n",
       "        start: function(event, ui) {\n",
       "            pass_mouse_events = false;\n",
       "        },\n",
       "        resize: function(event, ui) {\n",
       "            fig.request_resize(ui.size.width, ui.size.height);\n",
       "        },\n",
       "        stop: function(event, ui) {\n",
       "            pass_mouse_events = true;\n",
       "            fig.request_resize(ui.size.width, ui.size.height);\n",
       "        },\n",
       "    });\n",
       "\n",
       "    function mouse_event_fn(event) {\n",
       "        if (pass_mouse_events)\n",
       "            return fig.mouse_event(event, event['data']);\n",
       "    }\n",
       "\n",
       "    rubberband.mousedown('button_press', mouse_event_fn);\n",
       "    rubberband.mouseup('button_release', mouse_event_fn);\n",
       "    // Throttle sequential mouse events to 1 every 20ms.\n",
       "    rubberband.mousemove('motion_notify', mouse_event_fn);\n",
       "\n",
       "    rubberband.mouseenter('figure_enter', mouse_event_fn);\n",
       "    rubberband.mouseleave('figure_leave', mouse_event_fn);\n",
       "\n",
       "    canvas_div.on(\"wheel\", function (event) {\n",
       "        event = event.originalEvent;\n",
       "        event['data'] = 'scroll'\n",
       "        if (event.deltaY < 0) {\n",
       "            event.step = 1;\n",
       "        } else {\n",
       "            event.step = -1;\n",
       "        }\n",
       "        mouse_event_fn(event);\n",
       "    });\n",
       "\n",
       "    canvas_div.append(canvas);\n",
       "    canvas_div.append(rubberband);\n",
       "\n",
       "    this.rubberband = rubberband;\n",
       "    this.rubberband_canvas = rubberband[0];\n",
       "    this.rubberband_context = rubberband[0].getContext(\"2d\");\n",
       "    this.rubberband_context.strokeStyle = \"#000000\";\n",
       "\n",
       "    this._resize_canvas = function(width, height) {\n",
       "        // Keep the size of the canvas, canvas container, and rubber band\n",
       "        // canvas in synch.\n",
       "        canvas_div.css('width', width)\n",
       "        canvas_div.css('height', height)\n",
       "\n",
       "        canvas.attr('width', width * mpl.ratio);\n",
       "        canvas.attr('height', height * mpl.ratio);\n",
       "        canvas.attr('style', 'width: ' + width + 'px; height: ' + height + 'px;');\n",
       "\n",
       "        rubberband.attr('width', width);\n",
       "        rubberband.attr('height', height);\n",
       "    }\n",
       "\n",
       "    // Set the figure to an initial 600x600px, this will subsequently be updated\n",
       "    // upon first draw.\n",
       "    this._resize_canvas(600, 600);\n",
       "\n",
       "    // Disable right mouse context menu.\n",
       "    $(this.rubberband_canvas).bind(\"contextmenu\",function(e){\n",
       "        return false;\n",
       "    });\n",
       "\n",
       "    function set_focus () {\n",
       "        canvas.focus();\n",
       "        canvas_div.focus();\n",
       "    }\n",
       "\n",
       "    window.setTimeout(set_focus, 100);\n",
       "}\n",
       "\n",
       "mpl.figure.prototype._init_toolbar = function() {\n",
       "    var fig = this;\n",
       "\n",
       "    var nav_element = $('<div/>');\n",
       "    nav_element.attr('style', 'width: 100%');\n",
       "    this.root.append(nav_element);\n",
       "\n",
       "    // Define a callback function for later on.\n",
       "    function toolbar_event(event) {\n",
       "        return fig.toolbar_button_onclick(event['data']);\n",
       "    }\n",
       "    function toolbar_mouse_event(event) {\n",
       "        return fig.toolbar_button_onmouseover(event['data']);\n",
       "    }\n",
       "\n",
       "    for(var toolbar_ind in mpl.toolbar_items) {\n",
       "        var name = mpl.toolbar_items[toolbar_ind][0];\n",
       "        var tooltip = mpl.toolbar_items[toolbar_ind][1];\n",
       "        var image = mpl.toolbar_items[toolbar_ind][2];\n",
       "        var method_name = mpl.toolbar_items[toolbar_ind][3];\n",
       "\n",
       "        if (!name) {\n",
       "            // put a spacer in here.\n",
       "            continue;\n",
       "        }\n",
       "        var button = $('<button/>');\n",
       "        button.addClass('ui-button ui-widget ui-state-default ui-corner-all ' +\n",
       "                        'ui-button-icon-only');\n",
       "        button.attr('role', 'button');\n",
       "        button.attr('aria-disabled', 'false');\n",
       "        button.click(method_name, toolbar_event);\n",
       "        button.mouseover(tooltip, toolbar_mouse_event);\n",
       "\n",
       "        var icon_img = $('<span/>');\n",
       "        icon_img.addClass('ui-button-icon-primary ui-icon');\n",
       "        icon_img.addClass(image);\n",
       "        icon_img.addClass('ui-corner-all');\n",
       "\n",
       "        var tooltip_span = $('<span/>');\n",
       "        tooltip_span.addClass('ui-button-text');\n",
       "        tooltip_span.html(tooltip);\n",
       "\n",
       "        button.append(icon_img);\n",
       "        button.append(tooltip_span);\n",
       "\n",
       "        nav_element.append(button);\n",
       "    }\n",
       "\n",
       "    var fmt_picker_span = $('<span/>');\n",
       "\n",
       "    var fmt_picker = $('<select/>');\n",
       "    fmt_picker.addClass('mpl-toolbar-option ui-widget ui-widget-content');\n",
       "    fmt_picker_span.append(fmt_picker);\n",
       "    nav_element.append(fmt_picker_span);\n",
       "    this.format_dropdown = fmt_picker[0];\n",
       "\n",
       "    for (var ind in mpl.extensions) {\n",
       "        var fmt = mpl.extensions[ind];\n",
       "        var option = $(\n",
       "            '<option/>', {selected: fmt === mpl.default_extension}).html(fmt);\n",
       "        fmt_picker.append(option);\n",
       "    }\n",
       "\n",
       "    // Add hover states to the ui-buttons\n",
       "    $( \".ui-button\" ).hover(\n",
       "        function() { $(this).addClass(\"ui-state-hover\");},\n",
       "        function() { $(this).removeClass(\"ui-state-hover\");}\n",
       "    );\n",
       "\n",
       "    var status_bar = $('<span class=\"mpl-message\"/>');\n",
       "    nav_element.append(status_bar);\n",
       "    this.message = status_bar[0];\n",
       "}\n",
       "\n",
       "mpl.figure.prototype.request_resize = function(x_pixels, y_pixels) {\n",
       "    // Request matplotlib to resize the figure. Matplotlib will then trigger a resize in the client,\n",
       "    // which will in turn request a refresh of the image.\n",
       "    this.send_message('resize', {'width': x_pixels, 'height': y_pixels});\n",
       "}\n",
       "\n",
       "mpl.figure.prototype.send_message = function(type, properties) {\n",
       "    properties['type'] = type;\n",
       "    properties['figure_id'] = this.id;\n",
       "    this.ws.send(JSON.stringify(properties));\n",
       "}\n",
       "\n",
       "mpl.figure.prototype.send_draw_message = function() {\n",
       "    if (!this.waiting) {\n",
       "        this.waiting = true;\n",
       "        this.ws.send(JSON.stringify({type: \"draw\", figure_id: this.id}));\n",
       "    }\n",
       "}\n",
       "\n",
       "\n",
       "mpl.figure.prototype.handle_save = function(fig, msg) {\n",
       "    var format_dropdown = fig.format_dropdown;\n",
       "    var format = format_dropdown.options[format_dropdown.selectedIndex].value;\n",
       "    fig.ondownload(fig, format);\n",
       "}\n",
       "\n",
       "\n",
       "mpl.figure.prototype.handle_resize = function(fig, msg) {\n",
       "    var size = msg['size'];\n",
       "    if (size[0] != fig.canvas.width || size[1] != fig.canvas.height) {\n",
       "        fig._resize_canvas(size[0], size[1]);\n",
       "        fig.send_message(\"refresh\", {});\n",
       "    };\n",
       "}\n",
       "\n",
       "mpl.figure.prototype.handle_rubberband = function(fig, msg) {\n",
       "    var x0 = msg['x0'] / mpl.ratio;\n",
       "    var y0 = (fig.canvas.height - msg['y0']) / mpl.ratio;\n",
       "    var x1 = msg['x1'] / mpl.ratio;\n",
       "    var y1 = (fig.canvas.height - msg['y1']) / mpl.ratio;\n",
       "    x0 = Math.floor(x0) + 0.5;\n",
       "    y0 = Math.floor(y0) + 0.5;\n",
       "    x1 = Math.floor(x1) + 0.5;\n",
       "    y1 = Math.floor(y1) + 0.5;\n",
       "    var min_x = Math.min(x0, x1);\n",
       "    var min_y = Math.min(y0, y1);\n",
       "    var width = Math.abs(x1 - x0);\n",
       "    var height = Math.abs(y1 - y0);\n",
       "\n",
       "    fig.rubberband_context.clearRect(\n",
       "        0, 0, fig.canvas.width / mpl.ratio, fig.canvas.height / mpl.ratio);\n",
       "\n",
       "    fig.rubberband_context.strokeRect(min_x, min_y, width, height);\n",
       "}\n",
       "\n",
       "mpl.figure.prototype.handle_figure_label = function(fig, msg) {\n",
       "    // Updates the figure title.\n",
       "    fig.header.textContent = msg['label'];\n",
       "}\n",
       "\n",
       "mpl.figure.prototype.handle_cursor = function(fig, msg) {\n",
       "    var cursor = msg['cursor'];\n",
       "    switch(cursor)\n",
       "    {\n",
       "    case 0:\n",
       "        cursor = 'pointer';\n",
       "        break;\n",
       "    case 1:\n",
       "        cursor = 'default';\n",
       "        break;\n",
       "    case 2:\n",
       "        cursor = 'crosshair';\n",
       "        break;\n",
       "    case 3:\n",
       "        cursor = 'move';\n",
       "        break;\n",
       "    }\n",
       "    fig.rubberband_canvas.style.cursor = cursor;\n",
       "}\n",
       "\n",
       "mpl.figure.prototype.handle_message = function(fig, msg) {\n",
       "    fig.message.textContent = msg['message'];\n",
       "}\n",
       "\n",
       "mpl.figure.prototype.handle_draw = function(fig, msg) {\n",
       "    // Request the server to send over a new figure.\n",
       "    fig.send_draw_message();\n",
       "}\n",
       "\n",
       "mpl.figure.prototype.handle_image_mode = function(fig, msg) {\n",
       "    fig.image_mode = msg['mode'];\n",
       "}\n",
       "\n",
       "mpl.figure.prototype.updated_canvas_event = function() {\n",
       "    // Called whenever the canvas gets updated.\n",
       "    this.send_message(\"ack\", {});\n",
       "}\n",
       "\n",
       "// A function to construct a web socket function for onmessage handling.\n",
       "// Called in the figure constructor.\n",
       "mpl.figure.prototype._make_on_message_function = function(fig) {\n",
       "    return function socket_on_message(evt) {\n",
       "        if (evt.data instanceof Blob) {\n",
       "            /* FIXME: We get \"Resource interpreted as Image but\n",
       "             * transferred with MIME type text/plain:\" errors on\n",
       "             * Chrome.  But how to set the MIME type?  It doesn't seem\n",
       "             * to be part of the websocket stream */\n",
       "            evt.data.type = \"image/png\";\n",
       "\n",
       "            /* Free the memory for the previous frames */\n",
       "            if (fig.imageObj.src) {\n",
       "                (window.URL || window.webkitURL).revokeObjectURL(\n",
       "                    fig.imageObj.src);\n",
       "            }\n",
       "\n",
       "            fig.imageObj.src = (window.URL || window.webkitURL).createObjectURL(\n",
       "                evt.data);\n",
       "            fig.updated_canvas_event();\n",
       "            fig.waiting = false;\n",
       "            return;\n",
       "        }\n",
       "        else if (typeof evt.data === 'string' && evt.data.slice(0, 21) == \"data:image/png;base64\") {\n",
       "            fig.imageObj.src = evt.data;\n",
       "            fig.updated_canvas_event();\n",
       "            fig.waiting = false;\n",
       "            return;\n",
       "        }\n",
       "\n",
       "        var msg = JSON.parse(evt.data);\n",
       "        var msg_type = msg['type'];\n",
       "\n",
       "        // Call the  \"handle_{type}\" callback, which takes\n",
       "        // the figure and JSON message as its only arguments.\n",
       "        try {\n",
       "            var callback = fig[\"handle_\" + msg_type];\n",
       "        } catch (e) {\n",
       "            console.log(\"No handler for the '\" + msg_type + \"' message type: \", msg);\n",
       "            return;\n",
       "        }\n",
       "\n",
       "        if (callback) {\n",
       "            try {\n",
       "                // console.log(\"Handling '\" + msg_type + \"' message: \", msg);\n",
       "                callback(fig, msg);\n",
       "            } catch (e) {\n",
       "                console.log(\"Exception inside the 'handler_\" + msg_type + \"' callback:\", e, e.stack, msg);\n",
       "            }\n",
       "        }\n",
       "    };\n",
       "}\n",
       "\n",
       "// from http://stackoverflow.com/questions/1114465/getting-mouse-location-in-canvas\n",
       "mpl.findpos = function(e) {\n",
       "    //this section is from http://www.quirksmode.org/js/events_properties.html\n",
       "    var targ;\n",
       "    if (!e)\n",
       "        e = window.event;\n",
       "    if (e.target)\n",
       "        targ = e.target;\n",
       "    else if (e.srcElement)\n",
       "        targ = e.srcElement;\n",
       "    if (targ.nodeType == 3) // defeat Safari bug\n",
       "        targ = targ.parentNode;\n",
       "\n",
       "    // jQuery normalizes the pageX and pageY\n",
       "    // pageX,Y are the mouse positions relative to the document\n",
       "    // offset() returns the position of the element relative to the document\n",
       "    var x = e.pageX - $(targ).offset().left;\n",
       "    var y = e.pageY - $(targ).offset().top;\n",
       "\n",
       "    return {\"x\": x, \"y\": y};\n",
       "};\n",
       "\n",
       "/*\n",
       " * return a copy of an object with only non-object keys\n",
       " * we need this to avoid circular references\n",
       " * http://stackoverflow.com/a/24161582/3208463\n",
       " */\n",
       "function simpleKeys (original) {\n",
       "  return Object.keys(original).reduce(function (obj, key) {\n",
       "    if (typeof original[key] !== 'object')\n",
       "        obj[key] = original[key]\n",
       "    return obj;\n",
       "  }, {});\n",
       "}\n",
       "\n",
       "mpl.figure.prototype.mouse_event = function(event, name) {\n",
       "    var canvas_pos = mpl.findpos(event)\n",
       "\n",
       "    if (name === 'button_press')\n",
       "    {\n",
       "        this.canvas.focus();\n",
       "        this.canvas_div.focus();\n",
       "    }\n",
       "\n",
       "    var x = canvas_pos.x * mpl.ratio;\n",
       "    var y = canvas_pos.y * mpl.ratio;\n",
       "\n",
       "    this.send_message(name, {x: x, y: y, button: event.button,\n",
       "                             step: event.step,\n",
       "                             guiEvent: simpleKeys(event)});\n",
       "\n",
       "    /* This prevents the web browser from automatically changing to\n",
       "     * the text insertion cursor when the button is pressed.  We want\n",
       "     * to control all of the cursor setting manually through the\n",
       "     * 'cursor' event from matplotlib */\n",
       "    event.preventDefault();\n",
       "    return false;\n",
       "}\n",
       "\n",
       "mpl.figure.prototype._key_event_extra = function(event, name) {\n",
       "    // Handle any extra behaviour associated with a key event\n",
       "}\n",
       "\n",
       "mpl.figure.prototype.key_event = function(event, name) {\n",
       "\n",
       "    // Prevent repeat events\n",
       "    if (name == 'key_press')\n",
       "    {\n",
       "        if (event.which === this._key)\n",
       "            return;\n",
       "        else\n",
       "            this._key = event.which;\n",
       "    }\n",
       "    if (name == 'key_release')\n",
       "        this._key = null;\n",
       "\n",
       "    var value = '';\n",
       "    if (event.ctrlKey && event.which != 17)\n",
       "        value += \"ctrl+\";\n",
       "    if (event.altKey && event.which != 18)\n",
       "        value += \"alt+\";\n",
       "    if (event.shiftKey && event.which != 16)\n",
       "        value += \"shift+\";\n",
       "\n",
       "    value += 'k';\n",
       "    value += event.which.toString();\n",
       "\n",
       "    this._key_event_extra(event, name);\n",
       "\n",
       "    this.send_message(name, {key: value,\n",
       "                             guiEvent: simpleKeys(event)});\n",
       "    return false;\n",
       "}\n",
       "\n",
       "mpl.figure.prototype.toolbar_button_onclick = function(name) {\n",
       "    if (name == 'download') {\n",
       "        this.handle_save(this, null);\n",
       "    } else {\n",
       "        this.send_message(\"toolbar_button\", {name: name});\n",
       "    }\n",
       "};\n",
       "\n",
       "mpl.figure.prototype.toolbar_button_onmouseover = function(tooltip) {\n",
       "    this.message.textContent = tooltip;\n",
       "};\n",
       "mpl.toolbar_items = [[\"Home\", \"Reset original view\", \"fa fa-home icon-home\", \"home\"], [\"Back\", \"Back to previous view\", \"fa fa-arrow-left icon-arrow-left\", \"back\"], [\"Forward\", \"Forward to next view\", \"fa fa-arrow-right icon-arrow-right\", \"forward\"], [\"\", \"\", \"\", \"\"], [\"Pan\", \"Pan axes with left mouse, zoom with right\", \"fa fa-arrows icon-move\", \"pan\"], [\"Zoom\", \"Zoom to rectangle\", \"fa fa-square-o icon-check-empty\", \"zoom\"], [\"\", \"\", \"\", \"\"], [\"Download\", \"Download plot\", \"fa fa-floppy-o icon-save\", \"download\"]];\n",
       "\n",
       "mpl.extensions = [\"eps\", \"jpeg\", \"pdf\", \"png\", \"ps\", \"raw\", \"svg\", \"tif\"];\n",
       "\n",
       "mpl.default_extension = \"png\";var comm_websocket_adapter = function(comm) {\n",
       "    // Create a \"websocket\"-like object which calls the given IPython comm\n",
       "    // object with the appropriate methods. Currently this is a non binary\n",
       "    // socket, so there is still some room for performance tuning.\n",
       "    var ws = {};\n",
       "\n",
       "    ws.close = function() {\n",
       "        comm.close()\n",
       "    };\n",
       "    ws.send = function(m) {\n",
       "        //console.log('sending', m);\n",
       "        comm.send(m);\n",
       "    };\n",
       "    // Register the callback with on_msg.\n",
       "    comm.on_msg(function(msg) {\n",
       "        //console.log('receiving', msg['content']['data'], msg);\n",
       "        // Pass the mpl event to the overridden (by mpl) onmessage function.\n",
       "        ws.onmessage(msg['content']['data'])\n",
       "    });\n",
       "    return ws;\n",
       "}\n",
       "\n",
       "mpl.mpl_figure_comm = function(comm, msg) {\n",
       "    // This is the function which gets called when the mpl process\n",
       "    // starts-up an IPython Comm through the \"matplotlib\" channel.\n",
       "\n",
       "    var id = msg.content.data.id;\n",
       "    // Get hold of the div created by the display call when the Comm\n",
       "    // socket was opened in Python.\n",
       "    var element = $(\"#\" + id);\n",
       "    var ws_proxy = comm_websocket_adapter(comm)\n",
       "\n",
       "    function ondownload(figure, format) {\n",
       "        window.open(figure.imageObj.src);\n",
       "    }\n",
       "\n",
       "    var fig = new mpl.figure(id, ws_proxy,\n",
       "                           ondownload,\n",
       "                           element.get(0));\n",
       "\n",
       "    // Call onopen now - mpl needs it, as it is assuming we've passed it a real\n",
       "    // web socket which is closed, not our websocket->open comm proxy.\n",
       "    ws_proxy.onopen();\n",
       "\n",
       "    fig.parent_element = element.get(0);\n",
       "    fig.cell_info = mpl.find_output_cell(\"<div id='\" + id + \"'></div>\");\n",
       "    if (!fig.cell_info) {\n",
       "        console.error(\"Failed to find cell for figure\", id, fig);\n",
       "        return;\n",
       "    }\n",
       "\n",
       "    var output_index = fig.cell_info[2]\n",
       "    var cell = fig.cell_info[0];\n",
       "\n",
       "};\n",
       "\n",
       "mpl.figure.prototype.handle_close = function(fig, msg) {\n",
       "    var width = fig.canvas.width/mpl.ratio\n",
       "    fig.root.unbind('remove')\n",
       "\n",
       "    // Update the output cell to use the data from the current canvas.\n",
       "    fig.push_to_output();\n",
       "    var dataURL = fig.canvas.toDataURL();\n",
       "    // Re-enable the keyboard manager in IPython - without this line, in FF,\n",
       "    // the notebook keyboard shortcuts fail.\n",
       "    IPython.keyboard_manager.enable()\n",
       "    $(fig.parent_element).html('<img src=\"' + dataURL + '\" width=\"' + width + '\">');\n",
       "    fig.close_ws(fig, msg);\n",
       "}\n",
       "\n",
       "mpl.figure.prototype.close_ws = function(fig, msg){\n",
       "    fig.send_message('closing', msg);\n",
       "    // fig.ws.close()\n",
       "}\n",
       "\n",
       "mpl.figure.prototype.push_to_output = function(remove_interactive) {\n",
       "    // Turn the data on the canvas into data in the output cell.\n",
       "    var width = this.canvas.width/mpl.ratio\n",
       "    var dataURL = this.canvas.toDataURL();\n",
       "    this.cell_info[1]['text/html'] = '<img src=\"' + dataURL + '\" width=\"' + width + '\">';\n",
       "}\n",
       "\n",
       "mpl.figure.prototype.updated_canvas_event = function() {\n",
       "    // Tell IPython that the notebook contents must change.\n",
       "    IPython.notebook.set_dirty(true);\n",
       "    this.send_message(\"ack\", {});\n",
       "    var fig = this;\n",
       "    // Wait a second, then push the new image to the DOM so\n",
       "    // that it is saved nicely (might be nice to debounce this).\n",
       "    setTimeout(function () { fig.push_to_output() }, 1000);\n",
       "}\n",
       "\n",
       "mpl.figure.prototype._init_toolbar = function() {\n",
       "    var fig = this;\n",
       "\n",
       "    var nav_element = $('<div/>');\n",
       "    nav_element.attr('style', 'width: 100%');\n",
       "    this.root.append(nav_element);\n",
       "\n",
       "    // Define a callback function for later on.\n",
       "    function toolbar_event(event) {\n",
       "        return fig.toolbar_button_onclick(event['data']);\n",
       "    }\n",
       "    function toolbar_mouse_event(event) {\n",
       "        return fig.toolbar_button_onmouseover(event['data']);\n",
       "    }\n",
       "\n",
       "    for(var toolbar_ind in mpl.toolbar_items){\n",
       "        var name = mpl.toolbar_items[toolbar_ind][0];\n",
       "        var tooltip = mpl.toolbar_items[toolbar_ind][1];\n",
       "        var image = mpl.toolbar_items[toolbar_ind][2];\n",
       "        var method_name = mpl.toolbar_items[toolbar_ind][3];\n",
       "\n",
       "        if (!name) { continue; };\n",
       "\n",
       "        var button = $('<button class=\"btn btn-default\" href=\"#\" title=\"' + name + '\"><i class=\"fa ' + image + ' fa-lg\"></i></button>');\n",
       "        button.click(method_name, toolbar_event);\n",
       "        button.mouseover(tooltip, toolbar_mouse_event);\n",
       "        nav_element.append(button);\n",
       "    }\n",
       "\n",
       "    // Add the status bar.\n",
       "    var status_bar = $('<span class=\"mpl-message\" style=\"text-align:right; float: right;\"/>');\n",
       "    nav_element.append(status_bar);\n",
       "    this.message = status_bar[0];\n",
       "\n",
       "    // Add the close button to the window.\n",
       "    var buttongrp = $('<div class=\"btn-group inline pull-right\"></div>');\n",
       "    var button = $('<button class=\"btn btn-mini btn-primary\" href=\"#\" title=\"Stop Interaction\"><i class=\"fa fa-power-off icon-remove icon-large\"></i></button>');\n",
       "    button.click(function (evt) { fig.handle_close(fig, {}); } );\n",
       "    button.mouseover('Stop Interaction', toolbar_mouse_event);\n",
       "    buttongrp.append(button);\n",
       "    var titlebar = this.root.find($('.ui-dialog-titlebar'));\n",
       "    titlebar.prepend(buttongrp);\n",
       "}\n",
       "\n",
       "mpl.figure.prototype._root_extra_style = function(el){\n",
       "    var fig = this\n",
       "    el.on(\"remove\", function(){\n",
       "\tfig.close_ws(fig, {});\n",
       "    });\n",
       "}\n",
       "\n",
       "mpl.figure.prototype._canvas_extra_style = function(el){\n",
       "    // this is important to make the div 'focusable\n",
       "    el.attr('tabindex', 0)\n",
       "    // reach out to IPython and tell the keyboard manager to turn it's self\n",
       "    // off when our div gets focus\n",
       "\n",
       "    // location in version 3\n",
       "    if (IPython.notebook.keyboard_manager) {\n",
       "        IPython.notebook.keyboard_manager.register_events(el);\n",
       "    }\n",
       "    else {\n",
       "        // location in version 2\n",
       "        IPython.keyboard_manager.register_events(el);\n",
       "    }\n",
       "\n",
       "}\n",
       "\n",
       "mpl.figure.prototype._key_event_extra = function(event, name) {\n",
       "    var manager = IPython.notebook.keyboard_manager;\n",
       "    if (!manager)\n",
       "        manager = IPython.keyboard_manager;\n",
       "\n",
       "    // Check for shift+enter\n",
       "    if (event.shiftKey && event.which == 13) {\n",
       "        this.canvas_div.blur();\n",
       "        // select the cell after this one\n",
       "        var index = IPython.notebook.find_cell_index(this.cell_info[0]);\n",
       "        IPython.notebook.select(index + 1);\n",
       "    }\n",
       "}\n",
       "\n",
       "mpl.figure.prototype.handle_save = function(fig, msg) {\n",
       "    fig.ondownload(fig, null);\n",
       "}\n",
       "\n",
       "\n",
       "mpl.find_output_cell = function(html_output) {\n",
       "    // Return the cell and output element which can be found *uniquely* in the notebook.\n",
       "    // Note - this is a bit hacky, but it is done because the \"notebook_saving.Notebook\"\n",
       "    // IPython event is triggered only after the cells have been serialised, which for\n",
       "    // our purposes (turning an active figure into a static one), is too late.\n",
       "    var cells = IPython.notebook.get_cells();\n",
       "    var ncells = cells.length;\n",
       "    for (var i=0; i<ncells; i++) {\n",
       "        var cell = cells[i];\n",
       "        if (cell.cell_type === 'code'){\n",
       "            for (var j=0; j<cell.output_area.outputs.length; j++) {\n",
       "                var data = cell.output_area.outputs[j];\n",
       "                if (data.data) {\n",
       "                    // IPython >= 3 moved mimebundle to data attribute of output\n",
       "                    data = data.data;\n",
       "                }\n",
       "                if (data['text/html'] == html_output) {\n",
       "                    return [cell, data, j];\n",
       "                }\n",
       "            }\n",
       "        }\n",
       "    }\n",
       "}\n",
       "\n",
       "// Register the function which deals with the matplotlib target/channel.\n",
       "// The kernel may be null if the page has been refreshed.\n",
       "if (IPython.notebook.kernel != null) {\n",
       "    IPython.notebook.kernel.comm_manager.register_target('matplotlib', mpl.mpl_figure_comm);\n",
       "}\n"
      ],
      "text/plain": [
       "<IPython.core.display.Javascript object>"
      ]
     },
     "metadata": {},
     "output_type": "display_data"
    },
    {
     "data": {
      "text/html": [
       "<img src=\"data:image/png;base64,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\" width=\"640\">"
      ],
      "text/plain": [
       "<IPython.core.display.HTML object>"
      ]
     },
     "metadata": {},
     "output_type": "display_data"
    },
    {
     "data": {
      "text/plain": [
       "<matplotlib.lines.Line2D at 0x7fbf12264650>"
      ]
     },
     "execution_count": 6,
     "metadata": {},
     "output_type": "execute_result"
    }
   ],
   "source": [
    "%matplotlib notebook\n",
    "\n",
    "#data\n",
    "data = total_uploads_list\n",
    "data.sort(key=lambda tup: tup[1], reverse=True) # sorting data by avg_vowels\n",
    "channels, uploads = zip(*data)\n",
    "uploads_mean = np.mean(uploads)\n",
    "\n",
    "# style\n",
    "plt.style.use('Solarize_Light2')\n",
    "\n",
    "# autolayout\n",
    "plt.rcParams.update({'figure.autolayout': True})\n",
    "\n",
    "# plot\n",
    "fig, ax = plt.subplots()\n",
    "ax.bar(channels, uploads, log=True)\n",
    "#plt.bar(channels, uploads, width=0.5, align='center')\n",
    "#plt.yscale('log')\n",
    "plt.xticks(rotation=45, horizontalalignment='right',fontweight='light')\n",
    "# median\n",
    "ax.axhline(uploads_mean, ls='--', color='r')"
   ]
  },
  {
   "cell_type": "code",
   "execution_count": 7,
   "metadata": {},
   "outputs": [
    {
     "name": "stderr",
     "output_type": "stream",
     "text": [
      "100%|██████████| 250/250 [00:14<00:00, 17.10it/s]\n"
     ]
    }
   ],
   "source": [
    "\n",
    "\n",
    "def channel_types_top_250_by_country(country_code):\n",
    "    channel_types = {}\n",
    "    url = 'https://socialblade.com/youtube/top/country/{}'.format(country_code)\n",
    "    browser = webdriver.Firefox(options=options)\n",
    "    browser.get(url)\n",
    "    browser.implicitly_wait(3)\n",
    "    \n",
    "    for i in tqdm(range(5, 255)):\n",
    "        div = browser.find_element_by_xpath('/html/body/div[11]/div[2]/div[{}]'.format(i))\n",
    "        row = div.find_elements_by_tag_name('div')\n",
    "        channel_type_raw = row[2].find_element_by_tag_name('i').get_attribute('title').split(':')\n",
    "        channel_type = channel_type_raw[1].strip().capitalize()\n",
    "        if channel_type == \"\":\n",
    "            channel_type = \"Unknown\"\n",
    "        \n",
    "        if channel_type not in channel_types:\n",
    "            channel_types[channel_type] = 1\n",
    "        else:\n",
    "            channel_types[channel_type] += 1\n",
    "            \n",
    "    return channel_types\n",
    "\n",
    "channel_types_top_250 = channel_types_top_250_by_country('dk')\n",
    "\n"
   ]
  },
  {
   "cell_type": "code",
   "execution_count": 8,
   "metadata": {},
   "outputs": [
    {
     "data": {
      "application/javascript": [
       "/* Put everything inside the global mpl namespace */\n",
       "window.mpl = {};\n",
       "\n",
       "\n",
       "mpl.get_websocket_type = function() {\n",
       "    if (typeof(WebSocket) !== 'undefined') {\n",
       "        return WebSocket;\n",
       "    } else if (typeof(MozWebSocket) !== 'undefined') {\n",
       "        return MozWebSocket;\n",
       "    } else {\n",
       "        alert('Your browser does not have WebSocket support. ' +\n",
       "              'Please try Chrome, Safari or Firefox ≥ 6. ' +\n",
       "              'Firefox 4 and 5 are also supported but you ' +\n",
       "              'have to enable WebSockets in about:config.');\n",
       "    };\n",
       "}\n",
       "\n",
       "mpl.figure = function(figure_id, websocket, ondownload, parent_element) {\n",
       "    this.id = figure_id;\n",
       "\n",
       "    this.ws = websocket;\n",
       "\n",
       "    this.supports_binary = (this.ws.binaryType != undefined);\n",
       "\n",
       "    if (!this.supports_binary) {\n",
       "        var warnings = document.getElementById(\"mpl-warnings\");\n",
       "        if (warnings) {\n",
       "            warnings.style.display = 'block';\n",
       "            warnings.textContent = (\n",
       "                \"This browser does not support binary websocket messages. \" +\n",
       "                    \"Performance may be slow.\");\n",
       "        }\n",
       "    }\n",
       "\n",
       "    this.imageObj = new Image();\n",
       "\n",
       "    this.context = undefined;\n",
       "    this.message = undefined;\n",
       "    this.canvas = undefined;\n",
       "    this.rubberband_canvas = undefined;\n",
       "    this.rubberband_context = undefined;\n",
       "    this.format_dropdown = undefined;\n",
       "\n",
       "    this.image_mode = 'full';\n",
       "\n",
       "    this.root = $('<div/>');\n",
       "    this._root_extra_style(this.root)\n",
       "    this.root.attr('style', 'display: inline-block');\n",
       "\n",
       "    $(parent_element).append(this.root);\n",
       "\n",
       "    this._init_header(this);\n",
       "    this._init_canvas(this);\n",
       "    this._init_toolbar(this);\n",
       "\n",
       "    var fig = this;\n",
       "\n",
       "    this.waiting = false;\n",
       "\n",
       "    this.ws.onopen =  function () {\n",
       "            fig.send_message(\"supports_binary\", {value: fig.supports_binary});\n",
       "            fig.send_message(\"send_image_mode\", {});\n",
       "            if (mpl.ratio != 1) {\n",
       "                fig.send_message(\"set_dpi_ratio\", {'dpi_ratio': mpl.ratio});\n",
       "            }\n",
       "            fig.send_message(\"refresh\", {});\n",
       "        }\n",
       "\n",
       "    this.imageObj.onload = function() {\n",
       "            if (fig.image_mode == 'full') {\n",
       "                // Full images could contain transparency (where diff images\n",
       "                // almost always do), so we need to clear the canvas so that\n",
       "                // there is no ghosting.\n",
       "                fig.context.clearRect(0, 0, fig.canvas.width, fig.canvas.height);\n",
       "            }\n",
       "            fig.context.drawImage(fig.imageObj, 0, 0);\n",
       "        };\n",
       "\n",
       "    this.imageObj.onunload = function() {\n",
       "        fig.ws.close();\n",
       "    }\n",
       "\n",
       "    this.ws.onmessage = this._make_on_message_function(this);\n",
       "\n",
       "    this.ondownload = ondownload;\n",
       "}\n",
       "\n",
       "mpl.figure.prototype._init_header = function() {\n",
       "    var titlebar = $(\n",
       "        '<div class=\"ui-dialog-titlebar ui-widget-header ui-corner-all ' +\n",
       "        'ui-helper-clearfix\"/>');\n",
       "    var titletext = $(\n",
       "        '<div class=\"ui-dialog-title\" style=\"width: 100%; ' +\n",
       "        'text-align: center; padding: 3px;\"/>');\n",
       "    titlebar.append(titletext)\n",
       "    this.root.append(titlebar);\n",
       "    this.header = titletext[0];\n",
       "}\n",
       "\n",
       "\n",
       "\n",
       "mpl.figure.prototype._canvas_extra_style = function(canvas_div) {\n",
       "\n",
       "}\n",
       "\n",
       "\n",
       "mpl.figure.prototype._root_extra_style = function(canvas_div) {\n",
       "\n",
       "}\n",
       "\n",
       "mpl.figure.prototype._init_canvas = function() {\n",
       "    var fig = this;\n",
       "\n",
       "    var canvas_div = $('<div/>');\n",
       "\n",
       "    canvas_div.attr('style', 'position: relative; clear: both; outline: 0');\n",
       "\n",
       "    function canvas_keyboard_event(event) {\n",
       "        return fig.key_event(event, event['data']);\n",
       "    }\n",
       "\n",
       "    canvas_div.keydown('key_press', canvas_keyboard_event);\n",
       "    canvas_div.keyup('key_release', canvas_keyboard_event);\n",
       "    this.canvas_div = canvas_div\n",
       "    this._canvas_extra_style(canvas_div)\n",
       "    this.root.append(canvas_div);\n",
       "\n",
       "    var canvas = $('<canvas/>');\n",
       "    canvas.addClass('mpl-canvas');\n",
       "    canvas.attr('style', \"left: 0; top: 0; z-index: 0; outline: 0\")\n",
       "\n",
       "    this.canvas = canvas[0];\n",
       "    this.context = canvas[0].getContext(\"2d\");\n",
       "\n",
       "    var backingStore = this.context.backingStorePixelRatio ||\n",
       "\tthis.context.webkitBackingStorePixelRatio ||\n",
       "\tthis.context.mozBackingStorePixelRatio ||\n",
       "\tthis.context.msBackingStorePixelRatio ||\n",
       "\tthis.context.oBackingStorePixelRatio ||\n",
       "\tthis.context.backingStorePixelRatio || 1;\n",
       "\n",
       "    mpl.ratio = (window.devicePixelRatio || 1) / backingStore;\n",
       "\n",
       "    var rubberband = $('<canvas/>');\n",
       "    rubberband.attr('style', \"position: absolute; left: 0; top: 0; z-index: 1;\")\n",
       "\n",
       "    var pass_mouse_events = true;\n",
       "\n",
       "    canvas_div.resizable({\n",
       "        start: function(event, ui) {\n",
       "            pass_mouse_events = false;\n",
       "        },\n",
       "        resize: function(event, ui) {\n",
       "            fig.request_resize(ui.size.width, ui.size.height);\n",
       "        },\n",
       "        stop: function(event, ui) {\n",
       "            pass_mouse_events = true;\n",
       "            fig.request_resize(ui.size.width, ui.size.height);\n",
       "        },\n",
       "    });\n",
       "\n",
       "    function mouse_event_fn(event) {\n",
       "        if (pass_mouse_events)\n",
       "            return fig.mouse_event(event, event['data']);\n",
       "    }\n",
       "\n",
       "    rubberband.mousedown('button_press', mouse_event_fn);\n",
       "    rubberband.mouseup('button_release', mouse_event_fn);\n",
       "    // Throttle sequential mouse events to 1 every 20ms.\n",
       "    rubberband.mousemove('motion_notify', mouse_event_fn);\n",
       "\n",
       "    rubberband.mouseenter('figure_enter', mouse_event_fn);\n",
       "    rubberband.mouseleave('figure_leave', mouse_event_fn);\n",
       "\n",
       "    canvas_div.on(\"wheel\", function (event) {\n",
       "        event = event.originalEvent;\n",
       "        event['data'] = 'scroll'\n",
       "        if (event.deltaY < 0) {\n",
       "            event.step = 1;\n",
       "        } else {\n",
       "            event.step = -1;\n",
       "        }\n",
       "        mouse_event_fn(event);\n",
       "    });\n",
       "\n",
       "    canvas_div.append(canvas);\n",
       "    canvas_div.append(rubberband);\n",
       "\n",
       "    this.rubberband = rubberband;\n",
       "    this.rubberband_canvas = rubberband[0];\n",
       "    this.rubberband_context = rubberband[0].getContext(\"2d\");\n",
       "    this.rubberband_context.strokeStyle = \"#000000\";\n",
       "\n",
       "    this._resize_canvas = function(width, height) {\n",
       "        // Keep the size of the canvas, canvas container, and rubber band\n",
       "        // canvas in synch.\n",
       "        canvas_div.css('width', width)\n",
       "        canvas_div.css('height', height)\n",
       "\n",
       "        canvas.attr('width', width * mpl.ratio);\n",
       "        canvas.attr('height', height * mpl.ratio);\n",
       "        canvas.attr('style', 'width: ' + width + 'px; height: ' + height + 'px;');\n",
       "\n",
       "        rubberband.attr('width', width);\n",
       "        rubberband.attr('height', height);\n",
       "    }\n",
       "\n",
       "    // Set the figure to an initial 600x600px, this will subsequently be updated\n",
       "    // upon first draw.\n",
       "    this._resize_canvas(600, 600);\n",
       "\n",
       "    // Disable right mouse context menu.\n",
       "    $(this.rubberband_canvas).bind(\"contextmenu\",function(e){\n",
       "        return false;\n",
       "    });\n",
       "\n",
       "    function set_focus () {\n",
       "        canvas.focus();\n",
       "        canvas_div.focus();\n",
       "    }\n",
       "\n",
       "    window.setTimeout(set_focus, 100);\n",
       "}\n",
       "\n",
       "mpl.figure.prototype._init_toolbar = function() {\n",
       "    var fig = this;\n",
       "\n",
       "    var nav_element = $('<div/>');\n",
       "    nav_element.attr('style', 'width: 100%');\n",
       "    this.root.append(nav_element);\n",
       "\n",
       "    // Define a callback function for later on.\n",
       "    function toolbar_event(event) {\n",
       "        return fig.toolbar_button_onclick(event['data']);\n",
       "    }\n",
       "    function toolbar_mouse_event(event) {\n",
       "        return fig.toolbar_button_onmouseover(event['data']);\n",
       "    }\n",
       "\n",
       "    for(var toolbar_ind in mpl.toolbar_items) {\n",
       "        var name = mpl.toolbar_items[toolbar_ind][0];\n",
       "        var tooltip = mpl.toolbar_items[toolbar_ind][1];\n",
       "        var image = mpl.toolbar_items[toolbar_ind][2];\n",
       "        var method_name = mpl.toolbar_items[toolbar_ind][3];\n",
       "\n",
       "        if (!name) {\n",
       "            // put a spacer in here.\n",
       "            continue;\n",
       "        }\n",
       "        var button = $('<button/>');\n",
       "        button.addClass('ui-button ui-widget ui-state-default ui-corner-all ' +\n",
       "                        'ui-button-icon-only');\n",
       "        button.attr('role', 'button');\n",
       "        button.attr('aria-disabled', 'false');\n",
       "        button.click(method_name, toolbar_event);\n",
       "        button.mouseover(tooltip, toolbar_mouse_event);\n",
       "\n",
       "        var icon_img = $('<span/>');\n",
       "        icon_img.addClass('ui-button-icon-primary ui-icon');\n",
       "        icon_img.addClass(image);\n",
       "        icon_img.addClass('ui-corner-all');\n",
       "\n",
       "        var tooltip_span = $('<span/>');\n",
       "        tooltip_span.addClass('ui-button-text');\n",
       "        tooltip_span.html(tooltip);\n",
       "\n",
       "        button.append(icon_img);\n",
       "        button.append(tooltip_span);\n",
       "\n",
       "        nav_element.append(button);\n",
       "    }\n",
       "\n",
       "    var fmt_picker_span = $('<span/>');\n",
       "\n",
       "    var fmt_picker = $('<select/>');\n",
       "    fmt_picker.addClass('mpl-toolbar-option ui-widget ui-widget-content');\n",
       "    fmt_picker_span.append(fmt_picker);\n",
       "    nav_element.append(fmt_picker_span);\n",
       "    this.format_dropdown = fmt_picker[0];\n",
       "\n",
       "    for (var ind in mpl.extensions) {\n",
       "        var fmt = mpl.extensions[ind];\n",
       "        var option = $(\n",
       "            '<option/>', {selected: fmt === mpl.default_extension}).html(fmt);\n",
       "        fmt_picker.append(option);\n",
       "    }\n",
       "\n",
       "    // Add hover states to the ui-buttons\n",
       "    $( \".ui-button\" ).hover(\n",
       "        function() { $(this).addClass(\"ui-state-hover\");},\n",
       "        function() { $(this).removeClass(\"ui-state-hover\");}\n",
       "    );\n",
       "\n",
       "    var status_bar = $('<span class=\"mpl-message\"/>');\n",
       "    nav_element.append(status_bar);\n",
       "    this.message = status_bar[0];\n",
       "}\n",
       "\n",
       "mpl.figure.prototype.request_resize = function(x_pixels, y_pixels) {\n",
       "    // Request matplotlib to resize the figure. Matplotlib will then trigger a resize in the client,\n",
       "    // which will in turn request a refresh of the image.\n",
       "    this.send_message('resize', {'width': x_pixels, 'height': y_pixels});\n",
       "}\n",
       "\n",
       "mpl.figure.prototype.send_message = function(type, properties) {\n",
       "    properties['type'] = type;\n",
       "    properties['figure_id'] = this.id;\n",
       "    this.ws.send(JSON.stringify(properties));\n",
       "}\n",
       "\n",
       "mpl.figure.prototype.send_draw_message = function() {\n",
       "    if (!this.waiting) {\n",
       "        this.waiting = true;\n",
       "        this.ws.send(JSON.stringify({type: \"draw\", figure_id: this.id}));\n",
       "    }\n",
       "}\n",
       "\n",
       "\n",
       "mpl.figure.prototype.handle_save = function(fig, msg) {\n",
       "    var format_dropdown = fig.format_dropdown;\n",
       "    var format = format_dropdown.options[format_dropdown.selectedIndex].value;\n",
       "    fig.ondownload(fig, format);\n",
       "}\n",
       "\n",
       "\n",
       "mpl.figure.prototype.handle_resize = function(fig, msg) {\n",
       "    var size = msg['size'];\n",
       "    if (size[0] != fig.canvas.width || size[1] != fig.canvas.height) {\n",
       "        fig._resize_canvas(size[0], size[1]);\n",
       "        fig.send_message(\"refresh\", {});\n",
       "    };\n",
       "}\n",
       "\n",
       "mpl.figure.prototype.handle_rubberband = function(fig, msg) {\n",
       "    var x0 = msg['x0'] / mpl.ratio;\n",
       "    var y0 = (fig.canvas.height - msg['y0']) / mpl.ratio;\n",
       "    var x1 = msg['x1'] / mpl.ratio;\n",
       "    var y1 = (fig.canvas.height - msg['y1']) / mpl.ratio;\n",
       "    x0 = Math.floor(x0) + 0.5;\n",
       "    y0 = Math.floor(y0) + 0.5;\n",
       "    x1 = Math.floor(x1) + 0.5;\n",
       "    y1 = Math.floor(y1) + 0.5;\n",
       "    var min_x = Math.min(x0, x1);\n",
       "    var min_y = Math.min(y0, y1);\n",
       "    var width = Math.abs(x1 - x0);\n",
       "    var height = Math.abs(y1 - y0);\n",
       "\n",
       "    fig.rubberband_context.clearRect(\n",
       "        0, 0, fig.canvas.width / mpl.ratio, fig.canvas.height / mpl.ratio);\n",
       "\n",
       "    fig.rubberband_context.strokeRect(min_x, min_y, width, height);\n",
       "}\n",
       "\n",
       "mpl.figure.prototype.handle_figure_label = function(fig, msg) {\n",
       "    // Updates the figure title.\n",
       "    fig.header.textContent = msg['label'];\n",
       "}\n",
       "\n",
       "mpl.figure.prototype.handle_cursor = function(fig, msg) {\n",
       "    var cursor = msg['cursor'];\n",
       "    switch(cursor)\n",
       "    {\n",
       "    case 0:\n",
       "        cursor = 'pointer';\n",
       "        break;\n",
       "    case 1:\n",
       "        cursor = 'default';\n",
       "        break;\n",
       "    case 2:\n",
       "        cursor = 'crosshair';\n",
       "        break;\n",
       "    case 3:\n",
       "        cursor = 'move';\n",
       "        break;\n",
       "    }\n",
       "    fig.rubberband_canvas.style.cursor = cursor;\n",
       "}\n",
       "\n",
       "mpl.figure.prototype.handle_message = function(fig, msg) {\n",
       "    fig.message.textContent = msg['message'];\n",
       "}\n",
       "\n",
       "mpl.figure.prototype.handle_draw = function(fig, msg) {\n",
       "    // Request the server to send over a new figure.\n",
       "    fig.send_draw_message();\n",
       "}\n",
       "\n",
       "mpl.figure.prototype.handle_image_mode = function(fig, msg) {\n",
       "    fig.image_mode = msg['mode'];\n",
       "}\n",
       "\n",
       "mpl.figure.prototype.updated_canvas_event = function() {\n",
       "    // Called whenever the canvas gets updated.\n",
       "    this.send_message(\"ack\", {});\n",
       "}\n",
       "\n",
       "// A function to construct a web socket function for onmessage handling.\n",
       "// Called in the figure constructor.\n",
       "mpl.figure.prototype._make_on_message_function = function(fig) {\n",
       "    return function socket_on_message(evt) {\n",
       "        if (evt.data instanceof Blob) {\n",
       "            /* FIXME: We get \"Resource interpreted as Image but\n",
       "             * transferred with MIME type text/plain:\" errors on\n",
       "             * Chrome.  But how to set the MIME type?  It doesn't seem\n",
       "             * to be part of the websocket stream */\n",
       "            evt.data.type = \"image/png\";\n",
       "\n",
       "            /* Free the memory for the previous frames */\n",
       "            if (fig.imageObj.src) {\n",
       "                (window.URL || window.webkitURL).revokeObjectURL(\n",
       "                    fig.imageObj.src);\n",
       "            }\n",
       "\n",
       "            fig.imageObj.src = (window.URL || window.webkitURL).createObjectURL(\n",
       "                evt.data);\n",
       "            fig.updated_canvas_event();\n",
       "            fig.waiting = false;\n",
       "            return;\n",
       "        }\n",
       "        else if (typeof evt.data === 'string' && evt.data.slice(0, 21) == \"data:image/png;base64\") {\n",
       "            fig.imageObj.src = evt.data;\n",
       "            fig.updated_canvas_event();\n",
       "            fig.waiting = false;\n",
       "            return;\n",
       "        }\n",
       "\n",
       "        var msg = JSON.parse(evt.data);\n",
       "        var msg_type = msg['type'];\n",
       "\n",
       "        // Call the  \"handle_{type}\" callback, which takes\n",
       "        // the figure and JSON message as its only arguments.\n",
       "        try {\n",
       "            var callback = fig[\"handle_\" + msg_type];\n",
       "        } catch (e) {\n",
       "            console.log(\"No handler for the '\" + msg_type + \"' message type: \", msg);\n",
       "            return;\n",
       "        }\n",
       "\n",
       "        if (callback) {\n",
       "            try {\n",
       "                // console.log(\"Handling '\" + msg_type + \"' message: \", msg);\n",
       "                callback(fig, msg);\n",
       "            } catch (e) {\n",
       "                console.log(\"Exception inside the 'handler_\" + msg_type + \"' callback:\", e, e.stack, msg);\n",
       "            }\n",
       "        }\n",
       "    };\n",
       "}\n",
       "\n",
       "// from http://stackoverflow.com/questions/1114465/getting-mouse-location-in-canvas\n",
       "mpl.findpos = function(e) {\n",
       "    //this section is from http://www.quirksmode.org/js/events_properties.html\n",
       "    var targ;\n",
       "    if (!e)\n",
       "        e = window.event;\n",
       "    if (e.target)\n",
       "        targ = e.target;\n",
       "    else if (e.srcElement)\n",
       "        targ = e.srcElement;\n",
       "    if (targ.nodeType == 3) // defeat Safari bug\n",
       "        targ = targ.parentNode;\n",
       "\n",
       "    // jQuery normalizes the pageX and pageY\n",
       "    // pageX,Y are the mouse positions relative to the document\n",
       "    // offset() returns the position of the element relative to the document\n",
       "    var x = e.pageX - $(targ).offset().left;\n",
       "    var y = e.pageY - $(targ).offset().top;\n",
       "\n",
       "    return {\"x\": x, \"y\": y};\n",
       "};\n",
       "\n",
       "/*\n",
       " * return a copy of an object with only non-object keys\n",
       " * we need this to avoid circular references\n",
       " * http://stackoverflow.com/a/24161582/3208463\n",
       " */\n",
       "function simpleKeys (original) {\n",
       "  return Object.keys(original).reduce(function (obj, key) {\n",
       "    if (typeof original[key] !== 'object')\n",
       "        obj[key] = original[key]\n",
       "    return obj;\n",
       "  }, {});\n",
       "}\n",
       "\n",
       "mpl.figure.prototype.mouse_event = function(event, name) {\n",
       "    var canvas_pos = mpl.findpos(event)\n",
       "\n",
       "    if (name === 'button_press')\n",
       "    {\n",
       "        this.canvas.focus();\n",
       "        this.canvas_div.focus();\n",
       "    }\n",
       "\n",
       "    var x = canvas_pos.x * mpl.ratio;\n",
       "    var y = canvas_pos.y * mpl.ratio;\n",
       "\n",
       "    this.send_message(name, {x: x, y: y, button: event.button,\n",
       "                             step: event.step,\n",
       "                             guiEvent: simpleKeys(event)});\n",
       "\n",
       "    /* This prevents the web browser from automatically changing to\n",
       "     * the text insertion cursor when the button is pressed.  We want\n",
       "     * to control all of the cursor setting manually through the\n",
       "     * 'cursor' event from matplotlib */\n",
       "    event.preventDefault();\n",
       "    return false;\n",
       "}\n",
       "\n",
       "mpl.figure.prototype._key_event_extra = function(event, name) {\n",
       "    // Handle any extra behaviour associated with a key event\n",
       "}\n",
       "\n",
       "mpl.figure.prototype.key_event = function(event, name) {\n",
       "\n",
       "    // Prevent repeat events\n",
       "    if (name == 'key_press')\n",
       "    {\n",
       "        if (event.which === this._key)\n",
       "            return;\n",
       "        else\n",
       "            this._key = event.which;\n",
       "    }\n",
       "    if (name == 'key_release')\n",
       "        this._key = null;\n",
       "\n",
       "    var value = '';\n",
       "    if (event.ctrlKey && event.which != 17)\n",
       "        value += \"ctrl+\";\n",
       "    if (event.altKey && event.which != 18)\n",
       "        value += \"alt+\";\n",
       "    if (event.shiftKey && event.which != 16)\n",
       "        value += \"shift+\";\n",
       "\n",
       "    value += 'k';\n",
       "    value += event.which.toString();\n",
       "\n",
       "    this._key_event_extra(event, name);\n",
       "\n",
       "    this.send_message(name, {key: value,\n",
       "                             guiEvent: simpleKeys(event)});\n",
       "    return false;\n",
       "}\n",
       "\n",
       "mpl.figure.prototype.toolbar_button_onclick = function(name) {\n",
       "    if (name == 'download') {\n",
       "        this.handle_save(this, null);\n",
       "    } else {\n",
       "        this.send_message(\"toolbar_button\", {name: name});\n",
       "    }\n",
       "};\n",
       "\n",
       "mpl.figure.prototype.toolbar_button_onmouseover = function(tooltip) {\n",
       "    this.message.textContent = tooltip;\n",
       "};\n",
       "mpl.toolbar_items = [[\"Home\", \"Reset original view\", \"fa fa-home icon-home\", \"home\"], [\"Back\", \"Back to previous view\", \"fa fa-arrow-left icon-arrow-left\", \"back\"], [\"Forward\", \"Forward to next view\", \"fa fa-arrow-right icon-arrow-right\", \"forward\"], [\"\", \"\", \"\", \"\"], [\"Pan\", \"Pan axes with left mouse, zoom with right\", \"fa fa-arrows icon-move\", \"pan\"], [\"Zoom\", \"Zoom to rectangle\", \"fa fa-square-o icon-check-empty\", \"zoom\"], [\"\", \"\", \"\", \"\"], [\"Download\", \"Download plot\", \"fa fa-floppy-o icon-save\", \"download\"]];\n",
       "\n",
       "mpl.extensions = [\"eps\", \"jpeg\", \"pdf\", \"png\", \"ps\", \"raw\", \"svg\", \"tif\"];\n",
       "\n",
       "mpl.default_extension = \"png\";var comm_websocket_adapter = function(comm) {\n",
       "    // Create a \"websocket\"-like object which calls the given IPython comm\n",
       "    // object with the appropriate methods. Currently this is a non binary\n",
       "    // socket, so there is still some room for performance tuning.\n",
       "    var ws = {};\n",
       "\n",
       "    ws.close = function() {\n",
       "        comm.close()\n",
       "    };\n",
       "    ws.send = function(m) {\n",
       "        //console.log('sending', m);\n",
       "        comm.send(m);\n",
       "    };\n",
       "    // Register the callback with on_msg.\n",
       "    comm.on_msg(function(msg) {\n",
       "        //console.log('receiving', msg['content']['data'], msg);\n",
       "        // Pass the mpl event to the overridden (by mpl) onmessage function.\n",
       "        ws.onmessage(msg['content']['data'])\n",
       "    });\n",
       "    return ws;\n",
       "}\n",
       "\n",
       "mpl.mpl_figure_comm = function(comm, msg) {\n",
       "    // This is the function which gets called when the mpl process\n",
       "    // starts-up an IPython Comm through the \"matplotlib\" channel.\n",
       "\n",
       "    var id = msg.content.data.id;\n",
       "    // Get hold of the div created by the display call when the Comm\n",
       "    // socket was opened in Python.\n",
       "    var element = $(\"#\" + id);\n",
       "    var ws_proxy = comm_websocket_adapter(comm)\n",
       "\n",
       "    function ondownload(figure, format) {\n",
       "        window.open(figure.imageObj.src);\n",
       "    }\n",
       "\n",
       "    var fig = new mpl.figure(id, ws_proxy,\n",
       "                           ondownload,\n",
       "                           element.get(0));\n",
       "\n",
       "    // Call onopen now - mpl needs it, as it is assuming we've passed it a real\n",
       "    // web socket which is closed, not our websocket->open comm proxy.\n",
       "    ws_proxy.onopen();\n",
       "\n",
       "    fig.parent_element = element.get(0);\n",
       "    fig.cell_info = mpl.find_output_cell(\"<div id='\" + id + \"'></div>\");\n",
       "    if (!fig.cell_info) {\n",
       "        console.error(\"Failed to find cell for figure\", id, fig);\n",
       "        return;\n",
       "    }\n",
       "\n",
       "    var output_index = fig.cell_info[2]\n",
       "    var cell = fig.cell_info[0];\n",
       "\n",
       "};\n",
       "\n",
       "mpl.figure.prototype.handle_close = function(fig, msg) {\n",
       "    var width = fig.canvas.width/mpl.ratio\n",
       "    fig.root.unbind('remove')\n",
       "\n",
       "    // Update the output cell to use the data from the current canvas.\n",
       "    fig.push_to_output();\n",
       "    var dataURL = fig.canvas.toDataURL();\n",
       "    // Re-enable the keyboard manager in IPython - without this line, in FF,\n",
       "    // the notebook keyboard shortcuts fail.\n",
       "    IPython.keyboard_manager.enable()\n",
       "    $(fig.parent_element).html('<img src=\"' + dataURL + '\" width=\"' + width + '\">');\n",
       "    fig.close_ws(fig, msg);\n",
       "}\n",
       "\n",
       "mpl.figure.prototype.close_ws = function(fig, msg){\n",
       "    fig.send_message('closing', msg);\n",
       "    // fig.ws.close()\n",
       "}\n",
       "\n",
       "mpl.figure.prototype.push_to_output = function(remove_interactive) {\n",
       "    // Turn the data on the canvas into data in the output cell.\n",
       "    var width = this.canvas.width/mpl.ratio\n",
       "    var dataURL = this.canvas.toDataURL();\n",
       "    this.cell_info[1]['text/html'] = '<img src=\"' + dataURL + '\" width=\"' + width + '\">';\n",
       "}\n",
       "\n",
       "mpl.figure.prototype.updated_canvas_event = function() {\n",
       "    // Tell IPython that the notebook contents must change.\n",
       "    IPython.notebook.set_dirty(true);\n",
       "    this.send_message(\"ack\", {});\n",
       "    var fig = this;\n",
       "    // Wait a second, then push the new image to the DOM so\n",
       "    // that it is saved nicely (might be nice to debounce this).\n",
       "    setTimeout(function () { fig.push_to_output() }, 1000);\n",
       "}\n",
       "\n",
       "mpl.figure.prototype._init_toolbar = function() {\n",
       "    var fig = this;\n",
       "\n",
       "    var nav_element = $('<div/>');\n",
       "    nav_element.attr('style', 'width: 100%');\n",
       "    this.root.append(nav_element);\n",
       "\n",
       "    // Define a callback function for later on.\n",
       "    function toolbar_event(event) {\n",
       "        return fig.toolbar_button_onclick(event['data']);\n",
       "    }\n",
       "    function toolbar_mouse_event(event) {\n",
       "        return fig.toolbar_button_onmouseover(event['data']);\n",
       "    }\n",
       "\n",
       "    for(var toolbar_ind in mpl.toolbar_items){\n",
       "        var name = mpl.toolbar_items[toolbar_ind][0];\n",
       "        var tooltip = mpl.toolbar_items[toolbar_ind][1];\n",
       "        var image = mpl.toolbar_items[toolbar_ind][2];\n",
       "        var method_name = mpl.toolbar_items[toolbar_ind][3];\n",
       "\n",
       "        if (!name) { continue; };\n",
       "\n",
       "        var button = $('<button class=\"btn btn-default\" href=\"#\" title=\"' + name + '\"><i class=\"fa ' + image + ' fa-lg\"></i></button>');\n",
       "        button.click(method_name, toolbar_event);\n",
       "        button.mouseover(tooltip, toolbar_mouse_event);\n",
       "        nav_element.append(button);\n",
       "    }\n",
       "\n",
       "    // Add the status bar.\n",
       "    var status_bar = $('<span class=\"mpl-message\" style=\"text-align:right; float: right;\"/>');\n",
       "    nav_element.append(status_bar);\n",
       "    this.message = status_bar[0];\n",
       "\n",
       "    // Add the close button to the window.\n",
       "    var buttongrp = $('<div class=\"btn-group inline pull-right\"></div>');\n",
       "    var button = $('<button class=\"btn btn-mini btn-primary\" href=\"#\" title=\"Stop Interaction\"><i class=\"fa fa-power-off icon-remove icon-large\"></i></button>');\n",
       "    button.click(function (evt) { fig.handle_close(fig, {}); } );\n",
       "    button.mouseover('Stop Interaction', toolbar_mouse_event);\n",
       "    buttongrp.append(button);\n",
       "    var titlebar = this.root.find($('.ui-dialog-titlebar'));\n",
       "    titlebar.prepend(buttongrp);\n",
       "}\n",
       "\n",
       "mpl.figure.prototype._root_extra_style = function(el){\n",
       "    var fig = this\n",
       "    el.on(\"remove\", function(){\n",
       "\tfig.close_ws(fig, {});\n",
       "    });\n",
       "}\n",
       "\n",
       "mpl.figure.prototype._canvas_extra_style = function(el){\n",
       "    // this is important to make the div 'focusable\n",
       "    el.attr('tabindex', 0)\n",
       "    // reach out to IPython and tell the keyboard manager to turn it's self\n",
       "    // off when our div gets focus\n",
       "\n",
       "    // location in version 3\n",
       "    if (IPython.notebook.keyboard_manager) {\n",
       "        IPython.notebook.keyboard_manager.register_events(el);\n",
       "    }\n",
       "    else {\n",
       "        // location in version 2\n",
       "        IPython.keyboard_manager.register_events(el);\n",
       "    }\n",
       "\n",
       "}\n",
       "\n",
       "mpl.figure.prototype._key_event_extra = function(event, name) {\n",
       "    var manager = IPython.notebook.keyboard_manager;\n",
       "    if (!manager)\n",
       "        manager = IPython.keyboard_manager;\n",
       "\n",
       "    // Check for shift+enter\n",
       "    if (event.shiftKey && event.which == 13) {\n",
       "        this.canvas_div.blur();\n",
       "        // select the cell after this one\n",
       "        var index = IPython.notebook.find_cell_index(this.cell_info[0]);\n",
       "        IPython.notebook.select(index + 1);\n",
       "    }\n",
       "}\n",
       "\n",
       "mpl.figure.prototype.handle_save = function(fig, msg) {\n",
       "    fig.ondownload(fig, null);\n",
       "}\n",
       "\n",
       "\n",
       "mpl.find_output_cell = function(html_output) {\n",
       "    // Return the cell and output element which can be found *uniquely* in the notebook.\n",
       "    // Note - this is a bit hacky, but it is done because the \"notebook_saving.Notebook\"\n",
       "    // IPython event is triggered only after the cells have been serialised, which for\n",
       "    // our purposes (turning an active figure into a static one), is too late.\n",
       "    var cells = IPython.notebook.get_cells();\n",
       "    var ncells = cells.length;\n",
       "    for (var i=0; i<ncells; i++) {\n",
       "        var cell = cells[i];\n",
       "        if (cell.cell_type === 'code'){\n",
       "            for (var j=0; j<cell.output_area.outputs.length; j++) {\n",
       "                var data = cell.output_area.outputs[j];\n",
       "                if (data.data) {\n",
       "                    // IPython >= 3 moved mimebundle to data attribute of output\n",
       "                    data = data.data;\n",
       "                }\n",
       "                if (data['text/html'] == html_output) {\n",
       "                    return [cell, data, j];\n",
       "                }\n",
       "            }\n",
       "        }\n",
       "    }\n",
       "}\n",
       "\n",
       "// Register the function which deals with the matplotlib target/channel.\n",
       "// The kernel may be null if the page has been refreshed.\n",
       "if (IPython.notebook.kernel != null) {\n",
       "    IPython.notebook.kernel.comm_manager.register_target('matplotlib', mpl.mpl_figure_comm);\n",
       "}\n"
      ],
      "text/plain": [
       "<IPython.core.display.Javascript object>"
      ]
     },
     "metadata": {},
     "output_type": "display_data"
    },
    {
     "data": {
      "text/html": [
       "<img src=\"data:image/png;base64,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\" width=\"640\">"
      ],
      "text/plain": [
       "<IPython.core.display.HTML object>"
      ]
     },
     "metadata": {},
     "output_type": "display_data"
    },
    {
     "data": {
      "text/plain": [
       "<BarContainer object of 15 artists>"
      ]
     },
     "execution_count": 8,
     "metadata": {},
     "output_type": "execute_result"
    }
   ],
   "source": [
    "%matplotlib notebook\n",
    "\n",
    "# data\n",
    "data_raw = channel_types_top_250\n",
    "channels = sorted(data_raw, key=data_raw.get)\n",
    "values = sorted(data_raw.values())\n",
    "\n",
    "# style\n",
    "plt.style.use('Solarize_Light2')\n",
    "\n",
    "#plot\n",
    "fig, ax = plt.subplots()\n",
    "ax.barh(channels, values)"
   ]
  },
  {
   "cell_type": "code",
   "execution_count": null,
   "metadata": {},
   "outputs": [],
   "source": []
  }
 ],
 "metadata": {
  "kernelspec": {
   "display_name": "Python 3",
   "language": "python",
   "name": "python3"
  },
  "language_info": {
   "codemirror_mode": {
    "name": "ipython",
    "version": 3
   },
   "file_extension": ".py",
   "mimetype": "text/x-python",
   "name": "python",
   "nbconvert_exporter": "python",
   "pygments_lexer": "ipython3",
   "version": "3.7.6"
  }
 },
 "nbformat": 4,
 "nbformat_minor": 4
}
