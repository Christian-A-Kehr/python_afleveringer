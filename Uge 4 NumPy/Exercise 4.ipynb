{
 "cells": [
  {
   "cell_type": "markdown",
   "metadata": {},
   "source": [
    "Week 4 Exercise with Numpy\n",
    "\n",
    "Use only numpy in these exercises\n",
    "Exercise 1\n",
    "\n",
    "    1. Open the file './data/befkbhalderstatkode.csv'\n",
    "    2. Turn the csv file into a numpy ndarray with np.genfromtxt(filename, delimiter=',', dtype=np.uint, skip_header=1)\n",
    "    3. Using this data:\n",
    "\n",
    "    neighb = {1: 'Indre By', 2: 'Østerbro', 3: 'Nørrebro', 4: 'Vesterbro/Kgs. Enghave', \n",
    "           5: 'Valby', 6: 'Vanløse', 7: 'Brønshøj-Husum', 8: 'Bispebjerg', 9: 'Amager Øst', \n",
    "           10: 'Amager Vest', 99: 'Udenfor'}\n",
    "\n",
    "    Find out how many people lived in each of the 11 areas in 2015\n",
    "    \n",
    "    4. Make a bar plot to show the size of each city area from the smallest to the largest\n",
    "    5. Create a boolean mask to find out how many people above 65 years lived in Copenhagen in 2015\n",
    "    6.How many of those were from the other nordic countries (not dk)\n",
    "    7. Make a line plot showing the changes of number of people in vesterbro and østerbro from 1992 to 2015\n",
    "\n",
    "Exercise 2 A bit harder (Extra only if you have the time)\n",
    "\n",
    "    From \"Danmarks Statistik\" download demographic data here: https://api.statbank.dk/v1/data/FOLK1A/CSV?valuePresentation=Code&delimiter=Semicolon&OMR%C3%85DE=000%2C084%2C147%2C400%2C085%2C083%2C082%2C081%2C851%2C461%2C561%2C751&K%C3%98N=1%2C2&ALDER=0%2C1%2C2%2C3%2C4%2C5%2C6%2C7%2C8%2C9%2C10%2C11%2C12%2C13%2C14%2C15%2C16%2C17%2C18%2C19%2C20%2C21%2C22%2C23%2C24%2C25%2C26%2C27%2C28%2C29%2C30%2C31%2C32%2C33%2C34%2C35%2C36%2C37%2C3%2C39%2C40%2C41%2C42%2C43%2C44%2C45%2C46%2C47%2C48%2C49%2C50%2C51%2C52%2C53%2C54%2C55%2C56%2C57%2C58%2C59%2C60%2C61%2C62%2C63%2C64%2C65%2C66%2C67%2C68%2C69%2C70%2C71%2C72%2C73%2C74%2C75%2C76%2C77%2C78%2C79%2C80%2C81%2C82%2C83%2C84%2C85%2C86%2C87%2C88%2C89%2C90%2C91%2C92%2C93%2C94%2C95%2C96%2C97%2C98%2C99%2C100&Tid=2008K1%2C2009K1%2C2010K1%2C2011K1%2C2012K1%2C2013K1%2C2014K1%2C2015K1%2C2016K1%2C2017K1%2C2018K1%2C2019K1%2C2020K1\n",
    "\n",
    "    clean up the data so it only contains numbers. (If you find this hard to do then Pandas can help (we will cover it next week)\n",
    "\n",
    "    import pandas as pd \n",
    "    url = 'url from above here'\n",
    "    df = pd.read_csv(url,sep=';')\n",
    "    df['TID'] = df['TID'].map(lambda x:x[:-2]) #cut the last 2 characters\n",
    "    df.to_csv('demografic_cleaned.csv',header=False, index=False)\n",
    "\n",
    "    Now you have csv data with columns: OMRÅDE;KØN;ALDER;TID;INDHOLD\n",
    "    Now load your demographic data with numpy. (Hint: use np.loadtxt() with dtype and delimiter).\n",
    "    Use file: BY_KODER_demographics.csv to get cities from the city codes\n",
    "    Now find out which city in 2020 has the highest percentage of men (gender code 1),(Hint: create a function to return summed up data by city code ala: def summed_by_city(city_code): returning pct_male\n",
    "    Create a line chart with 5 lines showing population changes in the 5 largest cities from 2008 to 2020\n",
    "\n"
   ]
  },
  {
   "cell_type": "code",
   "execution_count": 1,
   "metadata": {},
   "outputs": [],
   "source": [
    "# imports\n",
    "import seaborn as sns \n",
    "import matplotlib.pyplot as plt\n",
    "import pandas as pd\n",
    "import numpy as np\n",
    "\n",
    "#Data:\n",
    "filename = './data/befkbhalderstatkode.csv'"
   ]
  },
  {
   "cell_type": "code",
   "execution_count": null,
   "metadata": {},
   "outputs": [],
   "source": [
    "#1. Open the file './data/befkbhalderstatkode.csv'\n",
    "# NOTE this is a large file, so maybe don't run it.     \n",
    "\n",
    "#def read_file(file_to_read):\n",
    "    with open (file_to_read) as csvfile:\n",
    "        lines = csvfile.readlines()\n",
    "        print (\"input_file content raw:\")\n",
    "        print(lines)\n",
    "        print (\"input_file content attened:\")\n",
    "    for line in lines:\n",
    "        print(line.rstrip())\n",
    "    "
   ]
  },
  {
   "cell_type": "code",
   "execution_count": null,
   "metadata": {},
   "outputs": [],
   "source": [
    "# test 1. \n",
    "\n",
    "\n",
    "read_file(filename)\n"
   ]
  },
  {
   "cell_type": "code",
   "execution_count": 2,
   "metadata": {},
   "outputs": [
    {
     "name": "stdout",
     "output_type": "stream",
     "text": [
      "[[2015    1    0 5100  614]\n",
      " [2015    1    0 5104    2]\n",
      " [2015    1    0 5106    1]\n",
      " ...\n",
      " [1992   99   89 5100    1]\n",
      " [1992   99   90 5180    1]\n",
      " [1992   99   93 5100    1]]\n"
     ]
    }
   ],
   "source": [
    "#2.Turn the csv file into a numpy ndarray with np.genfromtxt(filename, delimiter=',', dtype=np.uint, skip_header=1)\n",
    "\n",
    "bef_stats_df = np.genfromtxt(filename, delimiter=',', dtype=np.uint, skip_header=1)\n",
    "\n",
    "print (bef_stats_df)"
   ]
  },
  {
   "cell_type": "code",
   "execution_count": 3,
   "metadata": {},
   "outputs": [
    {
     "data": {
      "text/plain": [
       "{'Indre By': 51937,\n",
       " 'Østerbro': 75113,\n",
       " 'Nørrebro': 78802,\n",
       " 'Vesterbro/Kgs. Enghave': 61623,\n",
       " 'Valby': 51727,\n",
       " 'Vanløse': 39537,\n",
       " 'Brønshøj-Husum': 43908,\n",
       " 'Bispebjerg': 53604,\n",
       " 'Amager Øst': 55205,\n",
       " 'Amager Vest': 64967,\n",
       " 'Udenfor': 3872}"
      ]
     },
     "execution_count": 3,
     "metadata": {},
     "output_type": "execute_result"
    }
   ],
   "source": [
    "#3. Using this data:\n",
    "\n",
    "neighb = {1: 'Indre By', 2: 'Østerbro', 3: 'Nørrebro', 4: 'Vesterbro/Kgs. Enghave', \n",
    "           5: 'Valby', 6: 'Vanløse', 7: 'Brønshøj-Husum', 8: 'Bispebjerg', 9: 'Amager Øst', \n",
    "          10: 'Amager Vest', 99: 'Udenfor'}\n",
    "\n",
    "    # Find out how many people lived in each of the 11 areas in 2015    \n",
    "    \n",
    "def number_of_people_per_neighbourhood(n, mask):\n",
    "    all_people_in_given_n = bef_stats_df[mask & (bef_stats_df[:,1] == n)]\n",
    "    sum_of_people = all_people_in_given_n[:,4].sum() # index 4 is no of 'PERSONER'\n",
    "    return sum_of_people\n",
    "\n",
    "def people_in_areas():\n",
    "    res = {}\n",
    "    for area in neighb:\n",
    "        mask = (bef_stats_df[:,0] == 2015) & (bef_stats_df[:,1] == area)\n",
    "        sum_people = np.sum(bef_stats_df[mask][:,4])\n",
    "        res[neighb[area]] = sum_people\n",
    "    return res\n",
    "people_in_areas()"
   ]
  },
  {
   "cell_type": "code",
   "execution_count": 4,
   "metadata": {},
   "outputs": [
    {
     "data": {
      "text/plain": [
       "([0, 1, 2, 3, 4, 5, 6, 7, 8, 9, 10],\n",
       " <a list of 11 Text major ticklabel objects>)"
      ]
     },
     "execution_count": 4,
     "metadata": {},
     "output_type": "execute_result"
    },
    {
     "data": {
      "image/png": "[encoded data removed]",
      "text/plain": [
       "<Figure size 432x288 with 1 Axes>"
      ]
     },
     "metadata": {
      "needs_background": "light"
     },
     "output_type": "display_data"
    }
   ],
   "source": [
    "populations = people_in_areas()\n",
    "areas = list(populations.keys())\n",
    "people = list(populations.values())\n",
    "\n",
    "plt.ylabel(\"Amount of people\")\n",
    "plt.xlabel(\"Areas\")\n",
    "plt.bar(areas, people)\n",
    "plt.xticks(rotation=45, horizontalalignment='right',fontweight='light')"
   ]
  },
  {
   "cell_type": "code",
   "execution_count": 5,
   "metadata": {
    "scrolled": true
   },
   "outputs": [
    {
     "data": {
      "text/plain": [
       "(array([ 0,  1,  2,  3,  4,  5,  6,  7,  8,  9, 10]),\n",
       " <a list of 11 Text major ticklabel objects>)"
      ]
     },
     "execution_count": 5,
     "metadata": {},
     "output_type": "execute_result"
    },
    {
     "data": {
      "image/png": "[encoded data removed]",
      "text/plain": [
       "<Figure size 432x288 with 1 Axes>"
      ]
     },
     "metadata": {
      "needs_background": "light"
     },
     "output_type": "display_data"
    }
   ],
   "source": [
    "# 4. Make a bar plot to show the size of each city area from the smallest to the largest \n",
    "\n",
    "populations = people_in_areas()\n",
    "areas = list(populations.keys())\n",
    "people = list(populations.values())\n",
    "\n",
    "df = pd.DataFrame({\"Area\": areas,\n",
    "                  \"Population\": people})\n",
    "\n",
    "sns.barplot(x=\"Area\", y=\"Population\", data = df, \n",
    "           order=df.sort_values('Population').Area)\n",
    "plt.xticks(rotation=45, horizontalalignment='right',fontweight='light')"
   ]
  },
  {
   "cell_type": "code",
   "execution_count": 28,
   "metadata": {},
   "outputs": [
    {
     "data": {
      "text/plain": [
       "55750"
      ]
     },
     "execution_count": 28,
     "metadata": {},
     "output_type": "execute_result"
    }
   ],
   "source": [
    "#5. Create a boolean mask to find out how many people above 65 years lived in Copenhagen in 2015\n",
    "# AAR,BYDEL,ALDER,STATKODE,PERSONER\n",
    "\n",
    "def number_of_people_above(age, year = 2015):\n",
    "    \"\"\"Findes the number of people living in copenhangen\n",
    "    \n",
    "    Paremeters:\n",
    "    age: The age limite, will return ages above age \n",
    "    year: what year to look at\n",
    "    \"\"\"\n",
    "    # masks\n",
    "    mask_age = (bef_stats_df[:,2] > age)\n",
    "    mask_year = (bef_stats_df[:,0] == year)\n",
    "    masks =  mask_year & mask_age\n",
    "    \n",
    "    sum_of_people = np.sum(bef_stats_df[masks][:,4]) # index 4 is no of 'PERSONER'\n",
    "    return sum_of_people\n",
    "\n",
    "number_of_people_above(65, 2015)"
   ]
  },
  {
   "cell_type": "code",
   "execution_count": 45,
   "metadata": {},
   "outputs": [
    {
     "name": "stdout",
     "output_type": "stream",
     "text": [
      "610\n"
     ]
    }
   ],
   "source": [
    "# 6.How many of those were from the other nordic countries (not dk)\n",
    "\n",
    "other_nordic_countries = {5101: \"Grønland\",\n",
    "                         5104: \"Findland\",\n",
    "                         5105: \"Island, rigeret dansk\",\n",
    "                         5106: \"Island\",\n",
    "                         5110: \"Norge\",\n",
    "                         5120: \"Sverige\",\n",
    "                         5901: \"Færørerne uoplyst\",\n",
    "                         5902: \"Færørerne\"\n",
    "                         }\n",
    "new_sum = 0\n",
    "for country in other_nordic_countries:\n",
    "    mask_nc = (bef_stats_df[:,0] == 2015) & (bef_stats_df[:,2] > 65) & (bef_stats_df[:,3]== country)\n",
    "    new_sum += np.sum(bef_stats_df[mask_nc][:,4])\n",
    "\n",
    "print (int(new_sum))\n"
   ]
  },
  {
   "cell_type": "code",
   "execution_count": null,
   "metadata": {},
   "outputs": [],
   "source": []
  }
 ],
 "metadata": {
  "kernelspec": {
   "display_name": "Python 3",
   "language": "python",
   "name": "python3"
  },
  "language_info": {
   "codemirror_mode": {
    "name": "ipython",
    "version": 3
   },
   "file_extension": ".py",
   "mimetype": "text/x-python",
   "name": "python",
   "nbconvert_exporter": "python",
   "pygments_lexer": "ipython3",
   "version": "3.7.6"
  }
 },
 "nbformat": 4,
 "nbformat_minor": 4
}
