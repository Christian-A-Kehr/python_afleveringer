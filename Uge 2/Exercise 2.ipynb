{
 "cells": [
  {
   "cell_type": "markdown",
   "metadata": {},
   "source": [
    "Exercise 1\n",
    "\n",
    "    Create a program that can take an input and an output file and write the content of the input file into a list, the console or to the output file.\n",
    "\n",
    "    Write a python file with 3 functions:\n",
    "        def print_file_content(file) that can print content of a text file to the console\n",
    "        def write_list_to_file(output_file, lst) that can take a list or tuple and write each element to a new line in file\n",
    "            create a helper function that gets an arbitrary number of strings instead of a list\n",
    "        def read_file(input_file) that take a csv file and read each row into a list\n",
    "\n",
    "    Add a functionality so that the program can be called from cli with 2 arguments\n",
    "        path to input file\n",
    "        an argument --file file_name to be used as the output file to write to.\n",
    "        if only the input file is given write output to console\n",
    "        if the input file is given with a list of extra words add those words to the output (whether to file or console)\n",
    "\n",
    "    Add 'help' attributes to each cli argument to describe how the module is used\n",
    "\n",
    "Exercise 2\n",
    "\n",
    "    Create a module called utils.py and put the following functions inside:\n",
    "        first function takes a path to a folder and writes all filenames in the folder to a specified output file\n",
    "        second takes a path to a folder and write all filenames recursively (files of all sub folders to)\n",
    "        third takes a list of filenames and print the first line of each\n",
    "        fourth takes a list of filenames and print each line that contains an email (just look for @)\n",
    "        fifth takes a list of md files and writes all headlines (lines starting with #) to a file\n",
    "    Make sure your module can be called both from cli and imported to another module\n",
    "    Create a new module that imports utils.py and test each function.\n",
    "\n"
   ]
  },
  {
   "cell_type": "code",
   "execution_count": 24,
   "metadata": {},
   "outputs": [
    {
     "name": "stdout",
     "output_type": "stream",
     "text": [
      "input_file content raw:\n",
      "['Hello World, im new to Python']\n",
      "input_file content attened:\n",
      "Hello World, im new to Python\n",
      "output fill data:\n",
      "[\"['Hello World, im new to Python']\"]\n"
     ]
    }
   ],
   "source": [
    "\"Exercise 1\"\n",
    "in_file = \"Exercise2_ ex1_input.txt\"\n",
    "out_file = \"Exercise2_ex1_output.txt\"\n",
    "def copy_file(input_file, output_file=\"Exercise2_ex1_output.txt\"):\n",
    "    \"\"\"a program that can take an input and an output file and write the content of the input file into a list, \n",
    "    the console or to the output file.\n",
    "    \n",
    "    Parameters:\n",
    "    input_file: The name of the file that the user wish to copy.\n",
    "    output_file: The file where the input_files content will be copy to \n",
    "    \"\"\"\n",
    "#consol read\n",
    "    with open(input_file) as infile_object:\n",
    "        lines = infile_object.readlines()\n",
    "        print (\"input_file content raw:\")\n",
    "        print(lines)\n",
    "        print (\"input_file content attened:\")\n",
    "    for line in lines:\n",
    "        print(line.rstrip())\n",
    "        \n",
    "# write to file + show output from new file        \n",
    "    with open(output_file, 'w') as outfile_object:\n",
    "        outfile_object.write(str(lines))\n",
    "    with open(output_file) as updatedfile_object:\n",
    "        lines = updatedfile_object.readlines()\n",
    "        print (\"output fill data:\")\n",
    "        print(lines)\n",
    "    \n",
    "copy_file(in_file)    \n",
    "    \n",
    "    "
   ]
  },
  {
   "cell_type": "code",
   "execution_count": 23,
   "metadata": {},
   "outputs": [
    {
     "name": "stdout",
     "output_type": "stream",
     "text": [
      "Hello World, im new to Python\n"
     ]
    }
   ],
   "source": [
    "from my_modules.Exercise2_import3_functions import print_file_content\n",
    "\n",
    "print_file_content(\"Exercise2_ ex1_input.txt\")"
   ]
  },
  {
   "cell_type": "code",
   "execution_count": 22,
   "metadata": {},
   "outputs": [
    {
     "name": "stdout",
     "output_type": "stream",
     "text": [
      "file saved\n"
     ]
    }
   ],
   "source": [
    "from my_modules.Exercise2_import3_functions import write_list_to_file\n",
    "\n",
    "list_of_elements = [\"Bob\", \"John\", \"Joe\"]\n",
    "write_list_to_file(\"Exercise2_ex1_output.txt\", list_of_elements)"
   ]
  },
  {
   "cell_type": "code",
   "execution_count": 21,
   "metadata": {},
   "outputs": [
    {
     "name": "stdout",
     "output_type": "stream",
     "text": [
      "['AAR', 'BYDEL', 'ALDER', 'STATKODE', 'PERSONER']\n",
      "['2015', '1', '0', '5100', '614']\n",
      "Row #3 ['2015', '1', '0', '5104', '2']\n",
      "Row #4 ['2015', '1', '0', '5106', '1']\n",
      "Row #5 ['2015', '1', '0', '5110', '1']\n",
      "Row #6 ['2015', '1', '0', '5120', '4']\n",
      "Row #7 ['2015', '1', '0', '5126', '1']\n",
      "Row #8 ['2015', '1', '0', '5130', '5']\n",
      "Row #9 ['2015', '1', '0', '5140', '3']\n",
      "Row #10 ['2015', '1', '0', '5150', '5']\n",
      "Row #11 ['2015', '1', '0', '5154', '1']\n",
      "Row #12 ['2015', '1', '0', '5164', '3']\n",
      "Row #13 ['2015', '1', '0', '5170', '3']\n",
      "Row #14 ['2015', '1', '0', '5180', '3']\n",
      "Row #15 ['2015', '1', '0', '5228', '1']\n",
      "Row #16 ['2015', '1', '0', '5306', '2']\n",
      "Row #17 ['2015', '1', '0', '5390', '1']\n",
      "Row #18 ['2015', '1', '0', '5448', '1']\n",
      "Row #19 ['2015', '1', '0', '5464', '1']\n",
      "Row #20 ['2015', '1', '0', '5472', '1']\n",
      "[\"['2015', '1', '0', '5104', '2']\", \"['2015', '1', '0', '5106', '1']\", \"['2015', '1', '0', '5110', '1']\", \"['2015', '1', '0', '5120', '4']\", \"['2015', '1', '0', '5126', '1']\", \"['2015', '1', '0', '5130', '5']\", \"['2015', '1', '0', '5140', '3']\", \"['2015', '1', '0', '5150', '5']\", \"['2015', '1', '0', '5154', '1']\", \"['2015', '1', '0', '5164', '3']\", \"['2015', '1', '0', '5170', '3']\", \"['2015', '1', '0', '5180', '3']\", \"['2015', '1', '0', '5228', '1']\", \"['2015', '1', '0', '5306', '2']\", \"['2015', '1', '0', '5390', '1']\", \"['2015', '1', '0', '5448', '1']\", \"['2015', '1', '0', '5464', '1']\", \"['2015', '1', '0', '5472', '1']\"]\n"
     ]
    }
   ],
   "source": [
    "from my_modules.Exercise2_import3_functions import read_file\n",
    "\n",
    "filename = './befkbhalderstatkode.csv'\n",
    "read_file(filename)\n"
   ]
  },
  {
   "cell_type": "code",
   "execution_count": null,
   "metadata": {},
   "outputs": [],
   "source": []
  },
  {
   "cell_type": "code",
   "execution_count": 26,
   "metadata": {},
   "outputs": [],
   "source": [
    "#Exercise 2\n",
    "\n",
    "#Create a module called utils.py and put the following functions inside:\n",
    " #   first function takes a path to a folder and writes all filenames in the folder to a specified output file\n",
    "Exsample_folders_path = \".\\my_modules\"\n",
    "    \n",
    "def filenames_in_folder(folder_path):\n",
    "    \"\"\"takes a path to a folder and writes all filenames in the folder to a specified output file\n",
    "    \n",
    "    Parameters:\n",
    "    folder_path: path to the folder, where content is found\n",
    "    \"\"\"\n",
    "    files = os.listdir(folder_path)\n",
    "    io.append_list_to_file(\"Exercise2_ex1_output.txt\", files)\n",
    "    for file in files:\n",
    "        if(os.folder_path.isdir(path + \"\\\\\" + file)):\n",
    "            filenames_in_folder(path + \"\\\\\" + file)\n",
    "\n",
    "            "
   ]
  },
  {
   "cell_type": "code",
   "execution_count": null,
   "metadata": {},
   "outputs": [],
   "source": [
    "def filenames_in_folder_to_outputfile(folder_path, output_file):\n",
    "    \"\"\"takes a path to a folder and writes all filenames in the folder to a specified output file\n",
    "    \n",
    "    Parameters:\n",
    "    folder_path: path to the folder, where content is found\n",
    "    \"\"\"\n",
    "    files = os.listdir(folder_path)\n",
    "    io.append_list_to_file(output_file , files)\n",
    "    for file in files:\n",
    "        if(os.folder_path.isdir(path + \"\\\\\" + file)):\n",
    "            filenames_in_folder(path + \"\\\\\" + file)\n"
   ]
  },
  {
   "cell_type": "code",
   "execution_count": null,
   "metadata": {},
   "outputs": [],
   "source": [
    "def print_first_line_in_file(file):\n",
    "    with open(file) as file:\n",
    "        print(file.readline())"
   ]
  },
  {
   "cell_type": "code",
   "execution_count": null,
   "metadata": {},
   "outputs": [],
   "source": [
    "def print_file_content_if_email(file):\n",
    "    with open(file) as file:\n",
    "        for line in file.readlines():\n",
    "            if('@' in line):\n",
    "                print(line)"
   ]
  },
  {
   "cell_type": "code",
   "execution_count": null,
   "metadata": {},
   "outputs": [],
   "source": []
  }
 ],
 "metadata": {
  "kernelspec": {
   "display_name": "Python 3",
   "language": "python",
   "name": "python3"
  },
  "language_info": {
   "codemirror_mode": {
    "name": "ipython",
    "version": 3
   },
   "file_extension": ".py",
   "mimetype": "text/x-python",
   "name": "python",
   "nbconvert_exporter": "python",
   "pygments_lexer": "ipython3",
   "version": "3.7.6"
  }
 },
 "nbformat": 4,
 "nbformat_minor": 4
}
