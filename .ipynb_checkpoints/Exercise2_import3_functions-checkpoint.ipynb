{
 "cells": [
  {
   "cell_type": "markdown",
   "metadata": {},
   "source": [
    "Write a python file with 3 functions:\n",
    "\n",
    "    def print_file_content(file) that can print content of a text file to the console\n",
    "    def write_list_to_file(output_file, lst) that can take a list or tuple and write each element to a new line in file\n",
    "        create a helper function that gets an arbitrary number of strings instead of a list\n",
    "    def read_file(input_file) that take a csv file and read each row into a list\n",
    "\n",
    "Add a functionality so that the program can be called from cli with 2 arguments\n",
    "\n",
    "    path to input file\n",
    "    an argument --file file_name to be used as the output file to write to.\n",
    "    if only the input file is given write output to console\n",
    "    if the input file is given with a list of extra words add those words to the output (whether to file or console)\n",
    "\n",
    "Add 'help' attributes to each cli argument to describe how the module is used\n"
   ]
  },
  {
   "cell_type": "code",
   "execution_count": 6,
   "metadata": {},
   "outputs": [
    {
     "name": "stdout",
     "output_type": "stream",
     "text": [
      "Hello World, im new to Python\n"
     ]
    }
   ],
   "source": [
    "\"exc 2.1\" \n",
    "def print_file_content(file):\n",
    "    \"\"\"print content of a text file to the console\"\"\"\n",
    "\n",
    "    with open(file) as infile_object:\n",
    "        lines = infile_object.readlines()\n",
    "    for line in lines:\n",
    "        print(line.rstrip())\n",
    "        \n",
    "#print_file_content(\"Exercise2_ ex1_input.txt\")"
   ]
  },
  {
   "cell_type": "code",
   "execution_count": 23,
   "metadata": {},
   "outputs": [
    {
     "name": "stdout",
     "output_type": "stream",
     "text": [
      "file saved\n"
     ]
    }
   ],
   "source": [
    "\"exc 2.2\"\n",
    "def write_list_to_file(output_file, lst):\n",
    "    \"\"\"can take a list or tuple and write each element to a new line in file\n",
    "    \n",
    "    \n",
    "    Parameters:\n",
    "    output_file: The file to write. \n",
    "    1st: what to write in output_file\n",
    "    \n",
    "    \"\"\"\n",
    "    #newfile = Path(Path.cwd()/ \"docker_notebooks\" / \"notebooks\" / \"my_notebooks\" / \"python_afleveringer\"/ output_file)\n",
    "     \n",
    "    with open(output_file, \"w\") as file_object:\n",
    "        [file_object.write(((item.replace(\"\\n\", \"\")).replace(\" \", \"\")) + \"\\n\") for item in lst if item.strip()]\n",
    "        \n",
    "    print (\"file saved\")  \n",
    "    \n",
    "#check\n",
    "#list_of_elements = [\"Bob\", \"John\", \"Joe\"]\n",
    "#write_list_to_file(\"Exercise2_ex1_output.txt\", list_of_elements)"
   ]
  },
  {
   "cell_type": "code",
   "execution_count": 75,
   "metadata": {},
   "outputs": [
    {
     "name": "stdout",
     "output_type": "stream",
     "text": [
      "['AAR', 'BYDEL', 'ALDER', 'STATKODE', 'PERSONER']\n",
      "['2015', '1', '0', '5100', '614']\n",
      "Row #3 ['2015', '1', '0', '5104', '2']\n",
      "Row #4 ['2015', '1', '0', '5106', '1']\n",
      "Row #5 ['2015', '1', '0', '5110', '1']\n",
      "Row #6 ['2015', '1', '0', '5120', '4']\n",
      "Row #7 ['2015', '1', '0', '5126', '1']\n",
      "Row #8 ['2015', '1', '0', '5130', '5']\n",
      "Row #9 ['2015', '1', '0', '5140', '3']\n",
      "Row #10 ['2015', '1', '0', '5150', '5']\n",
      "Row #11 ['2015', '1', '0', '5154', '1']\n",
      "Row #12 ['2015', '1', '0', '5164', '3']\n",
      "Row #13 ['2015', '1', '0', '5170', '3']\n",
      "Row #14 ['2015', '1', '0', '5180', '3']\n",
      "Row #15 ['2015', '1', '0', '5228', '1']\n",
      "Row #16 ['2015', '1', '0', '5306', '2']\n",
      "Row #17 ['2015', '1', '0', '5390', '1']\n",
      "Row #18 ['2015', '1', '0', '5448', '1']\n",
      "Row #19 ['2015', '1', '0', '5464', '1']\n",
      "Row #20 ['2015', '1', '0', '5472', '1']\n",
      "[\"['2015', '1', '0', '5104', '2']\", \"['2015', '1', '0', '5106', '1']\", \"['2015', '1', '0', '5110', '1']\", \"['2015', '1', '0', '5120', '4']\", \"['2015', '1', '0', '5126', '1']\", \"['2015', '1', '0', '5130', '5']\", \"['2015', '1', '0', '5140', '3']\", \"['2015', '1', '0', '5150', '5']\", \"['2015', '1', '0', '5154', '1']\", \"['2015', '1', '0', '5164', '3']\", \"['2015', '1', '0', '5170', '3']\", \"['2015', '1', '0', '5180', '3']\", \"['2015', '1', '0', '5228', '1']\", \"['2015', '1', '0', '5306', '2']\", \"['2015', '1', '0', '5390', '1']\", \"['2015', '1', '0', '5448', '1']\", \"['2015', '1', '0', '5464', '1']\", \"['2015', '1', '0', '5472', '1']\"]\n"
     ]
    }
   ],
   "source": [
    "\"exc 2.3\"\n",
    "import csv\n",
    "\n",
    "def read_file(input_file):\n",
    "    \"\"\"take a csv file and read each row into a list\n",
    "    \n",
    "    Parameters:\n",
    "    input_file: csv file to be read \n",
    "    \"\"\"\n",
    "    \n",
    "    with open(input_file) as f:\n",
    "        reader = csv.reader(f)\n",
    "        header_row = next(reader)\n",
    "        print(header_row)\n",
    "        data_row1 = next(reader)\n",
    "        print(data_row1)\n",
    "        cvs_list = []\n",
    "        for row in reader:\n",
    "            print('Row #' + str(reader.line_num) + ' ' + str(row))\n",
    "            cvs_list.append(str(row))\n",
    "        \n",
    "        print (cvs_list)\n",
    "        \n",
    "\n",
    "\n",
    "#check\n",
    "#filename = './befkbhalderstatkode.csv'\n",
    "#read_file(filename)\n",
    "    "
   ]
  },
  {
   "cell_type": "code",
   "execution_count": null,
   "metadata": {},
   "outputs": [],
   "source": []
  }
 ],
 "metadata": {
  "kernelspec": {
   "display_name": "Python 3",
   "language": "python",
   "name": "python3"
  },
  "language_info": {
   "codemirror_mode": {
    "name": "ipython",
    "version": 3
   },
   "file_extension": ".py",
   "mimetype": "text/x-python",
   "name": "python",
   "nbconvert_exporter": "python",
   "pygments_lexer": "ipython3",
   "version": "3.7.6"
  }
 },
 "nbformat": 4,
 "nbformat_minor": 4
}
