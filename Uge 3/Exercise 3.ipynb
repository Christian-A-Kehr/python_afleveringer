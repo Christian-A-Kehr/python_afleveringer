{
 "cells": [
  {
   "cell_type": "markdown",
   "metadata": {},
   "source": [
    "Ex 1 Classes\n",
    "\n",
    "    Create 3 classes: Student, DataSheet and Course\n",
    "    A student has a data_sheet and a data_sheet has multiple courses in particular order\n",
    "    Each course has name, classroom, teacher, ETCS and optional grade if course is taken.\n",
    "    In Student create init() so that a Student can be initiated with name, gender, data_sheet and image_url\n",
    "    In DataSheet create a method to get_grades_as_list()\n",
    "    In student create a method: get_avg_grade()\n",
    "    Create a function that can generate n number of students with random: name, gender, courses (from a fixed list of course names), grades, img_url\n",
    "        Let the function write the result to a csv file with format stud_name, course_name, teacher, ects, classroom, grade, img_url\n",
    "    Read student data into a list of Students from a csv file:\n",
    "        loop through the list and print each student with name, img_url and avg_grade.\n",
    "        sort the list by avg_grade\n",
    "        create a bar chart with student_name on x and avg_grade on y-axis\n",
    "    Make a method on Student class that can show progression of the study in % (add up ECTS from all passed courses divided by total of 150 total points (equivalent to 5 semesters))\n",
    "    Show a bar chart of distribution of study progression on x-axis and number of students in each category on y-axis. (e.g. make 10 categories from 0-100%)\n",
    "\n",
    "Extra: Make the Datasheet class iterable so that next(data_sheet) will return the next course in the list\n",
    "Ex 2 Exceptions\n",
    "\n",
    "    Create a function that can take a list of students and return the 3 students closest to completing their study.\n",
    "    If list is shorter than 3 raise your own custom exception (NotEnoughStudentsException)\n",
    "    Create another function that can create a csv file with 3 students closest to completion\n",
    "        If an exception is raised write an appropriate message to the file\n",
    "\n",
    "Ex 3 Plotting\n",
    "\n",
    "    Create a function that can take a list of students and show a pie chart of how students are distributed in ECTS percentage categories (10%, 20%, ...)\n",
    "    create a function that can take a list of students and show how many students have taken each course (bar chart)\n",
    "        create a method on student that can return a list of courses\n",
    "    make the figure show males and females in different colors for each course (display 2 datasets in same figure)\n"
   ]
  },
  {
   "cell_type": "code",
   "execution_count": 3,
   "metadata": {},
   "outputs": [],
   "source": [
    "# 3.Each course has name, classroom, teacher, ETCS and optional grade if course is taken.\n",
    "\n",
    "class Course:\n",
    "    \"\"\"A Course consists of name, classroom, teacher, ETCS.\n",
    "        \n",
    "    Paramenters:\n",
    "    name      : Name of the course\n",
    "    classroom : At what location dose the course find place  \n",
    "    teacher   : Who is teaching this course\n",
    "    ETCS      : How many ETCS points is this course worth\n",
    "    \"\"\"\n",
    "    def __init__(self, name, classroom, teacher, ETCS, grade = None): #and optional grade if course is taken.\n",
    "        self.name = name\n",
    "        self.classroom = classroom\n",
    "        self.teacher = teacher\n",
    "        self.ETCS = ETCS\n",
    "        self.grade = grade\n",
    "        \n",
    "    def __repr__(self):\n",
    "        return 'Course(%r, %r, %r, %r, %r  )' % (self.name, self.classroom, self.teacher, self.ETCS, self.grade)\n",
    "        \n",
    "    def __str__(self):\n",
    "        return '{name} in {location} teached by {teacher} class is worth {ETCS} ETCS points. current grade is: {grade}'.format(\n",
    "            name=self.name, location=self.classroom, teacher=self.teacher, ETCS=self.ETCS, grade = self.grade)\n",
    "\n",
    "  \n"
   ]
  },
  {
   "cell_type": "code",
   "execution_count": 4,
   "metadata": {},
   "outputs": [
    {
     "name": "stdout",
     "output_type": "stream",
     "text": [
      "Help on class Course in module __main__:\n",
      "\n",
      "class Course(builtins.object)\n",
      " |  Course(name, classroom, teacher, ETCS, grade=None)\n",
      " |  \n",
      " |  A Course consists of name, classroom, teacher, ETCS.\n",
      " |      \n",
      " |  Paramenters:\n",
      " |  name      : Name of the course\n",
      " |  classroom : At what location dose the course find place  \n",
      " |  teacher   : Who is teaching this course\n",
      " |  ETCS      : How many ETCS points is this course worth\n",
      " |  \n",
      " |  Methods defined here:\n",
      " |  \n",
      " |  __init__(self, name, classroom, teacher, ETCS, grade=None)\n",
      " |      Initialize self.  See help(type(self)) for accurate signature.\n",
      " |  \n",
      " |  __repr__(self)\n",
      " |      Return repr(self).\n",
      " |  \n",
      " |  __str__(self)\n",
      " |      Return str(self).\n",
      " |  \n",
      " |  ----------------------------------------------------------------------\n",
      " |  Data descriptors defined here:\n",
      " |  \n",
      " |  __dict__\n",
      " |      dictionary for instance variables (if defined)\n",
      " |  \n",
      " |  __weakref__\n",
      " |      list of weak references to the object (if defined)\n",
      "\n",
      "None\n",
      "Math in 123 teached by John Mathman class is worth 60 ETCS points. current grade is: A\n"
     ]
    },
    {
     "data": {
      "text/plain": [
       "'Math in 123 teached by John Mathman class is worth 60 ETCS points. current grade is: A'"
      ]
     },
     "execution_count": 4,
     "metadata": {},
     "output_type": "execute_result"
    }
   ],
   "source": [
    "test_course = Course(\"Math\",123,\"John Mathman\", 60, \"A\")\n",
    "print (help(Course))\n",
    "print (test_course)\n",
    "str(test_course)"
   ]
  },
  {
   "cell_type": "code",
   "execution_count": 5,
   "metadata": {},
   "outputs": [],
   "source": [
    "#2. A student has a data_sheet and a data_sheet has multiple courses in particular order\n",
    "#5. In DataSheet create a method to get_grades_as_list()\n",
    "\n",
    "class DataSheet():\n",
    "\n",
    "    def __init__(self, courses):\n",
    "        \"\"\"DataSheet contains multiple courses.\"\"\"\n",
    "        self.courses = []\n",
    "        for course in courses:\n",
    "            course = Course(course.name, course.classroom, course.teacher, course.ETCS, course.grade)\n",
    "            self.courses.append(course)\n",
    "       \n",
    "            \n",
    "    def __repr__(self):\n",
    "        return 'Courses: %r' % (self.courses)\n",
    "    \n",
    "        \n",
    "    def Sheet_overview(self, Course=1) -> Course:\n",
    "        \"\"\"Simulate opening a book, which returns a chapter \n",
    "        object.\"\"\" \n",
    "        return self.Courses[Course - 1]\n",
    "    \n",
    "    def get_grade_list(self):\n",
    "        grade_list= [course.name +\": \" + str(course.grade) for course in self.courses if course.grade != None]\n",
    "        return grade_list\n",
    "    \n",
    "    def get_grade_list_grades_only(self):\n",
    "        grade_list= [int(course.grade) for course in self.courses if course.grade != None]\n",
    "        return grade_list\n",
    "    "
   ]
  },
  {
   "cell_type": "code",
   "execution_count": 6,
   "metadata": {},
   "outputs": [
    {
     "name": "stdout",
     "output_type": "stream",
     "text": [
      "Courses: [Course('Math', 123, 'John Mathman', 60, '7'  ), Course('Gym', 456, 'Jim Jockman', 30, '10'  ), Course('Programing', 789, 'Nerd1', 120, None  )]\n",
      "Student is Attendeing\n",
      "['Math: 7', 'Gym: 10']\n"
     ]
    }
   ],
   "source": [
    "course1 = Course(\"Math\",123,\"John Mathman\", 60, \"7\")\n",
    "course2 = Course(\"Gym\",456,\"Jim Jockman\", 30, \"10\")\n",
    "course3 = Course(\"Programing\",789,\"Nerd1\", 120)\n",
    "\n",
    "list_of_courses = [course1, course2, course3]\n",
    "data_sheet1 = DataSheet(list_of_courses)\n",
    "\n",
    "print (data_sheet1)\n",
    "print (\"Student is Attendeing\")\n",
    "print (data_sheet1.get_grade_list())"
   ]
  },
  {
   "cell_type": "code",
   "execution_count": 7,
   "metadata": {},
   "outputs": [],
   "source": [
    "#4. In Student create init() so that a Student can be initiated with name, gender, data_sheet and image_url\n",
    "#6. In student create a method: get_avg_grade() \n",
    "class Student():\n",
    "    \n",
    "\n",
    "    def __init__(self, name, gender, data_sheet, image_url):\n",
    "        \"\"\"A Student has a datasheet containing courses.\"\"\"\n",
    "        self.name = name\n",
    "        self.gender = gender\n",
    "        self.data_sheet = data_sheet\n",
    "        self.image_url = image_url\n",
    "        \n",
    "    def __repr__(self):\n",
    "        return 'Student: (%r, %r, %r, %r)' % (self.name, self.gender, \n",
    "                                     self.data_sheet, self.image_url)\n",
    "        \n",
    "    def __str__(self): #///////////////// HERE \\\\\\\\\\\\\\\\\\\\\\\\\\\\\\\\\\\\\\\\\\\\\n",
    "        return 'Student name: {name} sex: {gender} has {data_sheet} image: {image}'.format(\n",
    "            name=self.name, gender=self.gender, data_sheet=self.data_sheet, image=self.image_url)\n",
    "    \n",
    "    def get_avg_grade(self):\n",
    "        grade_list = self.data_sheet.get_grade_list_grades_only()\n",
    "        avg_grade =  sum(grade_list)/len(grade_list)  \n",
    "        return avg_grade\n",
    "    \n",
    "# image => https://miro.medium.com/max/1266/1*Pb8oEA1nGIONsSJk7QSVzg.png   using this syntax ![](image url)\n",
    "    "
   ]
  },
  {
   "cell_type": "code",
   "execution_count": 8,
   "metadata": {},
   "outputs": [
    {
     "name": "stdout",
     "output_type": "stream",
     "text": [
      "8.5\n"
     ]
    }
   ],
   "source": [
    "student_test = Student(\"Snake\", \"male, gender\", data_sheet1, \"https://miro.medium.com/max/1266/1*Pb8oEA1nGIONsSJk7QSVzg.png\")\n",
    "#print (student_test)\n",
    "\n",
    "print (student_test.get_avg_grade())"
   ]
  },
  {
   "cell_type": "code",
   "execution_count": 18,
   "metadata": {},
   "outputs": [],
   "source": [
    "#7. Create a function that can generate n number of students with random: name, gender, courses\n",
    "#(from a fixed list of course names), grades, img_url\n",
    "#Let the function write the result to a csv file with format stud_name, course_name, teacher, ects, classroom, grade, img_url\n",
    "import random\n",
    "import csv\n",
    "#The choice() method returns a randomly selected element from the specified sequence\n",
    "#The choices() method returns a list with the randomly selected element from the specified sequence.\n",
    "\n",
    "def generat_students(number_of_student):\n",
    "    \"\"\"generats a number of students with random attributs\n",
    "    \n",
    "    Parameters:\n",
    "    number_of_students: the number of student the function is returning and writing to fill students.csv\n",
    "    \"\"\"\n",
    "    #Names\n",
    "    student_name_list_male = [\"John\", \"Bob\", \"Nicholas\", \" Rune\", \"Sven\", \"Jacob\"]\n",
    "    student_name_list_female = [\"Sue\", \"Linda\", \"Isabella\", \"Hanne\", \"Gitte\", \"Victoria\", \"Jannie\"]\n",
    "    student_lastname = [\"Larsen\", \"Poulsen\", \"Madsen\", \"Nilsen\"]\n",
    "    student_name_list = [ student_name_list_male, student_name_list_female ]\n",
    "    \n",
    "    #gender\n",
    "    genders = [\"Male\", \"Female\"]\n",
    "    \n",
    "    #grades\n",
    "    posible_grades = [\"2\" , \"4\" , \"7\" , \"10\" , \"12\"] # no one fail here \n",
    "\n",
    "    \n",
    "    \n",
    "    \n",
    "    #Picture\n",
    "    student_pic_male = [\"pic1\", \"pic2\", \"pic3\" ]\n",
    "    student_pic_female = [\"pic1\", \"pic2\", \"pic3\"]\n",
    "    pic = None\n",
    "    \n",
    "    count = 0\n",
    "    list_of_students = []\n",
    "   \n",
    "    \n",
    "    while count <number_of_student:\n",
    "        #Courses needs to have random grades pr student\n",
    "        course1 = Course(\"Math\",123,\"John Mathman\", 60, random.choice(posible_grades))\n",
    "        course2 = Course(\"Gym\",456,\"Jim Jockman\", 30, random.choice(posible_grades))\n",
    "        course3 = Course(\"Programing\",789,\"Robert Carradine\", 120, random.choice(posible_grades)) \n",
    "        course4 = Course(\"Hunting\",101,\"Bear Grylls\", 75, random.choice(posible_grades))\n",
    "        course5 = Course(\"Sailing\",102,\"Kpt Nemo\", 15, random.choice(posible_grades))\n",
    "        courses_list = [course1, course2, course3, course4, course5]\n",
    "        \n",
    "        #clear list of dublicats with set\n",
    "        random_course_list = set(random.choices(courses_list, k = random.randrange(1 , len(courses_list))))\n",
    "        new_datasheet = DataSheet(list(random_course_list))\n",
    "        # gender/name\n",
    "        name = None\n",
    "        gender = None\n",
    "        sex = str(random.choice(genders))\n",
    "        print (type(sex))\n",
    "        \n",
    "        if sex == \"Male\":\n",
    "            gender = \"Male\"\n",
    "            name = random.choice(student_name_list_male) + \" \" + random.choice(student_lastname)\n",
    "            pic = random.choice(student_pic_male)\n",
    "            \n",
    "        else:\n",
    "            gender = \"Female\"\n",
    "            name = random.choice(student_name_list_female) + \" \" + random.choice(student_lastname)\n",
    "            pic = random.choice(student_pic_female)\n",
    "        \n",
    "        new_student = Student(name, gender, new_datasheet, pic)\n",
    "        list_of_students.append(new_student)\n",
    "        count += 1\n",
    "        print (random.choices(genders))\n",
    "           \n",
    "    # check HERE\n",
    "    with open('students.csv', 'w', newline = '') as result_file:\n",
    "        header = ['stud_name', 'course_name', 'teacher', 'ects', 'classroom', 'grade', 'img_url']\n",
    "        writer = csv.DictWriter(result_file, fieldnames = header)\n",
    "        writer.writeheader()\n",
    "        for student in list_of_students:\n",
    "            for c in student.data_sheet.courses:\n",
    "                writer.writerow({'stud_name':student.name, 'course_name': c.name,\n",
    "                                 'teacher':c.teacher, 'ects':c.ETCS, 'classroom':c.classroom,\n",
    "                                 'grade':c.grade, 'img_url':student.image_url})\n",
    "    \n",
    "    return list_of_students\n",
    "        \n",
    "        \n",
    "        #'\\n'.join('{}: {}'.format(*k) for k in enumerate(lst))\n",
    "        \n",
    "        #print (new_datasheet)"
   ]
  },
  {
   "cell_type": "code",
   "execution_count": 21,
   "metadata": {},
   "outputs": [
    {
     "name": "stdout",
     "output_type": "stream",
     "text": [
      "<class 'str'>\n",
      "['Male']\n",
      "<class 'str'>\n",
      "['Female']\n",
      "<class 'str'>\n",
      "['Male']\n",
      "<class 'str'>\n",
      "['Female']\n"
     ]
    },
    {
     "data": {
      "text/plain": [
       "[Student: ('Bob Madsen', 'Male', Courses: [Course('Programing', 789, 'Robert Carradine', 120, '2'  ), Course('Gym', 456, 'Jim Jockman', 30, '10'  )], 'pic3'),\n",
       " Student: ('Isabella Larsen', 'Female', Courses: [Course('Hunting', 101, 'Bear Grylls', 75, '7'  ), Course('Programing', 789, 'Robert Carradine', 120, '12'  ), Course('Gym', 456, 'Jim Jockman', 30, '10'  )], 'pic1'),\n",
       " Student: (' Rune Nilsen', 'Male', Courses: [Course('Sailing', 102, 'Kpt Nemo', 15, '4'  ), Course('Math', 123, 'John Mathman', 60, '2'  ), Course('Hunting', 101, 'Bear Grylls', 75, '10'  )], 'pic2'),\n",
       " Student: ('Hanne Nilsen', 'Female', Courses: [Course('Gym', 456, 'Jim Jockman', 30, '10'  ), Course('Math', 123, 'John Mathman', 60, '7'  )], 'pic1')]"
      ]
     },
     "execution_count": 21,
     "metadata": {},
     "output_type": "execute_result"
    }
   ],
   "source": [
    " generat_students(4)"
   ]
  },
  {
   "cell_type": "code",
   "execution_count": 38,
   "metadata": {},
   "outputs": [],
   "source": [
    "#8. Read student data into a list of Students from a csv file:\n",
    "import csv\n",
    "\n",
    "#csv_file_to_use = \"students.csv\" \n",
    "\n",
    "def read_students_from_csv(csv_file = \"students.csv\"):\n",
    "    \"\"\"Reads from a csv file \n",
    "    \n",
    "    \"\"\"\n",
    "    students = []\n",
    "    with open(\"students.csv\") as f:\n",
    "        reader = csv.reader(f)\n",
    "        header_row = next(reader)\n",
    "        \n",
    "        for row in reader:\n",
    "            #laver course\n",
    "            c_name = row[1]\n",
    "            teacher = row[2]\n",
    "            ects = row[3]\n",
    "            classroom = row[4]\n",
    "            grade = int(row[5])\n",
    "            course = Course(c_name, classroom, teacher, ects, grade)\n",
    "            #laver data sheet\n",
    "            courses = [course]\n",
    "            data_sheet = DataSheet(courses)\n",
    "            #laver student\n",
    "            s_name = row[0]\n",
    "            #s_sex = could use list_of_names_male/female + in method to find gender.... if I had the time..\n",
    "            s_img_url = row[6]\n",
    "            student = Student(s_name, \"\" , data_sheet, s_img_url)\n",
    "            students.append(student)\n",
    "    s_names = set([student.name for student in students])\n",
    "    s_result = []\n",
    "    for name in s_names:\n",
    "        courses = []\n",
    "        s_name = ''\n",
    "        s_img_url = ''\n",
    "        for s in students:\n",
    "            if name == s.name:\n",
    "                courses += s.data_sheet.courses\n",
    "                s_name = s.name\n",
    "                # s_sex = s.gender\n",
    "                s_img_url = s.image_url\n",
    "        ds_result = DataSheet(courses)\n",
    "        student_result = Student(s_name, \"\", ds_result, s_img_url)\n",
    "        s_result.append(student_result)\n",
    "    return s_result\n",
    "    \n"
   ]
  },
  {
   "cell_type": "code",
   "execution_count": 45,
   "metadata": {},
   "outputs": [
    {
     "data": {
      "text/plain": [
       "[Student: ('Hanne Nilsen', '', Courses: [Course('Gym', '456', 'Jim Jockman', '30', 10  ), Course('Math', '123', 'John Mathman', '60', 7  )], 'pic1'),\n",
       " Student: (' Rune Nilsen', '', Courses: [Course('Sailing', '102', 'Kpt Nemo', '15', 4  ), Course('Math', '123', 'John Mathman', '60', 2  ), Course('Hunting', '101', 'Bear Grylls', '75', 10  )], 'pic2'),\n",
       " Student: ('Isabella Larsen', '', Courses: [Course('Hunting', '101', 'Bear Grylls', '75', 7  ), Course('Programing', '789', 'Robert Carradine', '120', 12  ), Course('Gym', '456', 'Jim Jockman', '30', 10  )], 'pic1'),\n",
       " Student: ('Bob Madsen', '', Courses: [Course('Programing', '789', 'Robert Carradine', '120', 2  ), Course('Gym', '456', 'Jim Jockman', '30', 10  )], 'pic3')]"
      ]
     },
     "execution_count": 45,
     "metadata": {},
     "output_type": "execute_result"
    }
   ],
   "source": [
    "#A. loop through the list and print each student with name, img_url and avg_grade.\n",
    "csv_file_to_use = \"students.csv\"\n",
    "read_students_from_csv(csv_file_to_use)\n"
   ]
  },
  {
   "cell_type": "code",
   "execution_count": 48,
   "metadata": {},
   "outputs": [
    {
     "name": "stdout",
     "output_type": "stream",
     "text": [
      "name : Hanne Nilsen, img_url : pic1 , average grade : 8.5\n",
      "name :  Rune Nilsen, img_url : pic2 , average grade : 5.333333333333333\n",
      "name : Isabella Larsen, img_url : pic1 , average grade : 9.666666666666666\n",
      "name : Bob Madsen, img_url : pic3 , average grade : 6.0\n",
      "[('Isabella Larsen', 'pic1', 9.666666666666666), ('Hanne Nilsen', 'pic1', 8.5), ('Bob Madsen', 'pic3', 6.0), (' Rune Nilsen', 'pic2', 5.333333333333333)]\n"
     ]
    }
   ],
   "source": [
    "#B. sort the list by avg_grade\n",
    "students_from_csv = read_students_from_csv()\n",
    "avg_grade_list = []\n",
    "for s in students_from_csv:\n",
    "    grade_total = 0\n",
    "    for c in s.data_sheet.courses:\n",
    "        grade_total += int(c.grade)\n",
    "    avg_grade = grade_total/len(s.data_sheet.courses)\n",
    "    avg_grade_list.append((s.name, s.image_url, avg_grade))\n",
    "    print('name : ' + s.name + ', img_url : ' + s.image_url + ' , average grade : ' + str(avg_grade))\n",
    "    \n",
    "#sort the list by avg_grade\n",
    "students_sorted_by_grade = sorted(avg_grade_list, key=lambda student: student[2], reverse=True)\n",
    "print(students_sorted_by_grade)\n"
   ]
  },
  {
   "cell_type": "code",
   "execution_count": null,
   "metadata": {},
   "outputs": [],
   "source": []
  }
 ],
 "metadata": {
  "kernelspec": {
   "display_name": "Python 3",
   "language": "python",
   "name": "python3"
  },
  "language_info": {
   "codemirror_mode": {
    "name": "ipython",
    "version": 3
   },
   "file_extension": ".py",
   "mimetype": "text/x-python",
   "name": "python",
   "nbconvert_exporter": "python",
   "pygments_lexer": "ipython3",
   "version": "3.7.6"
  }
 },
 "nbformat": 4,
 "nbformat_minor": 4
}
